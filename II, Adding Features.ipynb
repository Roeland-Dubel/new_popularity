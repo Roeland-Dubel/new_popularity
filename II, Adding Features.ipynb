{
 "cells": [
  {
   "cell_type": "code",
   "execution_count": 1,
   "id": "03fd6497-1806-4dca-8746-5d8e79ed6441",
   "metadata": {},
   "outputs": [],
   "source": [
    "#We import the necessary libraries.\n",
    "import pandas as pd\n",
    "from tqdm import tqdm\n",
    "import pandas as pd\n",
    "import json\n",
    "from pandas import json_normalize\n",
    "import re\n",
    "from collections import Counter\n",
    "import numpy as np\n",
    "import sys\n",
    "from scipy import stats\n",
    "import matplotlib.pyplot as plt"
   ]
  },
  {
   "cell_type": "markdown",
   "id": "9806e2af-ce5f-41f5-8761-4437681b2c1a",
   "metadata": {},
   "source": [
    "## Reading Lagged File"
   ]
  },
  {
   "cell_type": "code",
   "execution_count": 2,
   "id": "d9297cc5-457e-4b05-9fbc-18f7aebbd35d",
   "metadata": {},
   "outputs": [],
   "source": [
    "#We read the created 'New Publications' file in script I, which excluded old articles.\n",
    "df = pd.read_csv(\"New Publications.csv\")"
   ]
  },
  {
   "cell_type": "code",
   "execution_count": 3,
   "id": "67c92416-77e1-4afa-b94d-38bb03022dc3",
   "metadata": {},
   "outputs": [
    {
     "name": "stdout",
     "output_type": "stream",
     "text": [
      "False    17784352\n",
      "dtype: int64\n"
     ]
    }
   ],
   "source": [
    "#We check for duplicates.\n",
    "print(df.duplicated().value_counts())"
   ]
  },
  {
   "cell_type": "code",
   "execution_count": 4,
   "id": "557e7a88-5033-4c2e-9b95-aa5d1a19e620",
   "metadata": {},
   "outputs": [],
   "source": [
    "#We order the dataframe on date within each publication (this is how the file was already structured, but just to be sure).\n",
    "df = df.groupby([\"Newspaper\", \"Landing page\"]).apply(lambda x: x.sort_values(\"Timestamp date\")).reset_index(drop=True)"
   ]
  },
  {
   "cell_type": "code",
   "execution_count": 5,
   "id": "3cba1c6b-8c9e-46ec-8fd2-535943c4f2e4",
   "metadata": {},
   "outputs": [],
   "source": [
    "#We add the value one as a column, the difference between rows is namely 1 hour across publications.\n",
    "df[\"Hour\"] = 1\n",
    "#We take the sum of this column cumulatively within each publication, thus creating the hours passed.\n",
    "df[\"Hours passed\"] = df.groupby([\"Newspaper\", \"Landing page\"])[\"Hour\"].cumsum()\n",
    "#We drop the original column.\n",
    "df = df.drop(columns = [\"Hour\"])"
   ]
  },
  {
   "cell_type": "code",
   "execution_count": 6,
   "id": "5e6b3c56-db64-4723-877a-bdd4f26f17eb",
   "metadata": {},
   "outputs": [],
   "source": [
    "#We create a function that calculates the percentage across columns.\n",
    "def get_percentage(col1, col2): \n",
    "    return col1 / col2 * 100"
   ]
  },
  {
   "cell_type": "code",
   "execution_count": 7,
   "id": "8db1bb93-0470-454e-ad0e-fb4307477a2a",
   "metadata": {},
   "outputs": [],
   "source": [
    "#We also take the sum of views cumulatively within each publication.\n",
    "df[\"Added views\"] = df.groupby([\"Newspaper\", \"Landing page\"])[\"Views\"].cumsum()\n",
    "#We also calculate the total sum of views.\n",
    "df[\"Total views\"] = df.groupby([\"Newspaper\", \"Landing page\"])[\"Views\"].transform(\"sum\")\n",
    "#We calculate the percentage between those for each row.\n",
    "df[\"Percentage\"] = get_percentage(df[\"Added views\"], df[\"Total views\"])"
   ]
  },
  {
   "cell_type": "code",
   "execution_count": 8,
   "id": "492c9963-d761-4f09-b70b-b60a04ee558d",
   "metadata": {},
   "outputs": [
    {
     "data": {
      "text/html": [
       "<div>\n",
       "<style scoped>\n",
       "    .dataframe tbody tr th:only-of-type {\n",
       "        vertical-align: middle;\n",
       "    }\n",
       "\n",
       "    .dataframe tbody tr th {\n",
       "        vertical-align: top;\n",
       "    }\n",
       "\n",
       "    .dataframe thead th {\n",
       "        text-align: right;\n",
       "    }\n",
       "</style>\n",
       "<table border=\"1\" class=\"dataframe\">\n",
       "  <thead>\n",
       "    <tr style=\"text-align: right;\">\n",
       "      <th></th>\n",
       "      <th>Newspaper</th>\n",
       "      <th>Landing page</th>\n",
       "      <th>Timestamp date</th>\n",
       "      <th>Views</th>\n",
       "      <th>Publication date</th>\n",
       "      <th>Hours passed</th>\n",
       "      <th>Added views</th>\n",
       "      <th>Total views</th>\n",
       "      <th>Percentage</th>\n",
       "    </tr>\n",
       "  </thead>\n",
       "  <tbody>\n",
       "    <tr>\n",
       "      <th>0</th>\n",
       "      <td>Gooieneemlander</td>\n",
       "      <td>/cnt/dmf20190705_81476516</td>\n",
       "      <td>2021-05-26 19:00:00</td>\n",
       "      <td>0</td>\n",
       "      <td>2021-05-26 19:00:00</td>\n",
       "      <td>1</td>\n",
       "      <td>0</td>\n",
       "      <td>3</td>\n",
       "      <td>0.0</td>\n",
       "    </tr>\n",
       "    <tr>\n",
       "      <th>1</th>\n",
       "      <td>Gooieneemlander</td>\n",
       "      <td>/cnt/dmf20190705_81476516</td>\n",
       "      <td>2021-05-26 20:00:00</td>\n",
       "      <td>0</td>\n",
       "      <td>2021-05-26 19:00:00</td>\n",
       "      <td>2</td>\n",
       "      <td>0</td>\n",
       "      <td>3</td>\n",
       "      <td>0.0</td>\n",
       "    </tr>\n",
       "    <tr>\n",
       "      <th>2</th>\n",
       "      <td>Gooieneemlander</td>\n",
       "      <td>/cnt/dmf20190705_81476516</td>\n",
       "      <td>2021-05-26 21:00:00</td>\n",
       "      <td>0</td>\n",
       "      <td>2021-05-26 19:00:00</td>\n",
       "      <td>3</td>\n",
       "      <td>0</td>\n",
       "      <td>3</td>\n",
       "      <td>0.0</td>\n",
       "    </tr>\n",
       "    <tr>\n",
       "      <th>3</th>\n",
       "      <td>Gooieneemlander</td>\n",
       "      <td>/cnt/dmf20190705_81476516</td>\n",
       "      <td>2021-05-26 22:00:00</td>\n",
       "      <td>0</td>\n",
       "      <td>2021-05-26 19:00:00</td>\n",
       "      <td>4</td>\n",
       "      <td>0</td>\n",
       "      <td>3</td>\n",
       "      <td>0.0</td>\n",
       "    </tr>\n",
       "    <tr>\n",
       "      <th>4</th>\n",
       "      <td>Gooieneemlander</td>\n",
       "      <td>/cnt/dmf20190705_81476516</td>\n",
       "      <td>2021-05-26 23:00:00</td>\n",
       "      <td>0</td>\n",
       "      <td>2021-05-26 19:00:00</td>\n",
       "      <td>5</td>\n",
       "      <td>0</td>\n",
       "      <td>3</td>\n",
       "      <td>0.0</td>\n",
       "    </tr>\n",
       "  </tbody>\n",
       "</table>\n",
       "</div>"
      ],
      "text/plain": [
       "         Newspaper               Landing page       Timestamp date  Views  \\\n",
       "0  Gooieneemlander  /cnt/dmf20190705_81476516  2021-05-26 19:00:00      0   \n",
       "1  Gooieneemlander  /cnt/dmf20190705_81476516  2021-05-26 20:00:00      0   \n",
       "2  Gooieneemlander  /cnt/dmf20190705_81476516  2021-05-26 21:00:00      0   \n",
       "3  Gooieneemlander  /cnt/dmf20190705_81476516  2021-05-26 22:00:00      0   \n",
       "4  Gooieneemlander  /cnt/dmf20190705_81476516  2021-05-26 23:00:00      0   \n",
       "\n",
       "      Publication date  Hours passed  Added views  Total views  Percentage  \n",
       "0  2021-05-26 19:00:00             1            0            3         0.0  \n",
       "1  2021-05-26 19:00:00             2            0            3         0.0  \n",
       "2  2021-05-26 19:00:00             3            0            3         0.0  \n",
       "3  2021-05-26 19:00:00             4            0            3         0.0  \n",
       "4  2021-05-26 19:00:00             5            0            3         0.0  "
      ]
     },
     "execution_count": 8,
     "metadata": {},
     "output_type": "execute_result"
    }
   ],
   "source": [
    "#We inspect the data.\n",
    "df.head()"
   ]
  },
  {
   "cell_type": "code",
   "execution_count": 9,
   "id": "4d7d9af1-a394-40ef-a63d-fbcbeb05407d",
   "metadata": {},
   "outputs": [],
   "source": [
    "#We also create a column with the time of the day, thus only keeping the hour of the datetime object.\n",
    "df[\"Time of the day\"] = df[\"Timestamp date\"].apply(lambda x: x[11:-6])"
   ]
  },
  {
   "cell_type": "markdown",
   "id": "b6305896-5abe-4aec-a06d-a0f3414ca493",
   "metadata": {},
   "source": [
    "## Shelf-life"
   ]
  },
  {
   "cell_type": "code",
   "execution_count": 10,
   "id": "3680f8c3-36d3-4331-af53-e7b569d73c1e",
   "metadata": {},
   "outputs": [],
   "source": [
    "#We combine our existing data with a subset of it. Namely we subset our data to only include rows in which atleast 90% of the views have been reached.\n",
    "#We than group this by publication, and take the first row. The hours passed thus now indicates the amount of hours it took to reach the 90%-mark.\n",
    "df = df.merge(df[df.Percentage >= 90][[\"Newspaper\", \"Landing page\", \"Hours passed\"]].groupby([\"Newspaper\", \"Landing page\"]).nth(0)\\\n",
    ".reset_index().rename(columns = {\"Hours passed\": \"Shelf-life\"}), how=\"left\", on=[\"Newspaper\", \"Landing page\"])"
   ]
  },
  {
   "cell_type": "markdown",
   "id": "8103a1fd-b285-47e5-804d-12f24eb0a516",
   "metadata": {},
   "source": [
    "## Half-life"
   ]
  },
  {
   "cell_type": "code",
   "execution_count": 11,
   "id": "6cabe5bf-2f32-4be3-80b1-1b5512d19943",
   "metadata": {},
   "outputs": [],
   "source": [
    "#We do the same but now for half-life: the first moment that 50% of the views was reached.\n",
    "df = df.merge(df[df.Percentage >= 50][[\"Newspaper\", \"Landing page\", \"Hours passed\"]].groupby([\"Newspaper\", \"Landing page\"]).nth(0)\\\n",
    ".reset_index().rename(columns = {\"Hours passed\": \"Half-life\"}), how=\"left\", on=[\"Newspaper\", \"Landing page\"])"
   ]
  },
  {
   "cell_type": "markdown",
   "id": "259ea728-4da9-4f26-a112-cbee67e7163d",
   "metadata": {},
   "source": [
    "## Hours till Peak"
   ]
  },
  {
   "cell_type": "code",
   "execution_count": 12,
   "id": "3d465f9d-ea35-4818-8b61-852547b4e5f8",
   "metadata": {},
   "outputs": [],
   "source": [
    "#We look for the highest amount of views reached within one hour for each publication.\n",
    "df[\"Peak views\"] = df.groupby([\"Newspaper\", \"Landing page\"])[\"Views\"].transform(\"max\")"
   ]
  },
  {
   "cell_type": "code",
   "execution_count": 13,
   "id": "b6b17d20-1f12-4e9b-9604-5f618284ce0a",
   "metadata": {},
   "outputs": [],
   "source": [
    "#In a similar fashion as for the 'life'-metrics, we look for how many hours it took to for the first time reach its maximum amount of views ever.\n",
    "df = df.merge(df[df.Views == df[\"Peak views\"]][[\"Newspaper\", \"Landing page\", \"Hours passed\"]].groupby([\"Newspaper\", \"Landing page\"]).nth(0)\\\n",
    ".reset_index().rename(columns = {\"Hours passed\": \"Hours till peak\"}), how=\"left\", on=[\"Newspaper\", \"Landing page\"])"
   ]
  },
  {
   "cell_type": "code",
   "execution_count": 14,
   "id": "89916c24-3a11-419b-8a56-1bc494692480",
   "metadata": {},
   "outputs": [
    {
     "data": {
      "text/html": [
       "<div>\n",
       "<style scoped>\n",
       "    .dataframe tbody tr th:only-of-type {\n",
       "        vertical-align: middle;\n",
       "    }\n",
       "\n",
       "    .dataframe tbody tr th {\n",
       "        vertical-align: top;\n",
       "    }\n",
       "\n",
       "    .dataframe thead th {\n",
       "        text-align: right;\n",
       "    }\n",
       "</style>\n",
       "<table border=\"1\" class=\"dataframe\">\n",
       "  <thead>\n",
       "    <tr style=\"text-align: right;\">\n",
       "      <th></th>\n",
       "      <th>Shelf-life</th>\n",
       "      <th>Half-life</th>\n",
       "      <th>Hours till peak</th>\n",
       "    </tr>\n",
       "  </thead>\n",
       "  <tbody>\n",
       "    <tr>\n",
       "      <th>count</th>\n",
       "      <td>46550</td>\n",
       "      <td>46550</td>\n",
       "      <td>46550</td>\n",
       "    </tr>\n",
       "    <tr>\n",
       "      <th>mean</th>\n",
       "      <td>168</td>\n",
       "      <td>31</td>\n",
       "      <td>15</td>\n",
       "    </tr>\n",
       "    <tr>\n",
       "      <th>std</th>\n",
       "      <td>324</td>\n",
       "      <td>110</td>\n",
       "      <td>85</td>\n",
       "    </tr>\n",
       "    <tr>\n",
       "      <th>min</th>\n",
       "      <td>1</td>\n",
       "      <td>1</td>\n",
       "      <td>1</td>\n",
       "    </tr>\n",
       "    <tr>\n",
       "      <th>25%</th>\n",
       "      <td>8</td>\n",
       "      <td>2</td>\n",
       "      <td>1</td>\n",
       "    </tr>\n",
       "    <tr>\n",
       "      <th>50%</th>\n",
       "      <td>34</td>\n",
       "      <td>6</td>\n",
       "      <td>2</td>\n",
       "    </tr>\n",
       "    <tr>\n",
       "      <th>75%</th>\n",
       "      <td>136</td>\n",
       "      <td>17</td>\n",
       "      <td>5</td>\n",
       "    </tr>\n",
       "    <tr>\n",
       "      <th>max</th>\n",
       "      <td>2115</td>\n",
       "      <td>2072</td>\n",
       "      <td>2072</td>\n",
       "    </tr>\n",
       "  </tbody>\n",
       "</table>\n",
       "</div>"
      ],
      "text/plain": [
       "       Shelf-life  Half-life  Hours till peak\n",
       "count       46550      46550            46550\n",
       "mean          168         31               15\n",
       "std           324        110               85\n",
       "min             1          1                1\n",
       "25%             8          2                1\n",
       "50%            34          6                2\n",
       "75%           136         17                5\n",
       "max          2115       2072             2072"
      ]
     },
     "execution_count": 14,
     "metadata": {},
     "output_type": "execute_result"
    }
   ],
   "source": [
    "#We quickly inspect the created columns.\n",
    "df.groupby([\"Newspaper\", \"Landing page\"]).nth(0).reset_index()[[\"Shelf-life\", \"Half-life\", \"Hours till peak\"]].describe().astype(int)"
   ]
  },
  {
   "cell_type": "markdown",
   "id": "10d81d79-2002-4cf6-8cdf-2b6a4e74b660",
   "metadata": {},
   "source": [
    "## Popularity Rank"
   ]
  },
  {
   "cell_type": "code",
   "execution_count": 15,
   "id": "6cb1415e-fe84-4ea4-9b57-c41ce2951a5f",
   "metadata": {},
   "outputs": [],
   "source": [
    "#We create a ranking metric, in which within each hours of each newspaper the articles are ranked on the basis of their views.\n",
    "df[\"Popularity rank\"] = df.groupby([\"Newspaper\", \"Timestamp date\"])[\"Views\"].rank(method=\"min\", ascending=False)"
   ]
  },
  {
   "cell_type": "code",
   "execution_count": 16,
   "id": "375dd73f-fdc3-4611-9f26-8a0f6bf9eae1",
   "metadata": {},
   "outputs": [
    {
     "data": {
      "text/html": [
       "<div>\n",
       "<style scoped>\n",
       "    .dataframe tbody tr th:only-of-type {\n",
       "        vertical-align: middle;\n",
       "    }\n",
       "\n",
       "    .dataframe tbody tr th {\n",
       "        vertical-align: top;\n",
       "    }\n",
       "\n",
       "    .dataframe thead th {\n",
       "        text-align: right;\n",
       "    }\n",
       "</style>\n",
       "<table border=\"1\" class=\"dataframe\">\n",
       "  <thead>\n",
       "    <tr style=\"text-align: right;\">\n",
       "      <th></th>\n",
       "      <th>Newspaper</th>\n",
       "      <th>Landing page</th>\n",
       "      <th>Timestamp date</th>\n",
       "      <th>Views</th>\n",
       "      <th>Publication date</th>\n",
       "      <th>Hours passed</th>\n",
       "      <th>Added views</th>\n",
       "      <th>Total views</th>\n",
       "      <th>Percentage</th>\n",
       "      <th>Time of the day</th>\n",
       "      <th>Shelf-life</th>\n",
       "      <th>Half-life</th>\n",
       "      <th>Peak views</th>\n",
       "      <th>Hours till peak</th>\n",
       "      <th>Popularity rank</th>\n",
       "    </tr>\n",
       "  </thead>\n",
       "  <tbody>\n",
       "    <tr>\n",
       "      <th>11901883</th>\n",
       "      <td>Noordhollandsdagblad</td>\n",
       "      <td>/cnt/dmf20210430_111098</td>\n",
       "      <td>2021-05-01 10:00:00</td>\n",
       "      <td>12532</td>\n",
       "      <td>2021-04-30 19:00:00</td>\n",
       "      <td>16</td>\n",
       "      <td>33715</td>\n",
       "      <td>122780</td>\n",
       "      <td>27.459684</td>\n",
       "      <td>10</td>\n",
       "      <td>77</td>\n",
       "      <td>49</td>\n",
       "      <td>12532</td>\n",
       "      <td>16</td>\n",
       "      <td>1.0</td>\n",
       "    </tr>\n",
       "    <tr>\n",
       "      <th>7958040</th>\n",
       "      <td>Leidschdagblad</td>\n",
       "      <td>/cnt/dmf20210706_50014093</td>\n",
       "      <td>2021-07-06 20:00:00</td>\n",
       "      <td>12093</td>\n",
       "      <td>2021-07-06 20:00:00</td>\n",
       "      <td>1</td>\n",
       "      <td>12093</td>\n",
       "      <td>16550</td>\n",
       "      <td>73.069486</td>\n",
       "      <td>20</td>\n",
       "      <td>4</td>\n",
       "      <td>1</td>\n",
       "      <td>12093</td>\n",
       "      <td>1</td>\n",
       "      <td>1.0</td>\n",
       "    </tr>\n",
       "    <tr>\n",
       "      <th>17741027</th>\n",
       "      <td>Noordhollandsdagblad</td>\n",
       "      <td>/cnt/dmf20210706_50014093</td>\n",
       "      <td>2021-07-06 21:00:00</td>\n",
       "      <td>10569</td>\n",
       "      <td>2021-07-06 20:00:00</td>\n",
       "      <td>2</td>\n",
       "      <td>13835</td>\n",
       "      <td>36983</td>\n",
       "      <td>37.409080</td>\n",
       "      <td>21</td>\n",
       "      <td>21</td>\n",
       "      <td>4</td>\n",
       "      <td>10569</td>\n",
       "      <td>2</td>\n",
       "      <td>1.0</td>\n",
       "    </tr>\n",
       "    <tr>\n",
       "      <th>14101276</th>\n",
       "      <td>Noordhollandsdagblad</td>\n",
       "      <td>/cnt/dmf20210516_61210176</td>\n",
       "      <td>2021-05-16 20:00:00</td>\n",
       "      <td>9123</td>\n",
       "      <td>2021-05-16 19:00:00</td>\n",
       "      <td>2</td>\n",
       "      <td>17460</td>\n",
       "      <td>112701</td>\n",
       "      <td>15.492320</td>\n",
       "      <td>20</td>\n",
       "      <td>25</td>\n",
       "      <td>15</td>\n",
       "      <td>9123</td>\n",
       "      <td>2</td>\n",
       "      <td>1.0</td>\n",
       "    </tr>\n",
       "    <tr>\n",
       "      <th>12128607</th>\n",
       "      <td>Noordhollandsdagblad</td>\n",
       "      <td>/cnt/dmf20210501_18794464</td>\n",
       "      <td>2021-05-01 09:00:00</td>\n",
       "      <td>8792</td>\n",
       "      <td>2021-05-01 08:00:00</td>\n",
       "      <td>2</td>\n",
       "      <td>17042</td>\n",
       "      <td>46276</td>\n",
       "      <td>36.826865</td>\n",
       "      <td>09</td>\n",
       "      <td>24</td>\n",
       "      <td>4</td>\n",
       "      <td>8792</td>\n",
       "      <td>2</td>\n",
       "      <td>1.0</td>\n",
       "    </tr>\n",
       "    <tr>\n",
       "      <th>...</th>\n",
       "      <td>...</td>\n",
       "      <td>...</td>\n",
       "      <td>...</td>\n",
       "      <td>...</td>\n",
       "      <td>...</td>\n",
       "      <td>...</td>\n",
       "      <td>...</td>\n",
       "      <td>...</td>\n",
       "      <td>...</td>\n",
       "      <td>...</td>\n",
       "      <td>...</td>\n",
       "      <td>...</td>\n",
       "      <td>...</td>\n",
       "      <td>...</td>\n",
       "      <td>...</td>\n",
       "    </tr>\n",
       "    <tr>\n",
       "      <th>6100968</th>\n",
       "      <td>Leidschdagblad</td>\n",
       "      <td>/cnt/dmf20210423_60516251</td>\n",
       "      <td>2021-05-25 09:00:00</td>\n",
       "      <td>0</td>\n",
       "      <td>2021-04-23 18:00:00</td>\n",
       "      <td>760</td>\n",
       "      <td>237</td>\n",
       "      <td>263</td>\n",
       "      <td>90.114068</td>\n",
       "      <td>09</td>\n",
       "      <td>743</td>\n",
       "      <td>15</td>\n",
       "      <td>55</td>\n",
       "      <td>4</td>\n",
       "      <td>88.0</td>\n",
       "    </tr>\n",
       "    <tr>\n",
       "      <th>6100969</th>\n",
       "      <td>Leidschdagblad</td>\n",
       "      <td>/cnt/dmf20210423_60516251</td>\n",
       "      <td>2021-05-25 10:00:00</td>\n",
       "      <td>0</td>\n",
       "      <td>2021-04-23 18:00:00</td>\n",
       "      <td>761</td>\n",
       "      <td>237</td>\n",
       "      <td>263</td>\n",
       "      <td>90.114068</td>\n",
       "      <td>10</td>\n",
       "      <td>743</td>\n",
       "      <td>15</td>\n",
       "      <td>55</td>\n",
       "      <td>4</td>\n",
       "      <td>100.0</td>\n",
       "    </tr>\n",
       "    <tr>\n",
       "      <th>6100970</th>\n",
       "      <td>Leidschdagblad</td>\n",
       "      <td>/cnt/dmf20210423_60516251</td>\n",
       "      <td>2021-05-25 11:00:00</td>\n",
       "      <td>0</td>\n",
       "      <td>2021-04-23 18:00:00</td>\n",
       "      <td>762</td>\n",
       "      <td>237</td>\n",
       "      <td>263</td>\n",
       "      <td>90.114068</td>\n",
       "      <td>11</td>\n",
       "      <td>743</td>\n",
       "      <td>15</td>\n",
       "      <td>55</td>\n",
       "      <td>4</td>\n",
       "      <td>93.0</td>\n",
       "    </tr>\n",
       "    <tr>\n",
       "      <th>6100971</th>\n",
       "      <td>Leidschdagblad</td>\n",
       "      <td>/cnt/dmf20210423_60516251</td>\n",
       "      <td>2021-05-25 12:00:00</td>\n",
       "      <td>0</td>\n",
       "      <td>2021-04-23 18:00:00</td>\n",
       "      <td>763</td>\n",
       "      <td>237</td>\n",
       "      <td>263</td>\n",
       "      <td>90.114068</td>\n",
       "      <td>12</td>\n",
       "      <td>743</td>\n",
       "      <td>15</td>\n",
       "      <td>55</td>\n",
       "      <td>4</td>\n",
       "      <td>100.0</td>\n",
       "    </tr>\n",
       "    <tr>\n",
       "      <th>8892176</th>\n",
       "      <td>Noordhollandsdagblad</td>\n",
       "      <td>/cnt/dmf20210415_17077057</td>\n",
       "      <td>2021-06-12 03:00:00</td>\n",
       "      <td>0</td>\n",
       "      <td>2021-04-15 20:00:00</td>\n",
       "      <td>1376</td>\n",
       "      <td>74</td>\n",
       "      <td>108</td>\n",
       "      <td>68.518519</td>\n",
       "      <td>03</td>\n",
       "      <td>1603</td>\n",
       "      <td>1106</td>\n",
       "      <td>9</td>\n",
       "      <td>15</td>\n",
       "      <td>61.0</td>\n",
       "    </tr>\n",
       "  </tbody>\n",
       "</table>\n",
       "<p>17784352 rows × 15 columns</p>\n",
       "</div>"
      ],
      "text/plain": [
       "                     Newspaper               Landing page  \\\n",
       "11901883  Noordhollandsdagblad    /cnt/dmf20210430_111098   \n",
       "7958040         Leidschdagblad  /cnt/dmf20210706_50014093   \n",
       "17741027  Noordhollandsdagblad  /cnt/dmf20210706_50014093   \n",
       "14101276  Noordhollandsdagblad  /cnt/dmf20210516_61210176   \n",
       "12128607  Noordhollandsdagblad  /cnt/dmf20210501_18794464   \n",
       "...                        ...                        ...   \n",
       "6100968         Leidschdagblad  /cnt/dmf20210423_60516251   \n",
       "6100969         Leidschdagblad  /cnt/dmf20210423_60516251   \n",
       "6100970         Leidschdagblad  /cnt/dmf20210423_60516251   \n",
       "6100971         Leidschdagblad  /cnt/dmf20210423_60516251   \n",
       "8892176   Noordhollandsdagblad  /cnt/dmf20210415_17077057   \n",
       "\n",
       "               Timestamp date  Views     Publication date  Hours passed  \\\n",
       "11901883  2021-05-01 10:00:00  12532  2021-04-30 19:00:00            16   \n",
       "7958040   2021-07-06 20:00:00  12093  2021-07-06 20:00:00             1   \n",
       "17741027  2021-07-06 21:00:00  10569  2021-07-06 20:00:00             2   \n",
       "14101276  2021-05-16 20:00:00   9123  2021-05-16 19:00:00             2   \n",
       "12128607  2021-05-01 09:00:00   8792  2021-05-01 08:00:00             2   \n",
       "...                       ...    ...                  ...           ...   \n",
       "6100968   2021-05-25 09:00:00      0  2021-04-23 18:00:00           760   \n",
       "6100969   2021-05-25 10:00:00      0  2021-04-23 18:00:00           761   \n",
       "6100970   2021-05-25 11:00:00      0  2021-04-23 18:00:00           762   \n",
       "6100971   2021-05-25 12:00:00      0  2021-04-23 18:00:00           763   \n",
       "8892176   2021-06-12 03:00:00      0  2021-04-15 20:00:00          1376   \n",
       "\n",
       "          Added views  Total views  Percentage Time of the day  Shelf-life  \\\n",
       "11901883        33715       122780   27.459684              10          77   \n",
       "7958040         12093        16550   73.069486              20           4   \n",
       "17741027        13835        36983   37.409080              21          21   \n",
       "14101276        17460       112701   15.492320              20          25   \n",
       "12128607        17042        46276   36.826865              09          24   \n",
       "...               ...          ...         ...             ...         ...   \n",
       "6100968           237          263   90.114068              09         743   \n",
       "6100969           237          263   90.114068              10         743   \n",
       "6100970           237          263   90.114068              11         743   \n",
       "6100971           237          263   90.114068              12         743   \n",
       "8892176            74          108   68.518519              03        1603   \n",
       "\n",
       "          Half-life  Peak views  Hours till peak  Popularity rank  \n",
       "11901883         49       12532               16              1.0  \n",
       "7958040           1       12093                1              1.0  \n",
       "17741027          4       10569                2              1.0  \n",
       "14101276         15        9123                2              1.0  \n",
       "12128607          4        8792                2              1.0  \n",
       "...             ...         ...              ...              ...  \n",
       "6100968          15          55                4             88.0  \n",
       "6100969          15          55                4            100.0  \n",
       "6100970          15          55                4             93.0  \n",
       "6100971          15          55                4            100.0  \n",
       "8892176        1106           9               15             61.0  \n",
       "\n",
       "[17784352 rows x 15 columns]"
      ]
     },
     "execution_count": 16,
     "metadata": {},
     "output_type": "execute_result"
    }
   ],
   "source": [
    "#We sort the data on views to see if the ranking makes sense (it does).\n",
    "df.sort_values(\"Views\", ascending=False)"
   ]
  },
  {
   "cell_type": "markdown",
   "id": "220e9fa3-5cfe-4231-878c-37ecf874574e",
   "metadata": {},
   "source": [
    "## Average Popularity Rank in 1st 2h"
   ]
  },
  {
   "cell_type": "code",
   "execution_count": 17,
   "id": "b87c26c7-468c-4d03-9164-a4efdc3b0c9b",
   "metadata": {},
   "outputs": [],
   "source": [
    "#Per publication we caluclate the mean score of the popularity rank over the first two hours.\n",
    "df[\"Popularity rank in 1st 2h\"] = df.groupby([\"Newspaper\", \"Landing page\"])[\"Popularity rank\"].transform(lambda x: x.head(2).mean())"
   ]
  },
  {
   "cell_type": "markdown",
   "id": "010e6db6-4eeb-4297-afbf-7177e9f0f984",
   "metadata": {},
   "source": [
    "## Views in 1st 2h"
   ]
  },
  {
   "cell_type": "code",
   "execution_count": 18,
   "id": "4927da6b-d07c-4e28-b69b-3a2108ef016e",
   "metadata": {},
   "outputs": [],
   "source": [
    "#We do the same but than for views.\n",
    "df[\"Views in 1st 2h\"] = df.groupby([\"Newspaper\", \"Landing page\"])[\"Views\"].transform(lambda x: x.head(2).sum())"
   ]
  },
  {
   "cell_type": "code",
   "execution_count": 19,
   "id": "f5daf270-c37e-4f2b-8d82-03a070dbabba",
   "metadata": {},
   "outputs": [
    {
     "data": {
      "text/html": [
       "<div>\n",
       "<style scoped>\n",
       "    .dataframe tbody tr th:only-of-type {\n",
       "        vertical-align: middle;\n",
       "    }\n",
       "\n",
       "    .dataframe tbody tr th {\n",
       "        vertical-align: top;\n",
       "    }\n",
       "\n",
       "    .dataframe thead th {\n",
       "        text-align: right;\n",
       "    }\n",
       "</style>\n",
       "<table border=\"1\" class=\"dataframe\">\n",
       "  <thead>\n",
       "    <tr style=\"text-align: right;\">\n",
       "      <th></th>\n",
       "      <th>Newspaper</th>\n",
       "      <th>Landing page</th>\n",
       "      <th>Timestamp date</th>\n",
       "      <th>Views</th>\n",
       "      <th>Publication date</th>\n",
       "      <th>Hours passed</th>\n",
       "      <th>Added views</th>\n",
       "      <th>Total views</th>\n",
       "      <th>Percentage</th>\n",
       "      <th>Time of the day</th>\n",
       "      <th>Shelf-life</th>\n",
       "      <th>Half-life</th>\n",
       "      <th>Peak views</th>\n",
       "      <th>Hours till peak</th>\n",
       "      <th>Popularity rank</th>\n",
       "      <th>Popularity rank in 1st 2h</th>\n",
       "      <th>Views in 1st 2h</th>\n",
       "    </tr>\n",
       "  </thead>\n",
       "  <tbody>\n",
       "    <tr>\n",
       "      <th>0</th>\n",
       "      <td>Gooieneemlander</td>\n",
       "      <td>/cnt/dmf20190705_81476516</td>\n",
       "      <td>2021-05-26 19:00:00</td>\n",
       "      <td>0</td>\n",
       "      <td>2021-05-26 19:00:00</td>\n",
       "      <td>1</td>\n",
       "      <td>0</td>\n",
       "      <td>3</td>\n",
       "      <td>0.000000</td>\n",
       "      <td>19</td>\n",
       "      <td>38</td>\n",
       "      <td>28</td>\n",
       "      <td>1</td>\n",
       "      <td>22</td>\n",
       "      <td>61.0</td>\n",
       "      <td>64.0</td>\n",
       "      <td>0</td>\n",
       "    </tr>\n",
       "    <tr>\n",
       "      <th>1</th>\n",
       "      <td>Gooieneemlander</td>\n",
       "      <td>/cnt/dmf20190705_81476516</td>\n",
       "      <td>2021-05-26 20:00:00</td>\n",
       "      <td>0</td>\n",
       "      <td>2021-05-26 19:00:00</td>\n",
       "      <td>2</td>\n",
       "      <td>0</td>\n",
       "      <td>3</td>\n",
       "      <td>0.000000</td>\n",
       "      <td>20</td>\n",
       "      <td>38</td>\n",
       "      <td>28</td>\n",
       "      <td>1</td>\n",
       "      <td>22</td>\n",
       "      <td>67.0</td>\n",
       "      <td>64.0</td>\n",
       "      <td>0</td>\n",
       "    </tr>\n",
       "    <tr>\n",
       "      <th>38</th>\n",
       "      <td>Gooieneemlander</td>\n",
       "      <td>/cnt/dmf20200501_53506347</td>\n",
       "      <td>2021-07-05 18:00:00</td>\n",
       "      <td>4</td>\n",
       "      <td>2021-07-05 18:00:00</td>\n",
       "      <td>1</td>\n",
       "      <td>4</td>\n",
       "      <td>13</td>\n",
       "      <td>30.769231</td>\n",
       "      <td>18</td>\n",
       "      <td>19</td>\n",
       "      <td>3</td>\n",
       "      <td>4</td>\n",
       "      <td>1</td>\n",
       "      <td>24.0</td>\n",
       "      <td>31.0</td>\n",
       "      <td>5</td>\n",
       "    </tr>\n",
       "    <tr>\n",
       "      <th>39</th>\n",
       "      <td>Gooieneemlander</td>\n",
       "      <td>/cnt/dmf20200501_53506347</td>\n",
       "      <td>2021-07-05 19:00:00</td>\n",
       "      <td>1</td>\n",
       "      <td>2021-07-05 18:00:00</td>\n",
       "      <td>2</td>\n",
       "      <td>5</td>\n",
       "      <td>13</td>\n",
       "      <td>38.461538</td>\n",
       "      <td>19</td>\n",
       "      <td>19</td>\n",
       "      <td>3</td>\n",
       "      <td>4</td>\n",
       "      <td>1</td>\n",
       "      <td>38.0</td>\n",
       "      <td>31.0</td>\n",
       "      <td>5</td>\n",
       "    </tr>\n",
       "    <tr>\n",
       "      <th>65</th>\n",
       "      <td>Gooieneemlander</td>\n",
       "      <td>/cnt/dmf20201026_62507126</td>\n",
       "      <td>2021-04-22 10:00:00</td>\n",
       "      <td>1</td>\n",
       "      <td>2021-04-22 10:00:00</td>\n",
       "      <td>1</td>\n",
       "      <td>1</td>\n",
       "      <td>2</td>\n",
       "      <td>50.000000</td>\n",
       "      <td>10</td>\n",
       "      <td>5</td>\n",
       "      <td>1</td>\n",
       "      <td>1</td>\n",
       "      <td>1</td>\n",
       "      <td>31.0</td>\n",
       "      <td>44.5</td>\n",
       "      <td>1</td>\n",
       "    </tr>\n",
       "    <tr>\n",
       "      <th>...</th>\n",
       "      <td>...</td>\n",
       "      <td>...</td>\n",
       "      <td>...</td>\n",
       "      <td>...</td>\n",
       "      <td>...</td>\n",
       "      <td>...</td>\n",
       "      <td>...</td>\n",
       "      <td>...</td>\n",
       "      <td>...</td>\n",
       "      <td>...</td>\n",
       "      <td>...</td>\n",
       "      <td>...</td>\n",
       "      <td>...</td>\n",
       "      <td>...</td>\n",
       "      <td>...</td>\n",
       "      <td>...</td>\n",
       "      <td>...</td>\n",
       "    </tr>\n",
       "    <tr>\n",
       "      <th>17784329</th>\n",
       "      <td>Noordhollandsdagblad</td>\n",
       "      <td>/cnt/dmf20210711_96015867</td>\n",
       "      <td>2021-07-11 18:00:00</td>\n",
       "      <td>3</td>\n",
       "      <td>2021-07-11 17:00:00</td>\n",
       "      <td>2</td>\n",
       "      <td>4</td>\n",
       "      <td>7</td>\n",
       "      <td>57.142857</td>\n",
       "      <td>18</td>\n",
       "      <td>7</td>\n",
       "      <td>2</td>\n",
       "      <td>3</td>\n",
       "      <td>2</td>\n",
       "      <td>98.0</td>\n",
       "      <td>124.0</td>\n",
       "      <td>4</td>\n",
       "    </tr>\n",
       "    <tr>\n",
       "      <th>17784335</th>\n",
       "      <td>Noordhollandsdagblad</td>\n",
       "      <td>/cnt/dmf20210711_98210529</td>\n",
       "      <td>2021-07-11 03:00:00</td>\n",
       "      <td>0</td>\n",
       "      <td>2021-07-11 03:00:00</td>\n",
       "      <td>1</td>\n",
       "      <td>0</td>\n",
       "      <td>2</td>\n",
       "      <td>0.000000</td>\n",
       "      <td>03</td>\n",
       "      <td>14</td>\n",
       "      <td>2</td>\n",
       "      <td>1</td>\n",
       "      <td>2</td>\n",
       "      <td>62.0</td>\n",
       "      <td>45.0</td>\n",
       "      <td>1</td>\n",
       "    </tr>\n",
       "    <tr>\n",
       "      <th>17784336</th>\n",
       "      <td>Noordhollandsdagblad</td>\n",
       "      <td>/cnt/dmf20210711_98210529</td>\n",
       "      <td>2021-07-11 04:00:00</td>\n",
       "      <td>1</td>\n",
       "      <td>2021-07-11 03:00:00</td>\n",
       "      <td>2</td>\n",
       "      <td>1</td>\n",
       "      <td>2</td>\n",
       "      <td>50.000000</td>\n",
       "      <td>04</td>\n",
       "      <td>14</td>\n",
       "      <td>2</td>\n",
       "      <td>1</td>\n",
       "      <td>2</td>\n",
       "      <td>28.0</td>\n",
       "      <td>45.0</td>\n",
       "      <td>1</td>\n",
       "    </tr>\n",
       "    <tr>\n",
       "      <th>17784349</th>\n",
       "      <td>Noordhollandsdagblad</td>\n",
       "      <td>/cnt/dmf20210711_99077945</td>\n",
       "      <td>2021-07-11 21:00:00</td>\n",
       "      <td>21</td>\n",
       "      <td>2021-07-11 21:00:00</td>\n",
       "      <td>1</td>\n",
       "      <td>21</td>\n",
       "      <td>486</td>\n",
       "      <td>4.320988</td>\n",
       "      <td>21</td>\n",
       "      <td>3</td>\n",
       "      <td>2</td>\n",
       "      <td>345</td>\n",
       "      <td>2</td>\n",
       "      <td>37.0</td>\n",
       "      <td>21.0</td>\n",
       "      <td>366</td>\n",
       "    </tr>\n",
       "    <tr>\n",
       "      <th>17784350</th>\n",
       "      <td>Noordhollandsdagblad</td>\n",
       "      <td>/cnt/dmf20210711_99077945</td>\n",
       "      <td>2021-07-11 22:00:00</td>\n",
       "      <td>345</td>\n",
       "      <td>2021-07-11 21:00:00</td>\n",
       "      <td>2</td>\n",
       "      <td>366</td>\n",
       "      <td>486</td>\n",
       "      <td>75.308642</td>\n",
       "      <td>22</td>\n",
       "      <td>3</td>\n",
       "      <td>2</td>\n",
       "      <td>345</td>\n",
       "      <td>2</td>\n",
       "      <td>5.0</td>\n",
       "      <td>21.0</td>\n",
       "      <td>366</td>\n",
       "    </tr>\n",
       "  </tbody>\n",
       "</table>\n",
       "<p>88330 rows × 17 columns</p>\n",
       "</div>"
      ],
      "text/plain": [
       "                     Newspaper               Landing page  \\\n",
       "0              Gooieneemlander  /cnt/dmf20190705_81476516   \n",
       "1              Gooieneemlander  /cnt/dmf20190705_81476516   \n",
       "38             Gooieneemlander  /cnt/dmf20200501_53506347   \n",
       "39             Gooieneemlander  /cnt/dmf20200501_53506347   \n",
       "65             Gooieneemlander  /cnt/dmf20201026_62507126   \n",
       "...                        ...                        ...   \n",
       "17784329  Noordhollandsdagblad  /cnt/dmf20210711_96015867   \n",
       "17784335  Noordhollandsdagblad  /cnt/dmf20210711_98210529   \n",
       "17784336  Noordhollandsdagblad  /cnt/dmf20210711_98210529   \n",
       "17784349  Noordhollandsdagblad  /cnt/dmf20210711_99077945   \n",
       "17784350  Noordhollandsdagblad  /cnt/dmf20210711_99077945   \n",
       "\n",
       "               Timestamp date  Views     Publication date  Hours passed  \\\n",
       "0         2021-05-26 19:00:00      0  2021-05-26 19:00:00             1   \n",
       "1         2021-05-26 20:00:00      0  2021-05-26 19:00:00             2   \n",
       "38        2021-07-05 18:00:00      4  2021-07-05 18:00:00             1   \n",
       "39        2021-07-05 19:00:00      1  2021-07-05 18:00:00             2   \n",
       "65        2021-04-22 10:00:00      1  2021-04-22 10:00:00             1   \n",
       "...                       ...    ...                  ...           ...   \n",
       "17784329  2021-07-11 18:00:00      3  2021-07-11 17:00:00             2   \n",
       "17784335  2021-07-11 03:00:00      0  2021-07-11 03:00:00             1   \n",
       "17784336  2021-07-11 04:00:00      1  2021-07-11 03:00:00             2   \n",
       "17784349  2021-07-11 21:00:00     21  2021-07-11 21:00:00             1   \n",
       "17784350  2021-07-11 22:00:00    345  2021-07-11 21:00:00             2   \n",
       "\n",
       "          Added views  Total views  Percentage Time of the day  Shelf-life  \\\n",
       "0                   0            3    0.000000              19          38   \n",
       "1                   0            3    0.000000              20          38   \n",
       "38                  4           13   30.769231              18          19   \n",
       "39                  5           13   38.461538              19          19   \n",
       "65                  1            2   50.000000              10           5   \n",
       "...               ...          ...         ...             ...         ...   \n",
       "17784329            4            7   57.142857              18           7   \n",
       "17784335            0            2    0.000000              03          14   \n",
       "17784336            1            2   50.000000              04          14   \n",
       "17784349           21          486    4.320988              21           3   \n",
       "17784350          366          486   75.308642              22           3   \n",
       "\n",
       "          Half-life  Peak views  Hours till peak  Popularity rank  \\\n",
       "0                28           1               22             61.0   \n",
       "1                28           1               22             67.0   \n",
       "38                3           4                1             24.0   \n",
       "39                3           4                1             38.0   \n",
       "65                1           1                1             31.0   \n",
       "...             ...         ...              ...              ...   \n",
       "17784329          2           3                2             98.0   \n",
       "17784335          2           1                2             62.0   \n",
       "17784336          2           1                2             28.0   \n",
       "17784349          2         345                2             37.0   \n",
       "17784350          2         345                2              5.0   \n",
       "\n",
       "          Popularity rank in 1st 2h  Views in 1st 2h  \n",
       "0                              64.0                0  \n",
       "1                              64.0                0  \n",
       "38                             31.0                5  \n",
       "39                             31.0                5  \n",
       "65                             44.5                1  \n",
       "...                             ...              ...  \n",
       "17784329                      124.0                4  \n",
       "17784335                       45.0                1  \n",
       "17784336                       45.0                1  \n",
       "17784349                       21.0              366  \n",
       "17784350                       21.0              366  \n",
       "\n",
       "[88330 rows x 17 columns]"
      ]
     },
     "execution_count": 19,
     "metadata": {},
     "output_type": "execute_result"
    }
   ],
   "source": [
    "#We inspect the data.\n",
    "df.groupby([\"Newspaper\", \"Landing page\"]).head(2)"
   ]
  },
  {
   "cell_type": "code",
   "execution_count": 20,
   "id": "34c4f849-f72e-46df-ad8c-51f645895029",
   "metadata": {},
   "outputs": [
    {
     "name": "stderr",
     "output_type": "stream",
     "text": [
      "100%|██████████| 17784352/17784352 [00:07<00:00, 2298653.48it/s]\n"
     ]
    }
   ],
   "source": [
    "#We create an empty list.\n",
    "popularity = []\n",
    "\n",
    "#We take the mean views in the first two hours.\n",
    "mean = np.mean(df[\"Views in 1st 2h\"])\n",
    "\n",
    "#We loop over the 'views in the 1st 2h'-column.\n",
    "for item in tqdm(df[\"Views in 1st 2h\"]):\n",
    "    #We check if it is above or below average and append the answer to the empty list.\n",
    "    if item > mean:\n",
    "        popularity.append(True)\n",
    "    else:\n",
    "        popularity.append(False)"
   ]
  },
  {
   "cell_type": "code",
   "execution_count": 21,
   "id": "0dfcb7bd-9883-40d6-a357-068ecf293a44",
   "metadata": {},
   "outputs": [
    {
     "data": {
      "text/plain": [
       "Counter({False: 15245555, True: 2538797})"
      ]
     },
     "execution_count": 21,
     "metadata": {},
     "output_type": "execute_result"
    }
   ],
   "source": [
    "#We add the created list as a column.\n",
    "df[\"Popularity\"] = popularity\n",
    "popularity = []\n",
    "Counter(df.Popularity)"
   ]
  },
  {
   "cell_type": "code",
   "execution_count": 22,
   "id": "1595897d-40fb-456a-bebc-309e5c965e64",
   "metadata": {},
   "outputs": [
    {
     "data": {
      "text/html": [
       "<div>\n",
       "<style scoped>\n",
       "    .dataframe tbody tr th:only-of-type {\n",
       "        vertical-align: middle;\n",
       "    }\n",
       "\n",
       "    .dataframe tbody tr th {\n",
       "        vertical-align: top;\n",
       "    }\n",
       "\n",
       "    .dataframe thead th {\n",
       "        text-align: right;\n",
       "    }\n",
       "</style>\n",
       "<table border=\"1\" class=\"dataframe\">\n",
       "  <thead>\n",
       "    <tr style=\"text-align: right;\">\n",
       "      <th></th>\n",
       "      <th>Newspaper</th>\n",
       "      <th>Landing page</th>\n",
       "      <th>Timestamp date</th>\n",
       "      <th>Views</th>\n",
       "      <th>Publication date</th>\n",
       "      <th>Hours passed</th>\n",
       "      <th>Added views</th>\n",
       "      <th>Total views</th>\n",
       "      <th>Percentage</th>\n",
       "      <th>Time of the day</th>\n",
       "      <th>Shelf-life</th>\n",
       "      <th>Half-life</th>\n",
       "      <th>Peak views</th>\n",
       "      <th>Hours till peak</th>\n",
       "      <th>Popularity rank</th>\n",
       "      <th>Popularity rank in 1st 2h</th>\n",
       "      <th>Views in 1st 2h</th>\n",
       "      <th>Popularity</th>\n",
       "    </tr>\n",
       "  </thead>\n",
       "  <tbody>\n",
       "    <tr>\n",
       "      <th>0</th>\n",
       "      <td>Gooieneemlander</td>\n",
       "      <td>/cnt/dmf20190705_81476516</td>\n",
       "      <td>2021-05-26 19:00:00</td>\n",
       "      <td>0</td>\n",
       "      <td>2021-05-26 19:00:00</td>\n",
       "      <td>1</td>\n",
       "      <td>0</td>\n",
       "      <td>3</td>\n",
       "      <td>0.0</td>\n",
       "      <td>19</td>\n",
       "      <td>38</td>\n",
       "      <td>28</td>\n",
       "      <td>1</td>\n",
       "      <td>22</td>\n",
       "      <td>61.0</td>\n",
       "      <td>64.0</td>\n",
       "      <td>0</td>\n",
       "      <td>False</td>\n",
       "    </tr>\n",
       "    <tr>\n",
       "      <th>1</th>\n",
       "      <td>Gooieneemlander</td>\n",
       "      <td>/cnt/dmf20190705_81476516</td>\n",
       "      <td>2021-05-26 20:00:00</td>\n",
       "      <td>0</td>\n",
       "      <td>2021-05-26 19:00:00</td>\n",
       "      <td>2</td>\n",
       "      <td>0</td>\n",
       "      <td>3</td>\n",
       "      <td>0.0</td>\n",
       "      <td>20</td>\n",
       "      <td>38</td>\n",
       "      <td>28</td>\n",
       "      <td>1</td>\n",
       "      <td>22</td>\n",
       "      <td>67.0</td>\n",
       "      <td>64.0</td>\n",
       "      <td>0</td>\n",
       "      <td>False</td>\n",
       "    </tr>\n",
       "    <tr>\n",
       "      <th>2</th>\n",
       "      <td>Gooieneemlander</td>\n",
       "      <td>/cnt/dmf20190705_81476516</td>\n",
       "      <td>2021-05-26 21:00:00</td>\n",
       "      <td>0</td>\n",
       "      <td>2021-05-26 19:00:00</td>\n",
       "      <td>3</td>\n",
       "      <td>0</td>\n",
       "      <td>3</td>\n",
       "      <td>0.0</td>\n",
       "      <td>21</td>\n",
       "      <td>38</td>\n",
       "      <td>28</td>\n",
       "      <td>1</td>\n",
       "      <td>22</td>\n",
       "      <td>60.0</td>\n",
       "      <td>64.0</td>\n",
       "      <td>0</td>\n",
       "      <td>False</td>\n",
       "    </tr>\n",
       "    <tr>\n",
       "      <th>3</th>\n",
       "      <td>Gooieneemlander</td>\n",
       "      <td>/cnt/dmf20190705_81476516</td>\n",
       "      <td>2021-05-26 22:00:00</td>\n",
       "      <td>0</td>\n",
       "      <td>2021-05-26 19:00:00</td>\n",
       "      <td>4</td>\n",
       "      <td>0</td>\n",
       "      <td>3</td>\n",
       "      <td>0.0</td>\n",
       "      <td>22</td>\n",
       "      <td>38</td>\n",
       "      <td>28</td>\n",
       "      <td>1</td>\n",
       "      <td>22</td>\n",
       "      <td>58.0</td>\n",
       "      <td>64.0</td>\n",
       "      <td>0</td>\n",
       "      <td>False</td>\n",
       "    </tr>\n",
       "    <tr>\n",
       "      <th>4</th>\n",
       "      <td>Gooieneemlander</td>\n",
       "      <td>/cnt/dmf20190705_81476516</td>\n",
       "      <td>2021-05-26 23:00:00</td>\n",
       "      <td>0</td>\n",
       "      <td>2021-05-26 19:00:00</td>\n",
       "      <td>5</td>\n",
       "      <td>0</td>\n",
       "      <td>3</td>\n",
       "      <td>0.0</td>\n",
       "      <td>23</td>\n",
       "      <td>38</td>\n",
       "      <td>28</td>\n",
       "      <td>1</td>\n",
       "      <td>22</td>\n",
       "      <td>46.0</td>\n",
       "      <td>64.0</td>\n",
       "      <td>0</td>\n",
       "      <td>False</td>\n",
       "    </tr>\n",
       "  </tbody>\n",
       "</table>\n",
       "</div>"
      ],
      "text/plain": [
       "         Newspaper               Landing page       Timestamp date  Views  \\\n",
       "0  Gooieneemlander  /cnt/dmf20190705_81476516  2021-05-26 19:00:00      0   \n",
       "1  Gooieneemlander  /cnt/dmf20190705_81476516  2021-05-26 20:00:00      0   \n",
       "2  Gooieneemlander  /cnt/dmf20190705_81476516  2021-05-26 21:00:00      0   \n",
       "3  Gooieneemlander  /cnt/dmf20190705_81476516  2021-05-26 22:00:00      0   \n",
       "4  Gooieneemlander  /cnt/dmf20190705_81476516  2021-05-26 23:00:00      0   \n",
       "\n",
       "      Publication date  Hours passed  Added views  Total views  Percentage  \\\n",
       "0  2021-05-26 19:00:00             1            0            3         0.0   \n",
       "1  2021-05-26 19:00:00             2            0            3         0.0   \n",
       "2  2021-05-26 19:00:00             3            0            3         0.0   \n",
       "3  2021-05-26 19:00:00             4            0            3         0.0   \n",
       "4  2021-05-26 19:00:00             5            0            3         0.0   \n",
       "\n",
       "  Time of the day  Shelf-life  Half-life  Peak views  Hours till peak  \\\n",
       "0              19          38         28           1               22   \n",
       "1              20          38         28           1               22   \n",
       "2              21          38         28           1               22   \n",
       "3              22          38         28           1               22   \n",
       "4              23          38         28           1               22   \n",
       "\n",
       "   Popularity rank  Popularity rank in 1st 2h  Views in 1st 2h  Popularity  \n",
       "0             61.0                       64.0                0       False  \n",
       "1             67.0                       64.0                0       False  \n",
       "2             60.0                       64.0                0       False  \n",
       "3             58.0                       64.0                0       False  \n",
       "4             46.0                       64.0                0       False  "
      ]
     },
     "execution_count": 22,
     "metadata": {},
     "output_type": "execute_result"
    }
   ],
   "source": [
    "#We inspect the data.\n",
    "df.head()"
   ]
  },
  {
   "cell_type": "markdown",
   "id": "e89640f4-a6ab-4130-92a9-d01c5b40c574",
   "metadata": {},
   "source": [
    "## Standardized Views per Publication"
   ]
  },
  {
   "cell_type": "code",
   "execution_count": 23,
   "id": "acebdb83-86bb-46d4-900b-c924f08125af",
   "metadata": {},
   "outputs": [],
   "source": [
    "#We standardize the views within each publication and add it as a new column.\n",
    "df[\"Z_Views\"] = df.groupby([\"Newspaper\", \"Landing page\"])[\"Views\"].transform(lambda x: stats.zscore(x))"
   ]
  },
  {
   "cell_type": "markdown",
   "id": "925b1ac4-90fb-4b82-b5cd-b87b423ac390",
   "metadata": {},
   "source": [
    "## Slope Before Peak"
   ]
  },
  {
   "cell_type": "code",
   "execution_count": 24,
   "id": "d0b6e15e-40cd-4198-b4e6-349a9b3d77ad",
   "metadata": {},
   "outputs": [
    {
     "name": "stderr",
     "output_type": "stream",
     "text": [
      "/tmp/ipykernel_1226/1042962523.py:9: RuntimeWarning: invalid value encountered in double_scalars\n",
      "  .apply(lambda x: (x.Z_Views.iloc[-1] - x.Z_Views.iloc[0]) / (x[\"Hours passed\"].iloc[-1] - x[\"Hours passed\"].iloc[0])).reset_index()\\\n"
     ]
    }
   ],
   "source": [
    "#We calculate the slope till the peak. We do so by merging the dataframe with a subset of it.\n",
    "#This subset only includes the passed hours till the peak is reached.\n",
    "#Than the data is groupped by publication.\n",
    "#The exact slope is than calculated within each publication.\n",
    "#This is thus simply done by calculating the difference between the views in the first hour and the last hour (the hour of the peak).\n",
    "#And dividing it by the difference in hours.\n",
    "df = df.merge(df[(df[\"Hours passed\"] <= df[\"Hours till peak\"])]\\\n",
    "       .groupby([\"Newspaper\", \"Landing page\"])\\\n",
    "       .apply(lambda x: (x.Z_Views.iloc[-1] - x.Z_Views.iloc[0]) / (x[\"Hours passed\"].iloc[-1] - x[\"Hours passed\"].iloc[0])).reset_index()\\\n",
    "       .rename(columns = {0: \"Slope before peak\"}), how=\"left\", on=[\"Newspaper\", \"Landing page\"])"
   ]
  },
  {
   "cell_type": "code",
   "execution_count": 25,
   "id": "5e3ea99e-3444-4569-9014-c1322522e9f2",
   "metadata": {},
   "outputs": [
    {
     "data": {
      "text/plain": [
       "count    1.320451e+07\n",
       "mean     6.937747e+00\n",
       "std      7.615506e+00\n",
       "min      2.103780e-03\n",
       "25%      1.034062e+00\n",
       "50%      4.157347e+00\n",
       "75%      1.048805e+01\n",
       "max      4.362373e+01\n",
       "Name: Slope before peak, dtype: float64"
      ]
     },
     "execution_count": 25,
     "metadata": {},
     "output_type": "execute_result"
    }
   ],
   "source": [
    "#We quickly inspect it.\n",
    "df[\"Slope before peak\"].describe()"
   ]
  },
  {
   "cell_type": "markdown",
   "id": "e9cdc438-0b67-410f-ad3e-0fd307c55836",
   "metadata": {},
   "source": [
    "## Slope After Peak till Shelf-life"
   ]
  },
  {
   "cell_type": "code",
   "execution_count": 26,
   "id": "737f75e9-2a65-47d8-8895-1b74ce9343c1",
   "metadata": {},
   "outputs": [
    {
     "name": "stderr",
     "output_type": "stream",
     "text": [
      "/tmp/ipykernel_1226/343709748.py:4: RuntimeWarning: invalid value encountered in double_scalars\n",
      "  .apply(lambda x: (x.Z_Views.iloc[-1] - x.Z_Views.iloc[0]) / (x[\"Hours passed\"].iloc[-1] - x[\"Hours passed\"].iloc[0])).reset_index()\\\n"
     ]
    }
   ],
   "source": [
    "#We do the same but now starting from the peak till shelf-life.\n",
    "df = df.merge(df[(df[\"Hours passed\"] >= df[\"Hours till peak\"]) & (df[\"Hours passed\"] <= df[\"Shelf-life\"])]\\\n",
    "       .groupby([\"Newspaper\", \"Landing page\"])\\\n",
    "       .apply(lambda x: (x.Z_Views.iloc[-1] - x.Z_Views.iloc[0]) / (x[\"Hours passed\"].iloc[-1] - x[\"Hours passed\"].iloc[0])).reset_index()\\\n",
    "       .rename(columns = {0: \"Slope after peak\"}), how=\"left\", on=[\"Newspaper\", \"Landing page\"])"
   ]
  },
  {
   "cell_type": "code",
   "execution_count": 27,
   "id": "7f475121-d453-425e-8d53-cf21feee105b",
   "metadata": {},
   "outputs": [
    {
     "data": {
      "text/plain": [
       "count    1.746918e+07\n",
       "mean    -3.787015e-01\n",
       "std      8.665576e-01\n",
       "min     -3.556453e+01\n",
       "25%     -4.840733e-01\n",
       "50%     -8.260033e-02\n",
       "75%     -1.050703e-02\n",
       "max      0.000000e+00\n",
       "Name: Slope after peak, dtype: float64"
      ]
     },
     "execution_count": 27,
     "metadata": {},
     "output_type": "execute_result"
    }
   ],
   "source": [
    "#And we inspect it again.\n",
    "df[\"Slope after peak\"].describe()"
   ]
  },
  {
   "cell_type": "markdown",
   "id": "936ec2bb-1ae6-4681-a77f-fc0133779336",
   "metadata": {},
   "source": [
    "## Reading Meta File"
   ]
  },
  {
   "cell_type": "code",
   "execution_count": 28,
   "id": "94054d5d-a805-4808-90c6-c84c50c934bb",
   "metadata": {},
   "outputs": [
    {
     "name": "stderr",
     "output_type": "stream",
     "text": [
      "100%|██████████| 5/5 [00:16<00:00,  3.27s/it]\n"
     ]
    }
   ],
   "source": [
    "#We create a list of all newspapers.\n",
    "newspapers = [\"gooieneemlander\", \"haarlemsdagblad\", \"ijmuidercourant\", \"leidschdagblad\", \"noordhollandsdagblad\"]\n",
    "\n",
    "#We create an empty list.\n",
    "df2 = []\n",
    "\n",
    "#We loop over the newspapers.\n",
    "for n in tqdm(newspapers):\n",
    "    #And for each newspaper we read in its respective json file.\n",
    "    with open(f\"{n}.json\", \"r\") as f:\n",
    "        for line in f:\n",
    "            #We load it line for line.\n",
    "            line = json.loads(line)\n",
    "            #We append it line for line.\n",
    "            df2.append(line)\n",
    "\n",
    "#We normalize the data.\n",
    "df2 = json_normalize(df2)"
   ]
  },
  {
   "cell_type": "code",
   "execution_count": 29,
   "id": "af45d720-bf15-47a3-b9fc-e6f2e9149135",
   "metadata": {},
   "outputs": [],
   "source": [
    "def extract_columns(listofdicts):\n",
    "    normalizeddict = {}\n",
    "    for entry in listofdicts:\n",
    "        if \"name\" in entry:\n",
    "            normalizeddict[entry[\"name\"]] = entry.get(\"content\", None)\n",
    "        elif \"property\" in entry:\n",
    "            normalizeddict[entry[\"property\"]] = entry.get(\"content\", None)\n",
    "        else:\n",
    "            continue\n",
    "    return normalizeddict"
   ]
  },
  {
   "cell_type": "code",
   "execution_count": 30,
   "id": "62a37d00-2bb5-4dbd-aa4b-64114536face",
   "metadata": {},
   "outputs": [],
   "source": [
    "df2 = df2.join(pd.DataFrame.from_records(df2[\"meta\"].apply(extract_columns))).drop(\"meta\", axis=1)"
   ]
  },
  {
   "cell_type": "code",
   "execution_count": 31,
   "id": "76bf5d75-ade1-4208-934c-8e980b91d9df",
   "metadata": {},
   "outputs": [
    {
     "data": {
      "text/plain": [
       "Index(['url', 'meta-script.interactiefPrefix', 'meta-script.brooklynapiurl',\n",
       "       'meta-script.readLaterServiceUrl', 'meta-script.froomleServiceUrl',\n",
       "       'meta-script.access_loginshown', 'meta-script.article_author',\n",
       "       'meta-script.article_bodycharcount', 'meta-script.article_positive',\n",
       "       'meta-script.article_cimpage', 'meta-script.article_cimpage_free',\n",
       "       'meta-script.article_cityname', 'meta-script.article_contenttype',\n",
       "       'meta-script.article_dossier', 'meta-script.article_id',\n",
       "       'meta-script.article_introcharcount', 'meta-script.article_sectionid',\n",
       "       'meta-script.article_section', 'meta-script.article_maintag',\n",
       "       'meta-script.article_paper', 'meta-script.article_publicationdate',\n",
       "       'meta-script.article_publicationtime',\n",
       "       'meta-script.article_ispluslayout', 'meta-script.article_source',\n",
       "       'meta-script.article_sourceoforigin', 'meta-script.article_taglist',\n",
       "       'meta-script.article_title', 'meta-script.article_type',\n",
       "       'meta-script.article_externalid',\n",
       "       'meta-script.article_updatecountersurl', 'meta-script.page_maintag',\n",
       "       'meta-script.page_mainsection', 'meta-script.page_mainsectionname',\n",
       "       'meta-script.page_mainsubsection',\n",
       "       'meta-script.page_mainsubsectionname', 'meta-script.page_section',\n",
       "       'meta-script.page_sectionname', 'meta-script.page_adv_sectiontree',\n",
       "       'meta-script.page_type', 'meta-script.page_secure',\n",
       "       'meta-script.page_metered', 'meta-script.page_papercode',\n",
       "       'meta-script.page_sectiontrees', 'meta-script.cdn_markup',\n",
       "       'meta-script.cdn_markupVersion', 'meta-script.cdn_static',\n",
       "       'meta-script.article_has_inline_media', 'meta-script.urlscheme',\n",
       "       'meta-script.page_features', 'meta-script.environment',\n",
       "       'meta-script.metered', 'meta-script.visitorIsValidBot',\n",
       "       'meta-script.page_zipcode', 'meta-script.page_cityname',\n",
       "       'meta-script.article_categorylist', 'cXenseParse:mhu-article_author',\n",
       "       'cXenseParse:mhu-article_ispaidcontent',\n",
       "       'cXenseParse:mhu-article_maintag', 'cXenseParse:mhu-article_tag',\n",
       "       'cXenseParse:mhu-articleid', 'cXenseParse:mhu-domain',\n",
       "       'cXenseParse:Taxonomy', 'description', 'keywords', 'news_keywords',\n",
       "       'twitter:card', 'twitter:description', 'twitter:image', 'twitter:site',\n",
       "       'twitter:title', 'article:modified_time', 'article:publisher',\n",
       "       'article:section', 'article:tag', 'fb:app_id', 'fb:pages',\n",
       "       'og:description', 'og:image', 'og:image:height', 'og:image:width',\n",
       "       'og:site_name', 'og:title', 'og:type', 'og:url', 'viewport',\n",
       "       'msapplication-square70x70logo', 'msapplication-square150x150logo',\n",
       "       'msapplication-square310x310logo', 'msapplication-TileImage',\n",
       "       'msapplication-TileColor', 'cXenseParse:mhu-page_zipcode'],\n",
       "      dtype='object')"
      ]
     },
     "execution_count": 31,
     "metadata": {},
     "output_type": "execute_result"
    }
   ],
   "source": [
    "#We inspect all the columns.\n",
    "df2.columns"
   ]
  },
  {
   "cell_type": "code",
   "execution_count": 32,
   "id": "6aec1c08-cc5d-4b66-8dc1-1698544a272d",
   "metadata": {},
   "outputs": [],
   "source": [
    "#We use a regular expression to extract the landing page.\n",
    "df2[\"Landing page\"] = df2[\"url\"].apply(lambda x: re.search(r\"\\/cnt\\/dmf(\\d+)_\\d+\", x.lower()).group(0))"
   ]
  },
  {
   "cell_type": "code",
   "execution_count": 33,
   "id": "6bc2fdf0-bb91-4dc0-ba8a-c820e470ba03",
   "metadata": {},
   "outputs": [
    {
     "data": {
      "text/html": [
       "<div>\n",
       "<style scoped>\n",
       "    .dataframe tbody tr th:only-of-type {\n",
       "        vertical-align: middle;\n",
       "    }\n",
       "\n",
       "    .dataframe tbody tr th {\n",
       "        vertical-align: top;\n",
       "    }\n",
       "\n",
       "    .dataframe thead th {\n",
       "        text-align: right;\n",
       "    }\n",
       "</style>\n",
       "<table border=\"1\" class=\"dataframe\">\n",
       "  <thead>\n",
       "    <tr style=\"text-align: right;\">\n",
       "      <th></th>\n",
       "      <th>Landing page</th>\n",
       "    </tr>\n",
       "  </thead>\n",
       "  <tbody>\n",
       "    <tr>\n",
       "      <th>12448</th>\n",
       "      <td>/cnt/dmf20191229_491</td>\n",
       "    </tr>\n",
       "    <tr>\n",
       "      <th>120634</th>\n",
       "      <td>/cnt/dmf20191229_491</td>\n",
       "    </tr>\n",
       "    <tr>\n",
       "      <th>60606</th>\n",
       "      <td>/cnt/dmf20200812_110</td>\n",
       "    </tr>\n",
       "    <tr>\n",
       "      <th>107952</th>\n",
       "      <td>/cnt/dmf20200812_110</td>\n",
       "    </tr>\n",
       "    <tr>\n",
       "      <th>35769</th>\n",
       "      <td>/cnt/dmf20200812_110</td>\n",
       "    </tr>\n",
       "    <tr>\n",
       "      <th>...</th>\n",
       "      <td>...</td>\n",
       "    </tr>\n",
       "    <tr>\n",
       "      <th>73599</th>\n",
       "      <td>/cnt/dmf20190604_32241827</td>\n",
       "    </tr>\n",
       "    <tr>\n",
       "      <th>73600</th>\n",
       "      <td>/cnt/dmf20210331_18308698</td>\n",
       "    </tr>\n",
       "    <tr>\n",
       "      <th>73602</th>\n",
       "      <td>/cnt/dmf20180926_49230990</td>\n",
       "    </tr>\n",
       "    <tr>\n",
       "      <th>73629</th>\n",
       "      <td>/cnt/dmf20200803_19491311</td>\n",
       "    </tr>\n",
       "    <tr>\n",
       "      <th>209494</th>\n",
       "      <td>/cnt/dmf20180921_61798701</td>\n",
       "    </tr>\n",
       "  </tbody>\n",
       "</table>\n",
       "<p>209495 rows × 1 columns</p>\n",
       "</div>"
      ],
      "text/plain": [
       "                     Landing page\n",
       "12448        /cnt/dmf20191229_491\n",
       "120634       /cnt/dmf20191229_491\n",
       "60606        /cnt/dmf20200812_110\n",
       "107952       /cnt/dmf20200812_110\n",
       "35769        /cnt/dmf20200812_110\n",
       "...                           ...\n",
       "73599   /cnt/dmf20190604_32241827\n",
       "73600   /cnt/dmf20210331_18308698\n",
       "73602   /cnt/dmf20180926_49230990\n",
       "73629   /cnt/dmf20200803_19491311\n",
       "209494  /cnt/dmf20180921_61798701\n",
       "\n",
       "[209495 rows x 1 columns]"
      ]
     },
     "execution_count": 33,
     "metadata": {},
     "output_type": "execute_result"
    }
   ],
   "source": [
    "#We quickly sort our dataset on the length of the landing page, to see if the streamlining went correctly,\n",
    "#Thus if we do not have very short or very long landing page ids.\n",
    "df2.sort_values(by=\"Landing page\", key=lambda x: x.str.len())[[\"Landing page\"]]"
   ]
  },
  {
   "cell_type": "code",
   "execution_count": 34,
   "id": "c9454fd5-5090-4a79-bb3b-978ebb5c8666",
   "metadata": {},
   "outputs": [],
   "source": [
    "#We also extract the newspapers from the url.\n",
    "df2[\"Newspaper\"] = df2[\"url\"].apply(lambda x:x[x.find(\"www.\") + len(\"www.\"):x.find(\".nl\")].title())"
   ]
  },
  {
   "cell_type": "code",
   "execution_count": 35,
   "id": "57ede73f-8fc5-4518-a9f5-cb47c1c9b861",
   "metadata": {},
   "outputs": [
    {
     "data": {
      "text/plain": [
       "Counter({'Gooieneemlander': 24438,\n",
       "         'Haarlemsdagblad': 26273,\n",
       "         'Ijmuidercourant': 16433,\n",
       "         'Leidschdagblad': 30476,\n",
       "         'Noordhollandsdagblad': 111875})"
      ]
     },
     "execution_count": 35,
     "metadata": {},
     "output_type": "execute_result"
    }
   ],
   "source": [
    "Counter(df2.Newspaper)"
   ]
  },
  {
   "cell_type": "code",
   "execution_count": 56,
   "id": "39cc6055-3fd0-4193-a911-7fb23db6112f",
   "metadata": {},
   "outputs": [],
   "source": [
    "df_txt = df2[[\"url\", \"meta-script.article_title\", \"description\"]]"
   ]
  },
  {
   "cell_type": "code",
   "execution_count": 58,
   "id": "a16a221e-96f7-42a5-9c86-d6abf1e02f29",
   "metadata": {},
   "outputs": [],
   "source": [
    "df_txt.to_csv(\"text_of_publications.csv\")"
   ]
  },
  {
   "cell_type": "markdown",
   "id": "1098b74c-59ed-464d-8f43-e758ac3caadc",
   "metadata": {},
   "source": [
    "## Trimming File"
   ]
  },
  {
   "cell_type": "code",
   "execution_count": 36,
   "id": "d6598901-27c1-4f36-ad9f-85115eb6aca0",
   "metadata": {},
   "outputs": [],
   "source": [
    "#We only keep the needed columns.\n",
    "df2 = df2[[\"meta-script.article_author\", \"meta-script.article_bodycharcount\", \"meta-script.article_introcharcount\", \n",
    "           \"meta-script.page_sectiontrees\", \"meta-script.article_has_inline_media\", \n",
    "           \"cXenseParse:mhu-article_ispaidcontent\", \"Newspaper\", \"Landing page\", \"meta-script.article_publicationdate\"]]"
   ]
  },
  {
   "cell_type": "code",
   "execution_count": 37,
   "id": "f916aeed-7ddd-4154-956f-6c3cfab542ac",
   "metadata": {},
   "outputs": [],
   "source": [
    "#We rename some columns.\n",
    "df2.rename(columns = {\"meta-script.article_author\": \"Author\",\n",
    "                      \"meta-script.article_bodycharcount\": \"Body character count\",\n",
    "                      \"meta-script.article_introcharcount\": \"Intro character count\",\n",
    "                      \"meta-script.page_sectiontrees\": \"Section trees (aggregate)\",\n",
    "                      \"meta-script.article_has_inline_media\": \"Inline media\",\n",
    "                      \"cXenseParse:mhu-article_ispaidcontent\": \"Paid content\",\n",
    "                      \"meta-script.article_publicationdate\": \"Publication date\"}, inplace = True)"
   ]
  },
  {
   "cell_type": "code",
   "execution_count": 38,
   "id": "f3ef2066-65a4-4163-8ac7-87f8ddb497f3",
   "metadata": {},
   "outputs": [
    {
     "data": {
      "text/html": [
       "<div>\n",
       "<style scoped>\n",
       "    .dataframe tbody tr th:only-of-type {\n",
       "        vertical-align: middle;\n",
       "    }\n",
       "\n",
       "    .dataframe tbody tr th {\n",
       "        vertical-align: top;\n",
       "    }\n",
       "\n",
       "    .dataframe thead th {\n",
       "        text-align: right;\n",
       "    }\n",
       "</style>\n",
       "<table border=\"1\" class=\"dataframe\">\n",
       "  <thead>\n",
       "    <tr style=\"text-align: right;\">\n",
       "      <th></th>\n",
       "      <th>Author</th>\n",
       "      <th>Body character count</th>\n",
       "      <th>Intro character count</th>\n",
       "      <th>Section trees (aggregate)</th>\n",
       "      <th>Inline media</th>\n",
       "      <th>Paid content</th>\n",
       "      <th>Newspaper</th>\n",
       "      <th>Landing page</th>\n",
       "      <th>Publication date</th>\n",
       "    </tr>\n",
       "  </thead>\n",
       "  <tbody>\n",
       "    <tr>\n",
       "      <th>0</th>\n",
       "      <td>ANP</td>\n",
       "      <td>4888.0</td>\n",
       "      <td>302.0</td>\n",
       "      <td>nhd/sport|hd/sport|ge/sport|yc/sport|ld/sport|...</td>\n",
       "      <td>True</td>\n",
       "      <td>false</td>\n",
       "      <td>Gooieneemlander</td>\n",
       "      <td>/cnt/dmf20210612_49952447</td>\n",
       "      <td>20210612</td>\n",
       "    </tr>\n",
       "    <tr>\n",
       "      <th>1</th>\n",
       "      <td>Internetredactie</td>\n",
       "      <td>839.0</td>\n",
       "      <td>230.0</td>\n",
       "      <td>nhd/regio/gooi|ge/regio/gooi-en-eemland-|ge</td>\n",
       "      <td>True</td>\n",
       "      <td>false</td>\n",
       "      <td>Gooieneemlander</td>\n",
       "      <td>/cnt/dmf20210611_74078660</td>\n",
       "      <td>20210611</td>\n",
       "    </tr>\n",
       "    <tr>\n",
       "      <th>2</th>\n",
       "      <td>Susanne van Velzen</td>\n",
       "      <td>3403.0</td>\n",
       "      <td>426.0</td>\n",
       "      <td>nhd/regio/gooi|ge/regio/gooi-en-eemland-|ge</td>\n",
       "      <td>True</td>\n",
       "      <td>true</td>\n",
       "      <td>Gooieneemlander</td>\n",
       "      <td>/cnt/dmf20210609_6603454</td>\n",
       "      <td>20210609</td>\n",
       "    </tr>\n",
       "    <tr>\n",
       "      <th>3</th>\n",
       "      <td>Internetredactie</td>\n",
       "      <td>1807.0</td>\n",
       "      <td>182.0</td>\n",
       "      <td>nhd/regio/gooi|ge/regio/gooi-en-eemland-|ge</td>\n",
       "      <td>True</td>\n",
       "      <td>false</td>\n",
       "      <td>Gooieneemlander</td>\n",
       "      <td>/cnt/dmf20210609_60025534</td>\n",
       "      <td>20210609</td>\n",
       "    </tr>\n",
       "    <tr>\n",
       "      <th>4</th>\n",
       "      <td>Leander Mascini</td>\n",
       "      <td>2146.0</td>\n",
       "      <td>262.0</td>\n",
       "      <td>nhd/regio/gooi|ge/regio/gooi-en-eemland-|ge</td>\n",
       "      <td>True</td>\n",
       "      <td>false</td>\n",
       "      <td>Gooieneemlander</td>\n",
       "      <td>/cnt/dmf20210608_17288936</td>\n",
       "      <td>20210608</td>\n",
       "    </tr>\n",
       "  </tbody>\n",
       "</table>\n",
       "</div>"
      ],
      "text/plain": [
       "               Author  Body character count  Intro character count  \\\n",
       "0                 ANP                4888.0                  302.0   \n",
       "1    Internetredactie                 839.0                  230.0   \n",
       "2  Susanne van Velzen                3403.0                  426.0   \n",
       "3    Internetredactie                1807.0                  182.0   \n",
       "4     Leander Mascini                2146.0                  262.0   \n",
       "\n",
       "                           Section trees (aggregate) Inline media  \\\n",
       "0  nhd/sport|hd/sport|ge/sport|yc/sport|ld/sport|...         True   \n",
       "1        nhd/regio/gooi|ge/regio/gooi-en-eemland-|ge         True   \n",
       "2        nhd/regio/gooi|ge/regio/gooi-en-eemland-|ge         True   \n",
       "3        nhd/regio/gooi|ge/regio/gooi-en-eemland-|ge         True   \n",
       "4        nhd/regio/gooi|ge/regio/gooi-en-eemland-|ge         True   \n",
       "\n",
       "  Paid content        Newspaper               Landing page Publication date  \n",
       "0        false  Gooieneemlander  /cnt/dmf20210612_49952447         20210612  \n",
       "1        false  Gooieneemlander  /cnt/dmf20210611_74078660         20210611  \n",
       "2         true  Gooieneemlander   /cnt/dmf20210609_6603454         20210609  \n",
       "3        false  Gooieneemlander  /cnt/dmf20210609_60025534         20210609  \n",
       "4        false  Gooieneemlander  /cnt/dmf20210608_17288936         20210608  "
      ]
     },
     "execution_count": 38,
     "metadata": {},
     "output_type": "execute_result"
    }
   ],
   "source": [
    "#We inspect the data.\n",
    "df2.head()"
   ]
  },
  {
   "cell_type": "code",
   "execution_count": 39,
   "id": "655b4eb8-77bd-45b3-b432-2d6e276029b5",
   "metadata": {},
   "outputs": [
    {
     "name": "stdout",
     "output_type": "stream",
     "text": [
      "False    208640\n",
      "True        855\n",
      "dtype: int64\n"
     ]
    }
   ],
   "source": [
    "#We inspect the number of duplicates.\n",
    "print(df2.duplicated().value_counts())"
   ]
  },
  {
   "cell_type": "code",
   "execution_count": 40,
   "id": "1ac1a2a6-0126-4bd7-b48f-faffcec6da92",
   "metadata": {},
   "outputs": [],
   "source": [
    "#We remove the duplicates.\n",
    "df2.drop_duplicates(inplace=True)"
   ]
  },
  {
   "cell_type": "markdown",
   "id": "90c797d7-3920-4fce-a248-298bce6772e2",
   "metadata": {},
   "source": [
    "## Number of Sections and Categorical Dummies"
   ]
  },
  {
   "cell_type": "code",
   "execution_count": 41,
   "id": "96310c5b-bbe0-423e-b48b-57e4a7979bb9",
   "metadata": {},
   "outputs": [
    {
     "name": "stderr",
     "output_type": "stream",
     "text": [
      "100%|██████████| 208640/208640 [00:01<00:00, 125970.12it/s]\n"
     ]
    }
   ],
   "source": [
    "#We create an empty list.\n",
    "section_trees = []\n",
    "\n",
    "#We loop over the newspapers and trees for each publication.\n",
    "for newspaper, trees in tqdm(zip(df2[\"Newspaper\"], df2[\"Section trees (aggregate)\"]), total=len(df2)):\n",
    "    #We check which newspaper it is and define its respective abbreviation. \n",
    "    #(This abbreviation comes back in section trees and is therefore needed).\n",
    "    if newspaper == \"Gooieneemlander\":\n",
    "        abbr = \"ge\"\n",
    "    elif newspaper == \"Haarlemsdagblad\":\n",
    "        abbr = \"hd\"\n",
    "    elif newspaper == \"Ijmuidercourant\":\n",
    "        abbr = \"yc\"\n",
    "    elif newspaper == \"Leidschdagblad\":\n",
    "        abbr = \"ld\"\n",
    "    elif newspaper == \"Noordhollandsdagblad\":\n",
    "        abbr = \"nhd\"\n",
    "    \n",
    "    #We create another empty list.\n",
    "    clean = []\n",
    "    \n",
    "    #If trees is a string (thus not empty) we will loop over it.\n",
    "    if type(trees) == str:\n",
    "        #We will first split it on '|', the symbol which seperates the different trees/paths an article was on.\n",
    "        for tree in trees.split(\"|\"):\n",
    "            #We than split up the path in its seperate layers ('nhd/sport' becomes [nhd, sport]).\n",
    "            #And we check if one of those layers equals the abbreviation of the newspaper the publication was on.\n",
    "            #If so we append the original tree to the clean list.\n",
    "            #The purpose of doing so is to only keep the trees were on the newspaper of the respective publication.\n",
    "            #And thus to exclude the trees that refer to the same article, but that originate from a different newspaper.\n",
    "            if any(layer == abbr for layer in tree.split(\"/\")):\n",
    "                clean.append(tree)\n",
    "        \n",
    "        #We append this clean list to the overarching list.\n",
    "        section_trees.append(clean)\n",
    "    \n",
    "    #If it is not a string we will append nothing.\n",
    "    else:\n",
    "        section_trees.append(\"\")"
   ]
  },
  {
   "cell_type": "code",
   "execution_count": 42,
   "id": "9e86c7bb-d6b2-4d2a-a021-e3073bad6252",
   "metadata": {},
   "outputs": [],
   "source": [
    "#We add this list as a column.\n",
    "df2[\"Section trees\"] = section_trees\n",
    "section_trees =[]"
   ]
  },
  {
   "cell_type": "code",
   "execution_count": 43,
   "id": "02353d70-4fd3-4a6e-aa7f-f26f66ccd807",
   "metadata": {},
   "outputs": [
    {
     "data": {
      "text/html": [
       "<div>\n",
       "<style scoped>\n",
       "    .dataframe tbody tr th:only-of-type {\n",
       "        vertical-align: middle;\n",
       "    }\n",
       "\n",
       "    .dataframe tbody tr th {\n",
       "        vertical-align: top;\n",
       "    }\n",
       "\n",
       "    .dataframe thead th {\n",
       "        text-align: right;\n",
       "    }\n",
       "</style>\n",
       "<table border=\"1\" class=\"dataframe\">\n",
       "  <thead>\n",
       "    <tr style=\"text-align: right;\">\n",
       "      <th></th>\n",
       "      <th>Author</th>\n",
       "      <th>Body character count</th>\n",
       "      <th>Intro character count</th>\n",
       "      <th>Section trees (aggregate)</th>\n",
       "      <th>Inline media</th>\n",
       "      <th>Paid content</th>\n",
       "      <th>Newspaper</th>\n",
       "      <th>Landing page</th>\n",
       "      <th>Publication date</th>\n",
       "      <th>Section trees</th>\n",
       "    </tr>\n",
       "  </thead>\n",
       "  <tbody>\n",
       "    <tr>\n",
       "      <th>0</th>\n",
       "      <td>ANP</td>\n",
       "      <td>4888.0</td>\n",
       "      <td>302.0</td>\n",
       "      <td>nhd/sport|hd/sport|ge/sport|yc/sport|ld/sport|...</td>\n",
       "      <td>True</td>\n",
       "      <td>false</td>\n",
       "      <td>Gooieneemlander</td>\n",
       "      <td>/cnt/dmf20210612_49952447</td>\n",
       "      <td>20210612</td>\n",
       "      <td>[ge/sport, ge]</td>\n",
       "    </tr>\n",
       "    <tr>\n",
       "      <th>1</th>\n",
       "      <td>Internetredactie</td>\n",
       "      <td>839.0</td>\n",
       "      <td>230.0</td>\n",
       "      <td>nhd/regio/gooi|ge/regio/gooi-en-eemland-|ge</td>\n",
       "      <td>True</td>\n",
       "      <td>false</td>\n",
       "      <td>Gooieneemlander</td>\n",
       "      <td>/cnt/dmf20210611_74078660</td>\n",
       "      <td>20210611</td>\n",
       "      <td>[ge/regio/gooi-en-eemland-, ge]</td>\n",
       "    </tr>\n",
       "    <tr>\n",
       "      <th>2</th>\n",
       "      <td>Susanne van Velzen</td>\n",
       "      <td>3403.0</td>\n",
       "      <td>426.0</td>\n",
       "      <td>nhd/regio/gooi|ge/regio/gooi-en-eemland-|ge</td>\n",
       "      <td>True</td>\n",
       "      <td>true</td>\n",
       "      <td>Gooieneemlander</td>\n",
       "      <td>/cnt/dmf20210609_6603454</td>\n",
       "      <td>20210609</td>\n",
       "      <td>[ge/regio/gooi-en-eemland-, ge]</td>\n",
       "    </tr>\n",
       "    <tr>\n",
       "      <th>3</th>\n",
       "      <td>Internetredactie</td>\n",
       "      <td>1807.0</td>\n",
       "      <td>182.0</td>\n",
       "      <td>nhd/regio/gooi|ge/regio/gooi-en-eemland-|ge</td>\n",
       "      <td>True</td>\n",
       "      <td>false</td>\n",
       "      <td>Gooieneemlander</td>\n",
       "      <td>/cnt/dmf20210609_60025534</td>\n",
       "      <td>20210609</td>\n",
       "      <td>[ge/regio/gooi-en-eemland-, ge]</td>\n",
       "    </tr>\n",
       "    <tr>\n",
       "      <th>4</th>\n",
       "      <td>Leander Mascini</td>\n",
       "      <td>2146.0</td>\n",
       "      <td>262.0</td>\n",
       "      <td>nhd/regio/gooi|ge/regio/gooi-en-eemland-|ge</td>\n",
       "      <td>True</td>\n",
       "      <td>false</td>\n",
       "      <td>Gooieneemlander</td>\n",
       "      <td>/cnt/dmf20210608_17288936</td>\n",
       "      <td>20210608</td>\n",
       "      <td>[ge/regio/gooi-en-eemland-, ge]</td>\n",
       "    </tr>\n",
       "  </tbody>\n",
       "</table>\n",
       "</div>"
      ],
      "text/plain": [
       "               Author  Body character count  Intro character count  \\\n",
       "0                 ANP                4888.0                  302.0   \n",
       "1    Internetredactie                 839.0                  230.0   \n",
       "2  Susanne van Velzen                3403.0                  426.0   \n",
       "3    Internetredactie                1807.0                  182.0   \n",
       "4     Leander Mascini                2146.0                  262.0   \n",
       "\n",
       "                           Section trees (aggregate) Inline media  \\\n",
       "0  nhd/sport|hd/sport|ge/sport|yc/sport|ld/sport|...         True   \n",
       "1        nhd/regio/gooi|ge/regio/gooi-en-eemland-|ge         True   \n",
       "2        nhd/regio/gooi|ge/regio/gooi-en-eemland-|ge         True   \n",
       "3        nhd/regio/gooi|ge/regio/gooi-en-eemland-|ge         True   \n",
       "4        nhd/regio/gooi|ge/regio/gooi-en-eemland-|ge         True   \n",
       "\n",
       "  Paid content        Newspaper               Landing page Publication date  \\\n",
       "0        false  Gooieneemlander  /cnt/dmf20210612_49952447         20210612   \n",
       "1        false  Gooieneemlander  /cnt/dmf20210611_74078660         20210611   \n",
       "2         true  Gooieneemlander   /cnt/dmf20210609_6603454         20210609   \n",
       "3        false  Gooieneemlander  /cnt/dmf20210609_60025534         20210609   \n",
       "4        false  Gooieneemlander  /cnt/dmf20210608_17288936         20210608   \n",
       "\n",
       "                     Section trees  \n",
       "0                   [ge/sport, ge]  \n",
       "1  [ge/regio/gooi-en-eemland-, ge]  \n",
       "2  [ge/regio/gooi-en-eemland-, ge]  \n",
       "3  [ge/regio/gooi-en-eemland-, ge]  \n",
       "4  [ge/regio/gooi-en-eemland-, ge]  "
      ]
     },
     "execution_count": 43,
     "metadata": {},
     "output_type": "execute_result"
    }
   ],
   "source": [
    "#We inspect the data and can now see a cleaned version of the section trees column.\n",
    "df2.head()"
   ]
  },
  {
   "cell_type": "code",
   "execution_count": 44,
   "id": "b23f867f-791d-442b-8c98-fbb60efd6d65",
   "metadata": {},
   "outputs": [
    {
     "name": "stderr",
     "output_type": "stream",
     "text": [
      "100%|██████████| 208640/208640 [00:00<00:00, 567897.26it/s]\n"
     ]
    }
   ],
   "source": [
    "#We create a list of the abbreviations.\n",
    "newspapers = [\"nhd\", \"hd\", \"ge\", \"yc\", \"ld\"]\n",
    "\n",
    "#As well as an empty list.\n",
    "frontpage = []\n",
    "\n",
    "#We loop over the trees of the cleaned up section trees column.\n",
    "for trees in tqdm(df2[\"Section trees\"].values):\n",
    "    #If one of those equals an abbreviation, it indicates that the article has been on the frontpage.\n",
    "    #We append the respective answers to the list.\n",
    "    if any(tree in newspapers for tree in trees):\n",
    "        frontpage.append(True)\n",
    "    else:\n",
    "        frontpage.append(False)"
   ]
  },
  {
   "cell_type": "code",
   "execution_count": 45,
   "id": "8359aafe-7ede-4039-8184-5ff60ec10d7d",
   "metadata": {},
   "outputs": [
    {
     "data": {
      "text/plain": [
       "Counter({True: 79654, False: 128986})"
      ]
     },
     "execution_count": 45,
     "metadata": {},
     "output_type": "execute_result"
    }
   ],
   "source": [
    "#We inspect the list.\n",
    "Counter(frontpage)"
   ]
  },
  {
   "cell_type": "code",
   "execution_count": 46,
   "id": "4979faba-fd77-4657-a10b-586bcf77f88f",
   "metadata": {},
   "outputs": [],
   "source": [
    "#We add it as a column.\n",
    "df2[\"Frontpage\"] = frontpage\n",
    "frontpage = []"
   ]
  },
  {
   "cell_type": "markdown",
   "id": "43a1cbbf-756f-4c42-a40c-1bd88976230f",
   "metadata": {},
   "source": [
    "## Other Sections"
   ]
  },
  {
   "cell_type": "code",
   "execution_count": 47,
   "id": "08a64b3b-92f2-49bc-afd5-59e95fe5d12e",
   "metadata": {},
   "outputs": [],
   "source": [
    "#We create a function to create dummy variables if a publication is published on the section yes or no.\n",
    "def section_dummy(section_name):\n",
    "    #We define an empty list.\n",
    "    dummy_list = []\n",
    "    \n",
    "    #We loop over the section trees of a publication.\n",
    "    for trees in tqdm(df2[\"Section trees\"].values):\n",
    "        #We check if the section name is present in any of the trees.\n",
    "        if any(section_name in tree for tree in trees):\n",
    "            #If so we append true to the list.\n",
    "            dummy_list.append(True)\n",
    "        else:\n",
    "            #If not we append false to it.\n",
    "            dummy_list.append(False)\n",
    "    \n",
    "    #We check if the dummy list equals the original dataframe.\n",
    "    print(len(dummy_list) == len(df2))\n",
    "    #We print a counter.\n",
    "    print(Counter(dummy_list))\n",
    "    #We add it as a column.\n",
    "    df2[section_name.title()] = dummy_list\n",
    "    #We empty up the list.\n",
    "    dummy_list = []"
   ]
  },
  {
   "cell_type": "code",
   "execution_count": 48,
   "id": "43dd553e-4361-4903-b81e-ede37bb40fa1",
   "metadata": {},
   "outputs": [
    {
     "name": "stderr",
     "output_type": "stream",
     "text": [
      "100%|██████████| 208640/208640 [00:00<00:00, 633851.33it/s]"
     ]
    },
    {
     "name": "stdout",
     "output_type": "stream",
     "text": [
      "True\n",
      "Counter({False: 203309, True: 5331})\n"
     ]
    },
    {
     "name": "stderr",
     "output_type": "stream",
     "text": [
      "\n"
     ]
    }
   ],
   "source": [
    "#We do this for all relevant sections.\n",
    "section_dummy(\"uitgelicht\")"
   ]
  },
  {
   "cell_type": "code",
   "execution_count": 49,
   "id": "e8c4a129-a545-4996-b4e1-4087f27828cf",
   "metadata": {},
   "outputs": [
    {
     "name": "stderr",
     "output_type": "stream",
     "text": [
      "100%|██████████| 208640/208640 [00:00<00:00, 639188.52it/s]"
     ]
    },
    {
     "name": "stdout",
     "output_type": "stream",
     "text": [
      "True\n",
      "Counter({False: 206085, True: 2555})\n"
     ]
    },
    {
     "name": "stderr",
     "output_type": "stream",
     "text": [
      "\n"
     ]
    }
   ],
   "source": [
    "section_dummy(\"keuze-van-de-redactie\")"
   ]
  },
  {
   "cell_type": "code",
   "execution_count": 50,
   "id": "49a429bd-9998-46d5-a921-c1fc78be195a",
   "metadata": {},
   "outputs": [
    {
     "name": "stderr",
     "output_type": "stream",
     "text": [
      "100%|██████████| 208640/208640 [00:00<00:00, 631850.89it/s]"
     ]
    },
    {
     "name": "stdout",
     "output_type": "stream",
     "text": [
      "True\n",
      "Counter({False: 194761, True: 13879})\n"
     ]
    },
    {
     "name": "stderr",
     "output_type": "stream",
     "text": [
      "\n"
     ]
    }
   ],
   "source": [
    "section_dummy(\"sport\")"
   ]
  },
  {
   "cell_type": "code",
   "execution_count": 51,
   "id": "ccbc86ee-6c6d-42e5-a9a3-70698f08e65e",
   "metadata": {},
   "outputs": [
    {
     "name": "stderr",
     "output_type": "stream",
     "text": [
      "100%|██████████| 208640/208640 [00:00<00:00, 617375.98it/s]"
     ]
    },
    {
     "name": "stdout",
     "output_type": "stream",
     "text": [
      "True\n",
      "Counter({True: 119182, False: 89458})\n"
     ]
    },
    {
     "name": "stderr",
     "output_type": "stream",
     "text": [
      "\n"
     ]
    }
   ],
   "source": [
    "section_dummy(\"regio\")"
   ]
  },
  {
   "cell_type": "code",
   "execution_count": 52,
   "id": "2df22519-c68f-4a14-8955-c8131b46ecf8",
   "metadata": {},
   "outputs": [
    {
     "name": "stderr",
     "output_type": "stream",
     "text": [
      "100%|██████████| 208640/208640 [00:00<00:00, 632558.37it/s]"
     ]
    },
    {
     "name": "stdout",
     "output_type": "stream",
     "text": [
      "True\n",
      "Counter({False: 204976, True: 3664})\n"
     ]
    },
    {
     "name": "stderr",
     "output_type": "stream",
     "text": [
      "\n"
     ]
    }
   ],
   "source": [
    "section_dummy(\"achtergrond\")"
   ]
  },
  {
   "cell_type": "code",
   "execution_count": 53,
   "id": "8b717242-3928-47f5-b7dd-f1b594bdcd37",
   "metadata": {},
   "outputs": [
    {
     "name": "stderr",
     "output_type": "stream",
     "text": [
      "100%|██████████| 208640/208640 [00:00<00:00, 612542.02it/s]"
     ]
    },
    {
     "name": "stdout",
     "output_type": "stream",
     "text": [
      "True\n",
      "Counter({False: 205589, True: 3051})\n"
     ]
    },
    {
     "name": "stderr",
     "output_type": "stream",
     "text": [
      "\n"
     ]
    }
   ],
   "source": [
    "section_dummy(\"lifestyle\")"
   ]
  },
  {
   "cell_type": "code",
   "execution_count": 54,
   "id": "4028f1a9-0746-436b-a1a7-85146f3f34ea",
   "metadata": {},
   "outputs": [
    {
     "name": "stderr",
     "output_type": "stream",
     "text": [
      "100%|██████████| 208640/208640 [00:00<00:00, 607581.89it/s]"
     ]
    },
    {
     "name": "stdout",
     "output_type": "stream",
     "text": [
      "True\n",
      "Counter({False: 198209, True: 10431})\n"
     ]
    },
    {
     "name": "stderr",
     "output_type": "stream",
     "text": [
      "\n"
     ]
    }
   ],
   "source": [
    "section_dummy(\"buitenland\")"
   ]
  },
  {
   "cell_type": "code",
   "execution_count": 55,
   "id": "2b42d9ff-ecd1-4f56-b0c1-8ad517d907e3",
   "metadata": {},
   "outputs": [
    {
     "name": "stderr",
     "output_type": "stream",
     "text": [
      "100%|██████████| 208640/208640 [00:00<00:00, 624951.95it/s]"
     ]
    },
    {
     "name": "stdout",
     "output_type": "stream",
     "text": [
      "True\n",
      "Counter({False: 186637, True: 22003})\n"
     ]
    },
    {
     "name": "stderr",
     "output_type": "stream",
     "text": [
      "\n"
     ]
    }
   ],
   "source": [
    "section_dummy(\"binnenland\")"
   ]
  },
  {
   "cell_type": "code",
   "execution_count": 56,
   "id": "f8b88a0b-105f-4fab-98b2-b7ce45245ebd",
   "metadata": {},
   "outputs": [
    {
     "name": "stderr",
     "output_type": "stream",
     "text": [
      "100%|██████████| 208640/208640 [00:00<00:00, 619300.58it/s]"
     ]
    },
    {
     "name": "stdout",
     "output_type": "stream",
     "text": [
      "True\n",
      "Counter({False: 206039, True: 2601})\n"
     ]
    },
    {
     "name": "stderr",
     "output_type": "stream",
     "text": [
      "\n"
     ]
    }
   ],
   "source": [
    "section_dummy(\"opinie-column\")"
   ]
  },
  {
   "cell_type": "code",
   "execution_count": 57,
   "id": "4ee0d9e2-8a04-491c-b7e6-12e7068e2585",
   "metadata": {},
   "outputs": [
    {
     "name": "stderr",
     "output_type": "stream",
     "text": [
      "100%|██████████| 208640/208640 [00:00<00:00, 638960.30it/s]"
     ]
    },
    {
     "name": "stdout",
     "output_type": "stream",
     "text": [
      "True\n",
      "Counter({False: 207476, True: 1164})\n"
     ]
    },
    {
     "name": "stderr",
     "output_type": "stream",
     "text": [
      "\n"
     ]
    }
   ],
   "source": [
    "section_dummy(\"cultuur\")"
   ]
  },
  {
   "cell_type": "code",
   "execution_count": 58,
   "id": "b08b7898-ca53-487e-93a6-51f69c4b4804",
   "metadata": {},
   "outputs": [],
   "source": [
    "#We translate all of the column names.\n",
    "df2.rename(columns={\"Uitgelicht\": \"Highlighted\", \"Keuze-Van-De-Redactie\": \"Recommended\", \"Regio\": \"Regional\", \n",
    "                    \"Achtergrond\": \"Background\", \"Buitenland\": \"Foreign\",\n",
    "                    \"Binnenland\": \"Domestic\", \"Opinie-Column\": \"Opinion\", \"Cultuur\": \"Culture\"}, inplace=True)"
   ]
  },
  {
   "cell_type": "code",
   "execution_count": 59,
   "id": "934d8eb9-49eb-4aeb-9265-4285d2416dcd",
   "metadata": {},
   "outputs": [
    {
     "data": {
      "text/html": [
       "<div>\n",
       "<style scoped>\n",
       "    .dataframe tbody tr th:only-of-type {\n",
       "        vertical-align: middle;\n",
       "    }\n",
       "\n",
       "    .dataframe tbody tr th {\n",
       "        vertical-align: top;\n",
       "    }\n",
       "\n",
       "    .dataframe thead th {\n",
       "        text-align: right;\n",
       "    }\n",
       "</style>\n",
       "<table border=\"1\" class=\"dataframe\">\n",
       "  <thead>\n",
       "    <tr style=\"text-align: right;\">\n",
       "      <th></th>\n",
       "      <th>Author</th>\n",
       "      <th>Body character count</th>\n",
       "      <th>Intro character count</th>\n",
       "      <th>Section trees (aggregate)</th>\n",
       "      <th>Inline media</th>\n",
       "      <th>Paid content</th>\n",
       "      <th>Newspaper</th>\n",
       "      <th>Landing page</th>\n",
       "      <th>Publication date</th>\n",
       "      <th>Section trees</th>\n",
       "      <th>...</th>\n",
       "      <th>Highlighted</th>\n",
       "      <th>Recommended</th>\n",
       "      <th>Sport</th>\n",
       "      <th>Regional</th>\n",
       "      <th>Background</th>\n",
       "      <th>Lifestyle</th>\n",
       "      <th>Foreign</th>\n",
       "      <th>Domestic</th>\n",
       "      <th>Opinion</th>\n",
       "      <th>Culture</th>\n",
       "    </tr>\n",
       "  </thead>\n",
       "  <tbody>\n",
       "    <tr>\n",
       "      <th>0</th>\n",
       "      <td>ANP</td>\n",
       "      <td>4888.0</td>\n",
       "      <td>302.0</td>\n",
       "      <td>nhd/sport|hd/sport|ge/sport|yc/sport|ld/sport|...</td>\n",
       "      <td>True</td>\n",
       "      <td>false</td>\n",
       "      <td>Gooieneemlander</td>\n",
       "      <td>/cnt/dmf20210612_49952447</td>\n",
       "      <td>20210612</td>\n",
       "      <td>[ge/sport, ge]</td>\n",
       "      <td>...</td>\n",
       "      <td>False</td>\n",
       "      <td>False</td>\n",
       "      <td>True</td>\n",
       "      <td>False</td>\n",
       "      <td>False</td>\n",
       "      <td>False</td>\n",
       "      <td>False</td>\n",
       "      <td>False</td>\n",
       "      <td>False</td>\n",
       "      <td>False</td>\n",
       "    </tr>\n",
       "    <tr>\n",
       "      <th>1</th>\n",
       "      <td>Internetredactie</td>\n",
       "      <td>839.0</td>\n",
       "      <td>230.0</td>\n",
       "      <td>nhd/regio/gooi|ge/regio/gooi-en-eemland-|ge</td>\n",
       "      <td>True</td>\n",
       "      <td>false</td>\n",
       "      <td>Gooieneemlander</td>\n",
       "      <td>/cnt/dmf20210611_74078660</td>\n",
       "      <td>20210611</td>\n",
       "      <td>[ge/regio/gooi-en-eemland-, ge]</td>\n",
       "      <td>...</td>\n",
       "      <td>False</td>\n",
       "      <td>False</td>\n",
       "      <td>False</td>\n",
       "      <td>True</td>\n",
       "      <td>False</td>\n",
       "      <td>False</td>\n",
       "      <td>False</td>\n",
       "      <td>False</td>\n",
       "      <td>False</td>\n",
       "      <td>False</td>\n",
       "    </tr>\n",
       "    <tr>\n",
       "      <th>2</th>\n",
       "      <td>Susanne van Velzen</td>\n",
       "      <td>3403.0</td>\n",
       "      <td>426.0</td>\n",
       "      <td>nhd/regio/gooi|ge/regio/gooi-en-eemland-|ge</td>\n",
       "      <td>True</td>\n",
       "      <td>true</td>\n",
       "      <td>Gooieneemlander</td>\n",
       "      <td>/cnt/dmf20210609_6603454</td>\n",
       "      <td>20210609</td>\n",
       "      <td>[ge/regio/gooi-en-eemland-, ge]</td>\n",
       "      <td>...</td>\n",
       "      <td>False</td>\n",
       "      <td>False</td>\n",
       "      <td>False</td>\n",
       "      <td>True</td>\n",
       "      <td>False</td>\n",
       "      <td>False</td>\n",
       "      <td>False</td>\n",
       "      <td>False</td>\n",
       "      <td>False</td>\n",
       "      <td>False</td>\n",
       "    </tr>\n",
       "    <tr>\n",
       "      <th>3</th>\n",
       "      <td>Internetredactie</td>\n",
       "      <td>1807.0</td>\n",
       "      <td>182.0</td>\n",
       "      <td>nhd/regio/gooi|ge/regio/gooi-en-eemland-|ge</td>\n",
       "      <td>True</td>\n",
       "      <td>false</td>\n",
       "      <td>Gooieneemlander</td>\n",
       "      <td>/cnt/dmf20210609_60025534</td>\n",
       "      <td>20210609</td>\n",
       "      <td>[ge/regio/gooi-en-eemland-, ge]</td>\n",
       "      <td>...</td>\n",
       "      <td>False</td>\n",
       "      <td>False</td>\n",
       "      <td>False</td>\n",
       "      <td>True</td>\n",
       "      <td>False</td>\n",
       "      <td>False</td>\n",
       "      <td>False</td>\n",
       "      <td>False</td>\n",
       "      <td>False</td>\n",
       "      <td>False</td>\n",
       "    </tr>\n",
       "    <tr>\n",
       "      <th>4</th>\n",
       "      <td>Leander Mascini</td>\n",
       "      <td>2146.0</td>\n",
       "      <td>262.0</td>\n",
       "      <td>nhd/regio/gooi|ge/regio/gooi-en-eemland-|ge</td>\n",
       "      <td>True</td>\n",
       "      <td>false</td>\n",
       "      <td>Gooieneemlander</td>\n",
       "      <td>/cnt/dmf20210608_17288936</td>\n",
       "      <td>20210608</td>\n",
       "      <td>[ge/regio/gooi-en-eemland-, ge]</td>\n",
       "      <td>...</td>\n",
       "      <td>False</td>\n",
       "      <td>False</td>\n",
       "      <td>False</td>\n",
       "      <td>True</td>\n",
       "      <td>False</td>\n",
       "      <td>False</td>\n",
       "      <td>False</td>\n",
       "      <td>False</td>\n",
       "      <td>False</td>\n",
       "      <td>False</td>\n",
       "    </tr>\n",
       "  </tbody>\n",
       "</table>\n",
       "<p>5 rows × 21 columns</p>\n",
       "</div>"
      ],
      "text/plain": [
       "               Author  Body character count  Intro character count  \\\n",
       "0                 ANP                4888.0                  302.0   \n",
       "1    Internetredactie                 839.0                  230.0   \n",
       "2  Susanne van Velzen                3403.0                  426.0   \n",
       "3    Internetredactie                1807.0                  182.0   \n",
       "4     Leander Mascini                2146.0                  262.0   \n",
       "\n",
       "                           Section trees (aggregate) Inline media  \\\n",
       "0  nhd/sport|hd/sport|ge/sport|yc/sport|ld/sport|...         True   \n",
       "1        nhd/regio/gooi|ge/regio/gooi-en-eemland-|ge         True   \n",
       "2        nhd/regio/gooi|ge/regio/gooi-en-eemland-|ge         True   \n",
       "3        nhd/regio/gooi|ge/regio/gooi-en-eemland-|ge         True   \n",
       "4        nhd/regio/gooi|ge/regio/gooi-en-eemland-|ge         True   \n",
       "\n",
       "  Paid content        Newspaper               Landing page Publication date  \\\n",
       "0        false  Gooieneemlander  /cnt/dmf20210612_49952447         20210612   \n",
       "1        false  Gooieneemlander  /cnt/dmf20210611_74078660         20210611   \n",
       "2         true  Gooieneemlander   /cnt/dmf20210609_6603454         20210609   \n",
       "3        false  Gooieneemlander  /cnt/dmf20210609_60025534         20210609   \n",
       "4        false  Gooieneemlander  /cnt/dmf20210608_17288936         20210608   \n",
       "\n",
       "                     Section trees  ...  Highlighted  Recommended  Sport  \\\n",
       "0                   [ge/sport, ge]  ...        False        False   True   \n",
       "1  [ge/regio/gooi-en-eemland-, ge]  ...        False        False  False   \n",
       "2  [ge/regio/gooi-en-eemland-, ge]  ...        False        False  False   \n",
       "3  [ge/regio/gooi-en-eemland-, ge]  ...        False        False  False   \n",
       "4  [ge/regio/gooi-en-eemland-, ge]  ...        False        False  False   \n",
       "\n",
       "   Regional  Background  Lifestyle  Foreign  Domestic  Opinion  Culture  \n",
       "0     False       False      False    False     False    False    False  \n",
       "1      True       False      False    False     False    False    False  \n",
       "2      True       False      False    False     False    False    False  \n",
       "3      True       False      False    False     False    False    False  \n",
       "4      True       False      False    False     False    False    False  \n",
       "\n",
       "[5 rows x 21 columns]"
      ]
     },
     "execution_count": 59,
     "metadata": {},
     "output_type": "execute_result"
    }
   ],
   "source": [
    "df2.head()"
   ]
  },
  {
   "cell_type": "markdown",
   "id": "e53ec7f4-08bd-4df6-82e0-e6c2413ca649",
   "metadata": {},
   "source": [
    "## Number of Sections (Including Frontpage)"
   ]
  },
  {
   "cell_type": "code",
   "execution_count": 60,
   "id": "61fe756d-5c00-43c0-99ae-9011b9734ab8",
   "metadata": {},
   "outputs": [
    {
     "name": "stderr",
     "output_type": "stream",
     "text": [
      "100%|██████████| 208640/208640 [00:00<00:00, 1027012.14it/s]\n"
     ]
    }
   ],
   "source": [
    "#We create an empty list.\n",
    "number_of_sections = []\n",
    "\n",
    "#We loop over the sections in section trees.\n",
    "for sections in tqdm(df2[\"Section trees\"]):\n",
    "    #If it is empty we append nothing.\n",
    "    if sections == \"\":\n",
    "        number_of_sections.append(\"\")\n",
    "    #Otherwise we append the length of it.\n",
    "    else:\n",
    "        number_of_sections.append(len(sections))"
   ]
  },
  {
   "cell_type": "code",
   "execution_count": 61,
   "id": "a8e47025-598c-462c-bbb8-c4f087b01281",
   "metadata": {},
   "outputs": [
    {
     "data": {
      "text/plain": [
       "Counter({2: 47669,\n",
       "         3: 2675,\n",
       "         1: 156868,\n",
       "         '': 1146,\n",
       "         4: 220,\n",
       "         7: 5,\n",
       "         6: 15,\n",
       "         5: 41,\n",
       "         8: 1})"
      ]
     },
     "execution_count": 61,
     "metadata": {},
     "output_type": "execute_result"
    }
   ],
   "source": [
    "#We inspect the list.\n",
    "Counter(number_of_sections)"
   ]
  },
  {
   "cell_type": "code",
   "execution_count": 62,
   "id": "d468d961-18a5-4593-abf0-16a3eba648f8",
   "metadata": {},
   "outputs": [],
   "source": [
    "#We add the list as a column.\n",
    "df2[\"Number of sections (incl. frontpage)\"] = number_of_sections\n",
    "number_of_sections = []"
   ]
  },
  {
   "cell_type": "markdown",
   "id": "596da474-89a7-48ab-b254-8d0701c68473",
   "metadata": {},
   "source": [
    "## Number of Sections (Excluding Frontpage)"
   ]
  },
  {
   "cell_type": "code",
   "execution_count": 63,
   "id": "23c1ea50-e7db-4dd9-bde7-e88fd7421e34",
   "metadata": {},
   "outputs": [
    {
     "name": "stderr",
     "output_type": "stream",
     "text": [
      "100%|██████████| 208640/208640 [00:00<00:00, 570719.85it/s]\n"
     ]
    }
   ],
   "source": [
    "#We now do exactly the same however we exclude the sections that are solely an abbreviation.\n",
    "#These sections indicate being on the frontpage, however, the number of sections highly correlate with being on the frontpage.\n",
    "#We thus exclude them from the length.\n",
    "number_of_sections_V2 = []\n",
    "\n",
    "newspapers = [\"nhd\", \"hd\", \"ge\", \"yc\", \"ld\"]\n",
    "\n",
    "for sections in tqdm(df2[\"Section trees\"]):\n",
    "    if sections == \"\":     \n",
    "        number_of_sections_V2.append(\"\")\n",
    "    else:\n",
    "        #Thus if the section is in newspapers (the list of abbreviations, the proxy for frontpage), it is excluded from the count.\n",
    "        number_of_sections_V2.append(len([x for x in sections if x not in newspapers]))"
   ]
  },
  {
   "cell_type": "code",
   "execution_count": 64,
   "id": "736bca0d-647e-4a85-972c-f22df0250c83",
   "metadata": {},
   "outputs": [
    {
     "data": {
      "text/plain": [
       "Counter({1: 171957,\n",
       "         2: 4290,\n",
       "         0: 30865,\n",
       "         '': 1146,\n",
       "         3: 310,\n",
       "         6: 8,\n",
       "         5: 21,\n",
       "         4: 42,\n",
       "         7: 1})"
      ]
     },
     "execution_count": 64,
     "metadata": {},
     "output_type": "execute_result"
    }
   ],
   "source": [
    "#We inspect the list.\n",
    "#Ofcourse zero now corresponds to being on the frontpage and thus it needs to be made missing in the analysis without controls.\n",
    "Counter(number_of_sections_V2)"
   ]
  },
  {
   "cell_type": "code",
   "execution_count": 65,
   "id": "1d732b7a-6a0f-4aec-9199-852b3204e4dd",
   "metadata": {},
   "outputs": [],
   "source": [
    "#We add the list as a column.\n",
    "df2[\"Number of sections (excl. frontpage)\"] = number_of_sections_V2\n",
    "number_of_sections_V2 = []"
   ]
  },
  {
   "cell_type": "markdown",
   "id": "4d6ca449-8546-4562-a740-922a4f27c9ee",
   "metadata": {},
   "source": [
    "## Author / Byline"
   ]
  },
  {
   "cell_type": "code",
   "execution_count": 66,
   "id": "e574731d-9c7b-409e-acc3-604f3d69a57b",
   "metadata": {},
   "outputs": [
    {
     "name": "stdout",
     "output_type": "stream",
     "text": [
      "[('ANP Producties', 32413), ('', 14403), ('Internetredactie', 8736), ('Van onze verslaggever', 3512), ('ANP', 2734), ('Eddie de Paepe', 1780), ('Bart Boele', 1572), ('Martijn Gijsbertsen', 1486), ('Leander Mascini', 1349), ('Pieter van Hove', 1312), ('Annemarie de Jong', 1302), ('Loman Leefmans', 1274), ('Susanne van Velzen', 1256), ('Eric Molenaar', 1247), ('Wessel Mekking', 1244), ('Ed Brouwer', 1210), ('Kees de Boer', 1181), ('Tanja Koopen', 1154), (nan, 1146), ('Eric Lorier', 1109), ('Arnold Aarts', 1103), ('Leontien van Engelen', 1101), ('Marieta Kroft', 1096), ('Richard Stekelenburg', 1078), ('Henk Runhaar', 1066), ('Arthur de Mijttenaere', 1058), ('Cees Beemster', 1040), ('Robert Jan van der Woud', 1017), ('Marten Visser', 1013), ('Marlies Vording', 993), ('Hans van Keken', 985), ('Delano Weltevreden', 976), ('Peter Schat', 949), ('Paul de Vlieger', 947), ('Casper Duin', 946), ('Joyce Huibers', 930), ('Milo Lambers', 923), ('Frans van den Berg', 913), ('Redacteur West-Friesland', 910), ('Hein Flach', 902), ('Ron Amesz', 898), ('Rob Bakker', 898), ('Richard Zut', 874), ('Hielke Biemond', 855), ('Eric Kok', 855), ('Ronneke van der Genugten', 843), ('Wilfred Simons', 841), ('Judy Nihof', 838), ('Martin Menger', 826), ('Marjolein Vos', 821), ('Connie Vertegaal', 814), ('Carlo Nijveen', 813), ('Jacob van der Meulen', 806), ('Paul Gutter', 794), ('Theo Brinkman', 792), ('Theo de With', 788), ('Koen van Eijk', 776), ('Ed Dekker', 775), ('Robbert Minkhorst', 770), ('Erna Straatsma', 763), ('Sjaak Smakman', 756), ('Paul van der Kooij', 754), ('Tamar de Vries', 743), ('Roel van Leeuwen', 743), ('Jan Vriend', 736), ('Anja Roubos', 722), ('Arie Booy', 717), ('Peter van der Hulst', 711), ('Frenk Klein Arfman', 710), ('Bart Vuijk', 707), ('Kees van Dalsem', 706), ('Ivo Laan', 702), ('Coen van de Luytgaarden', 698), ('Susanne Moerkerk', 697), ('Marcel Tabbers', 691), ('Ronald Frisart', 683), ('Cas Broxterman', 683), ('Mirjam van Twisk', 681), ('Hans Swierstra', 665), ('Ronald Massaut', 655), ('Hans Brandsma', 653), ('Dominic Schijven', 652), ('Lydia Jasper', 649), ('Annet van Aarsen', 648), ('Ton de Lange', 629), ('Friso Bos', 625), ('Henk-Jan den Ouden', 622), ('Merlin Mulder', 619), ('Jetty Claus', 607), ('Suzanne Rijnja', 584), ('Rien Floris', 581), ('Gert van der Maten', 577), ('Willemien Schenkeveld', 576), ('Rob Swart', 575), ('Michiel Snik', 566), ('José Pietens', 559), ('Martijn Mak', 550), ('Mike Deutekom', 547), ('Annette Snaas', 534), ('Ruud Ramler', 533)]\n"
     ]
    }
   ],
   "source": [
    "#We print the most common authors.\n",
    "print((Counter(df2.Author).most_common(100)))"
   ]
  },
  {
   "cell_type": "code",
   "execution_count": 67,
   "id": "29f78025-15f5-4cde-aef0-95fbd378b3e3",
   "metadata": {},
   "outputs": [
    {
     "name": "stderr",
     "output_type": "stream",
     "text": [
      "100%|██████████| 208640/208640 [00:00<00:00, 574778.43it/s]\n"
     ]
    }
   ],
   "source": [
    "#We create an empty list.\n",
    "authors = []\n",
    "\n",
    "#We loop over the authors column.\n",
    "for item in tqdm(df2.Author.values):\n",
    "    #We use several keywords to unravel what kind of author it was.\n",
    "    if \"redac\" in str(item):\n",
    "        authors.append(\"editor(s)\")\n",
    "    elif \"ANP\" in str(item):\n",
    "        authors.append(\"ANP (news agency)\")\n",
    "    elif \"verslag\" in str(item):\n",
    "        authors.append(\"our reporter(s)\")\n",
    "    elif item == \"\":\n",
    "        authors.append(\"unknown\")\n",
    "    else:\n",
    "        authors.append(\"individual reporter(s)\")"
   ]
  },
  {
   "cell_type": "code",
   "execution_count": 68,
   "id": "0014dc0b-bdf9-4d15-9e39-ccf0803cacd5",
   "metadata": {},
   "outputs": [
    {
     "data": {
      "text/plain": [
       "Counter({'ANP (news agency)': 35191,\n",
       "         'editor(s)': 9389,\n",
       "         'individual reporter(s)': 145056,\n",
       "         'unknown': 14403,\n",
       "         'our reporter(s)': 4601})"
      ]
     },
     "execution_count": 68,
     "metadata": {},
     "output_type": "execute_result"
    }
   ],
   "source": [
    "#We add it as a column.\n",
    "df2[\"Author\"] = authors\n",
    "authors = []\n",
    "#We inspect the column.\n",
    "Counter(df2.Author)"
   ]
  },
  {
   "cell_type": "markdown",
   "id": "1dfdb4ed-5597-4182-bf08-67233966543c",
   "metadata": {},
   "source": [
    "## Character Count"
   ]
  },
  {
   "cell_type": "code",
   "execution_count": 69,
   "id": "4256faf3-9843-45a3-8db2-24824ad0c79e",
   "metadata": {},
   "outputs": [],
   "source": [
    "#We sum the body and intro character count together.\n",
    "df2[\"Character count\"] = df2[\"Body character count\"] + df2[\"Intro character count\"]"
   ]
  },
  {
   "cell_type": "code",
   "execution_count": 70,
   "id": "e3874d97-f498-4484-a050-927b78bef284",
   "metadata": {},
   "outputs": [],
   "source": [
    "#We drop the seperate columns.\n",
    "df2.drop(columns=[\"Body character count\", \"Intro character count\"], inplace=True)"
   ]
  },
  {
   "cell_type": "code",
   "execution_count": 71,
   "id": "04c0f2c9-8df9-4bdd-9f44-a0eeaffaaf70",
   "metadata": {},
   "outputs": [
    {
     "data": {
      "text/html": [
       "<div>\n",
       "<style scoped>\n",
       "    .dataframe tbody tr th:only-of-type {\n",
       "        vertical-align: middle;\n",
       "    }\n",
       "\n",
       "    .dataframe tbody tr th {\n",
       "        vertical-align: top;\n",
       "    }\n",
       "\n",
       "    .dataframe thead th {\n",
       "        text-align: right;\n",
       "    }\n",
       "</style>\n",
       "<table border=\"1\" class=\"dataframe\">\n",
       "  <thead>\n",
       "    <tr style=\"text-align: right;\">\n",
       "      <th></th>\n",
       "      <th>Author</th>\n",
       "      <th>Section trees (aggregate)</th>\n",
       "      <th>Inline media</th>\n",
       "      <th>Paid content</th>\n",
       "      <th>Newspaper</th>\n",
       "      <th>Landing page</th>\n",
       "      <th>Publication date</th>\n",
       "      <th>Section trees</th>\n",
       "      <th>Frontpage</th>\n",
       "      <th>Highlighted</th>\n",
       "      <th>...</th>\n",
       "      <th>Regional</th>\n",
       "      <th>Background</th>\n",
       "      <th>Lifestyle</th>\n",
       "      <th>Foreign</th>\n",
       "      <th>Domestic</th>\n",
       "      <th>Opinion</th>\n",
       "      <th>Culture</th>\n",
       "      <th>Number of sections (incl. frontpage)</th>\n",
       "      <th>Number of sections (excl. frontpage)</th>\n",
       "      <th>Character count</th>\n",
       "    </tr>\n",
       "  </thead>\n",
       "  <tbody>\n",
       "    <tr>\n",
       "      <th>0</th>\n",
       "      <td>ANP (news agency)</td>\n",
       "      <td>nhd/sport|hd/sport|ge/sport|yc/sport|ld/sport|...</td>\n",
       "      <td>True</td>\n",
       "      <td>false</td>\n",
       "      <td>Gooieneemlander</td>\n",
       "      <td>/cnt/dmf20210612_49952447</td>\n",
       "      <td>20210612</td>\n",
       "      <td>[ge/sport, ge]</td>\n",
       "      <td>True</td>\n",
       "      <td>False</td>\n",
       "      <td>...</td>\n",
       "      <td>False</td>\n",
       "      <td>False</td>\n",
       "      <td>False</td>\n",
       "      <td>False</td>\n",
       "      <td>False</td>\n",
       "      <td>False</td>\n",
       "      <td>False</td>\n",
       "      <td>2</td>\n",
       "      <td>1</td>\n",
       "      <td>5190.0</td>\n",
       "    </tr>\n",
       "    <tr>\n",
       "      <th>1</th>\n",
       "      <td>editor(s)</td>\n",
       "      <td>nhd/regio/gooi|ge/regio/gooi-en-eemland-|ge</td>\n",
       "      <td>True</td>\n",
       "      <td>false</td>\n",
       "      <td>Gooieneemlander</td>\n",
       "      <td>/cnt/dmf20210611_74078660</td>\n",
       "      <td>20210611</td>\n",
       "      <td>[ge/regio/gooi-en-eemland-, ge]</td>\n",
       "      <td>True</td>\n",
       "      <td>False</td>\n",
       "      <td>...</td>\n",
       "      <td>True</td>\n",
       "      <td>False</td>\n",
       "      <td>False</td>\n",
       "      <td>False</td>\n",
       "      <td>False</td>\n",
       "      <td>False</td>\n",
       "      <td>False</td>\n",
       "      <td>2</td>\n",
       "      <td>1</td>\n",
       "      <td>1069.0</td>\n",
       "    </tr>\n",
       "    <tr>\n",
       "      <th>2</th>\n",
       "      <td>individual reporter(s)</td>\n",
       "      <td>nhd/regio/gooi|ge/regio/gooi-en-eemland-|ge</td>\n",
       "      <td>True</td>\n",
       "      <td>true</td>\n",
       "      <td>Gooieneemlander</td>\n",
       "      <td>/cnt/dmf20210609_6603454</td>\n",
       "      <td>20210609</td>\n",
       "      <td>[ge/regio/gooi-en-eemland-, ge]</td>\n",
       "      <td>True</td>\n",
       "      <td>False</td>\n",
       "      <td>...</td>\n",
       "      <td>True</td>\n",
       "      <td>False</td>\n",
       "      <td>False</td>\n",
       "      <td>False</td>\n",
       "      <td>False</td>\n",
       "      <td>False</td>\n",
       "      <td>False</td>\n",
       "      <td>2</td>\n",
       "      <td>1</td>\n",
       "      <td>3829.0</td>\n",
       "    </tr>\n",
       "    <tr>\n",
       "      <th>3</th>\n",
       "      <td>editor(s)</td>\n",
       "      <td>nhd/regio/gooi|ge/regio/gooi-en-eemland-|ge</td>\n",
       "      <td>True</td>\n",
       "      <td>false</td>\n",
       "      <td>Gooieneemlander</td>\n",
       "      <td>/cnt/dmf20210609_60025534</td>\n",
       "      <td>20210609</td>\n",
       "      <td>[ge/regio/gooi-en-eemland-, ge]</td>\n",
       "      <td>True</td>\n",
       "      <td>False</td>\n",
       "      <td>...</td>\n",
       "      <td>True</td>\n",
       "      <td>False</td>\n",
       "      <td>False</td>\n",
       "      <td>False</td>\n",
       "      <td>False</td>\n",
       "      <td>False</td>\n",
       "      <td>False</td>\n",
       "      <td>2</td>\n",
       "      <td>1</td>\n",
       "      <td>1989.0</td>\n",
       "    </tr>\n",
       "    <tr>\n",
       "      <th>4</th>\n",
       "      <td>individual reporter(s)</td>\n",
       "      <td>nhd/regio/gooi|ge/regio/gooi-en-eemland-|ge</td>\n",
       "      <td>True</td>\n",
       "      <td>false</td>\n",
       "      <td>Gooieneemlander</td>\n",
       "      <td>/cnt/dmf20210608_17288936</td>\n",
       "      <td>20210608</td>\n",
       "      <td>[ge/regio/gooi-en-eemland-, ge]</td>\n",
       "      <td>True</td>\n",
       "      <td>False</td>\n",
       "      <td>...</td>\n",
       "      <td>True</td>\n",
       "      <td>False</td>\n",
       "      <td>False</td>\n",
       "      <td>False</td>\n",
       "      <td>False</td>\n",
       "      <td>False</td>\n",
       "      <td>False</td>\n",
       "      <td>2</td>\n",
       "      <td>1</td>\n",
       "      <td>2408.0</td>\n",
       "    </tr>\n",
       "  </tbody>\n",
       "</table>\n",
       "<p>5 rows × 22 columns</p>\n",
       "</div>"
      ],
      "text/plain": [
       "                   Author                          Section trees (aggregate)  \\\n",
       "0       ANP (news agency)  nhd/sport|hd/sport|ge/sport|yc/sport|ld/sport|...   \n",
       "1               editor(s)        nhd/regio/gooi|ge/regio/gooi-en-eemland-|ge   \n",
       "2  individual reporter(s)        nhd/regio/gooi|ge/regio/gooi-en-eemland-|ge   \n",
       "3               editor(s)        nhd/regio/gooi|ge/regio/gooi-en-eemland-|ge   \n",
       "4  individual reporter(s)        nhd/regio/gooi|ge/regio/gooi-en-eemland-|ge   \n",
       "\n",
       "  Inline media Paid content        Newspaper               Landing page  \\\n",
       "0         True        false  Gooieneemlander  /cnt/dmf20210612_49952447   \n",
       "1         True        false  Gooieneemlander  /cnt/dmf20210611_74078660   \n",
       "2         True         true  Gooieneemlander   /cnt/dmf20210609_6603454   \n",
       "3         True        false  Gooieneemlander  /cnt/dmf20210609_60025534   \n",
       "4         True        false  Gooieneemlander  /cnt/dmf20210608_17288936   \n",
       "\n",
       "  Publication date                    Section trees  Frontpage  Highlighted  \\\n",
       "0         20210612                   [ge/sport, ge]       True        False   \n",
       "1         20210611  [ge/regio/gooi-en-eemland-, ge]       True        False   \n",
       "2         20210609  [ge/regio/gooi-en-eemland-, ge]       True        False   \n",
       "3         20210609  [ge/regio/gooi-en-eemland-, ge]       True        False   \n",
       "4         20210608  [ge/regio/gooi-en-eemland-, ge]       True        False   \n",
       "\n",
       "   ...  Regional  Background  Lifestyle  Foreign  Domestic  Opinion  Culture  \\\n",
       "0  ...     False       False      False    False     False    False    False   \n",
       "1  ...      True       False      False    False     False    False    False   \n",
       "2  ...      True       False      False    False     False    False    False   \n",
       "3  ...      True       False      False    False     False    False    False   \n",
       "4  ...      True       False      False    False     False    False    False   \n",
       "\n",
       "   Number of sections (incl. frontpage)  Number of sections (excl. frontpage)  \\\n",
       "0                                     2                                     1   \n",
       "1                                     2                                     1   \n",
       "2                                     2                                     1   \n",
       "3                                     2                                     1   \n",
       "4                                     2                                     1   \n",
       "\n",
       "  Character count  \n",
       "0          5190.0  \n",
       "1          1069.0  \n",
       "2          3829.0  \n",
       "3          1989.0  \n",
       "4          2408.0  \n",
       "\n",
       "[5 rows x 22 columns]"
      ]
     },
     "execution_count": 71,
     "metadata": {},
     "output_type": "execute_result"
    }
   ],
   "source": [
    "#We inspect the data.\n",
    "df2.head()"
   ]
  },
  {
   "cell_type": "markdown",
   "id": "d777a928-bbb3-4625-bcd2-14c3ca2194ba",
   "metadata": {},
   "source": [
    "## Day of the Week"
   ]
  },
  {
   "cell_type": "code",
   "execution_count": 72,
   "id": "dfd65d73-9a7a-4a1c-9976-a5484d17890b",
   "metadata": {},
   "outputs": [
    {
     "name": "stderr",
     "output_type": "stream",
     "text": [
      "100%|██████████| 208640/208640 [00:02<00:00, 71704.20it/s]\n"
     ]
    }
   ],
   "source": [
    "#We create an empty list.\n",
    "day_of_the_week = []\n",
    "\n",
    "#We loop over the publication dates.\n",
    "for item in tqdm(df2[\"Publication date\"].values):\n",
    "    #We turn it into a timstamp.\n",
    "    datetime_object = pd.Timestamp(item)\n",
    "    #We extract the name of the day.\n",
    "    day = datetime_object.day_name()\n",
    "    #We append it to our list.\n",
    "    day_of_the_week.append(day)"
   ]
  },
  {
   "cell_type": "code",
   "execution_count": 73,
   "id": "bc03d65f-1eb4-43cb-9a23-ca5bcb12b2ff",
   "metadata": {},
   "outputs": [],
   "source": [
    "#We add it as a column.\n",
    "df2[\"Day of the week\"] = day_of_the_week\n",
    "day_of_the_week = []"
   ]
  },
  {
   "cell_type": "markdown",
   "id": "7696aa1a-9a05-4b3b-8199-3421f385d337",
   "metadata": {},
   "source": [
    "## Inline Media"
   ]
  },
  {
   "cell_type": "code",
   "execution_count": 74,
   "id": "0eb25f98-3cd6-4709-beeb-d513f897b669",
   "metadata": {},
   "outputs": [],
   "source": [
    "#We turn the inline media column into a boolean value.\n",
    "df2[\"Inline media\"] = df2[\"Inline media\"].astype(\"category\").cat.rename_categories({\"True\": True, \"False\": False})"
   ]
  },
  {
   "cell_type": "markdown",
   "id": "ebd97adf-1d77-491f-b31b-0505753f3d1e",
   "metadata": {},
   "source": [
    "## Paid Content"
   ]
  },
  {
   "cell_type": "code",
   "execution_count": 75,
   "id": "9cdd3a38-6c4c-4fa9-adb3-109dfad2c379",
   "metadata": {},
   "outputs": [],
   "source": [
    "#We do the same for paid content.\n",
    "df2[\"Paid content\"] = df2[\"Paid content\"].astype(\"category\").cat.rename_categories({\"true\": True, \"false\": False})"
   ]
  },
  {
   "cell_type": "code",
   "execution_count": 76,
   "id": "15df2c6c-d54a-485e-a4b5-2e7ae0e5c1f7",
   "metadata": {},
   "outputs": [
    {
     "data": {
      "text/html": [
       "<div>\n",
       "<style scoped>\n",
       "    .dataframe tbody tr th:only-of-type {\n",
       "        vertical-align: middle;\n",
       "    }\n",
       "\n",
       "    .dataframe tbody tr th {\n",
       "        vertical-align: top;\n",
       "    }\n",
       "\n",
       "    .dataframe thead th {\n",
       "        text-align: right;\n",
       "    }\n",
       "</style>\n",
       "<table border=\"1\" class=\"dataframe\">\n",
       "  <thead>\n",
       "    <tr style=\"text-align: right;\">\n",
       "      <th></th>\n",
       "      <th>Author</th>\n",
       "      <th>Section trees (aggregate)</th>\n",
       "      <th>Inline media</th>\n",
       "      <th>Paid content</th>\n",
       "      <th>Newspaper</th>\n",
       "      <th>Landing page</th>\n",
       "      <th>Publication date</th>\n",
       "      <th>Section trees</th>\n",
       "      <th>Frontpage</th>\n",
       "      <th>Highlighted</th>\n",
       "      <th>...</th>\n",
       "      <th>Background</th>\n",
       "      <th>Lifestyle</th>\n",
       "      <th>Foreign</th>\n",
       "      <th>Domestic</th>\n",
       "      <th>Opinion</th>\n",
       "      <th>Culture</th>\n",
       "      <th>Number of sections (incl. frontpage)</th>\n",
       "      <th>Number of sections (excl. frontpage)</th>\n",
       "      <th>Character count</th>\n",
       "      <th>Day of the week</th>\n",
       "    </tr>\n",
       "  </thead>\n",
       "  <tbody>\n",
       "    <tr>\n",
       "      <th>0</th>\n",
       "      <td>ANP (news agency)</td>\n",
       "      <td>nhd/sport|hd/sport|ge/sport|yc/sport|ld/sport|...</td>\n",
       "      <td>True</td>\n",
       "      <td>False</td>\n",
       "      <td>Gooieneemlander</td>\n",
       "      <td>/cnt/dmf20210612_49952447</td>\n",
       "      <td>20210612</td>\n",
       "      <td>[ge/sport, ge]</td>\n",
       "      <td>True</td>\n",
       "      <td>False</td>\n",
       "      <td>...</td>\n",
       "      <td>False</td>\n",
       "      <td>False</td>\n",
       "      <td>False</td>\n",
       "      <td>False</td>\n",
       "      <td>False</td>\n",
       "      <td>False</td>\n",
       "      <td>2</td>\n",
       "      <td>1</td>\n",
       "      <td>5190.0</td>\n",
       "      <td>Saturday</td>\n",
       "    </tr>\n",
       "    <tr>\n",
       "      <th>1</th>\n",
       "      <td>editor(s)</td>\n",
       "      <td>nhd/regio/gooi|ge/regio/gooi-en-eemland-|ge</td>\n",
       "      <td>True</td>\n",
       "      <td>False</td>\n",
       "      <td>Gooieneemlander</td>\n",
       "      <td>/cnt/dmf20210611_74078660</td>\n",
       "      <td>20210611</td>\n",
       "      <td>[ge/regio/gooi-en-eemland-, ge]</td>\n",
       "      <td>True</td>\n",
       "      <td>False</td>\n",
       "      <td>...</td>\n",
       "      <td>False</td>\n",
       "      <td>False</td>\n",
       "      <td>False</td>\n",
       "      <td>False</td>\n",
       "      <td>False</td>\n",
       "      <td>False</td>\n",
       "      <td>2</td>\n",
       "      <td>1</td>\n",
       "      <td>1069.0</td>\n",
       "      <td>Friday</td>\n",
       "    </tr>\n",
       "    <tr>\n",
       "      <th>2</th>\n",
       "      <td>individual reporter(s)</td>\n",
       "      <td>nhd/regio/gooi|ge/regio/gooi-en-eemland-|ge</td>\n",
       "      <td>True</td>\n",
       "      <td>True</td>\n",
       "      <td>Gooieneemlander</td>\n",
       "      <td>/cnt/dmf20210609_6603454</td>\n",
       "      <td>20210609</td>\n",
       "      <td>[ge/regio/gooi-en-eemland-, ge]</td>\n",
       "      <td>True</td>\n",
       "      <td>False</td>\n",
       "      <td>...</td>\n",
       "      <td>False</td>\n",
       "      <td>False</td>\n",
       "      <td>False</td>\n",
       "      <td>False</td>\n",
       "      <td>False</td>\n",
       "      <td>False</td>\n",
       "      <td>2</td>\n",
       "      <td>1</td>\n",
       "      <td>3829.0</td>\n",
       "      <td>Wednesday</td>\n",
       "    </tr>\n",
       "    <tr>\n",
       "      <th>3</th>\n",
       "      <td>editor(s)</td>\n",
       "      <td>nhd/regio/gooi|ge/regio/gooi-en-eemland-|ge</td>\n",
       "      <td>True</td>\n",
       "      <td>False</td>\n",
       "      <td>Gooieneemlander</td>\n",
       "      <td>/cnt/dmf20210609_60025534</td>\n",
       "      <td>20210609</td>\n",
       "      <td>[ge/regio/gooi-en-eemland-, ge]</td>\n",
       "      <td>True</td>\n",
       "      <td>False</td>\n",
       "      <td>...</td>\n",
       "      <td>False</td>\n",
       "      <td>False</td>\n",
       "      <td>False</td>\n",
       "      <td>False</td>\n",
       "      <td>False</td>\n",
       "      <td>False</td>\n",
       "      <td>2</td>\n",
       "      <td>1</td>\n",
       "      <td>1989.0</td>\n",
       "      <td>Wednesday</td>\n",
       "    </tr>\n",
       "    <tr>\n",
       "      <th>4</th>\n",
       "      <td>individual reporter(s)</td>\n",
       "      <td>nhd/regio/gooi|ge/regio/gooi-en-eemland-|ge</td>\n",
       "      <td>True</td>\n",
       "      <td>False</td>\n",
       "      <td>Gooieneemlander</td>\n",
       "      <td>/cnt/dmf20210608_17288936</td>\n",
       "      <td>20210608</td>\n",
       "      <td>[ge/regio/gooi-en-eemland-, ge]</td>\n",
       "      <td>True</td>\n",
       "      <td>False</td>\n",
       "      <td>...</td>\n",
       "      <td>False</td>\n",
       "      <td>False</td>\n",
       "      <td>False</td>\n",
       "      <td>False</td>\n",
       "      <td>False</td>\n",
       "      <td>False</td>\n",
       "      <td>2</td>\n",
       "      <td>1</td>\n",
       "      <td>2408.0</td>\n",
       "      <td>Tuesday</td>\n",
       "    </tr>\n",
       "  </tbody>\n",
       "</table>\n",
       "<p>5 rows × 23 columns</p>\n",
       "</div>"
      ],
      "text/plain": [
       "                   Author                          Section trees (aggregate)  \\\n",
       "0       ANP (news agency)  nhd/sport|hd/sport|ge/sport|yc/sport|ld/sport|...   \n",
       "1               editor(s)        nhd/regio/gooi|ge/regio/gooi-en-eemland-|ge   \n",
       "2  individual reporter(s)        nhd/regio/gooi|ge/regio/gooi-en-eemland-|ge   \n",
       "3               editor(s)        nhd/regio/gooi|ge/regio/gooi-en-eemland-|ge   \n",
       "4  individual reporter(s)        nhd/regio/gooi|ge/regio/gooi-en-eemland-|ge   \n",
       "\n",
       "  Inline media Paid content        Newspaper               Landing page  \\\n",
       "0         True        False  Gooieneemlander  /cnt/dmf20210612_49952447   \n",
       "1         True        False  Gooieneemlander  /cnt/dmf20210611_74078660   \n",
       "2         True         True  Gooieneemlander   /cnt/dmf20210609_6603454   \n",
       "3         True        False  Gooieneemlander  /cnt/dmf20210609_60025534   \n",
       "4         True        False  Gooieneemlander  /cnt/dmf20210608_17288936   \n",
       "\n",
       "  Publication date                    Section trees  Frontpage  Highlighted  \\\n",
       "0         20210612                   [ge/sport, ge]       True        False   \n",
       "1         20210611  [ge/regio/gooi-en-eemland-, ge]       True        False   \n",
       "2         20210609  [ge/regio/gooi-en-eemland-, ge]       True        False   \n",
       "3         20210609  [ge/regio/gooi-en-eemland-, ge]       True        False   \n",
       "4         20210608  [ge/regio/gooi-en-eemland-, ge]       True        False   \n",
       "\n",
       "   ...  Background  Lifestyle  Foreign  Domestic  Opinion  Culture  \\\n",
       "0  ...       False      False    False     False    False    False   \n",
       "1  ...       False      False    False     False    False    False   \n",
       "2  ...       False      False    False     False    False    False   \n",
       "3  ...       False      False    False     False    False    False   \n",
       "4  ...       False      False    False     False    False    False   \n",
       "\n",
       "   Number of sections (incl. frontpage)  Number of sections (excl. frontpage)  \\\n",
       "0                                     2                                     1   \n",
       "1                                     2                                     1   \n",
       "2                                     2                                     1   \n",
       "3                                     2                                     1   \n",
       "4                                     2                                     1   \n",
       "\n",
       "   Character count Day of the week  \n",
       "0           5190.0        Saturday  \n",
       "1           1069.0          Friday  \n",
       "2           3829.0       Wednesday  \n",
       "3           1989.0       Wednesday  \n",
       "4           2408.0         Tuesday  \n",
       "\n",
       "[5 rows x 23 columns]"
      ]
     },
     "execution_count": 76,
     "metadata": {},
     "output_type": "execute_result"
    }
   ],
   "source": [
    "#We inspect the data.\n",
    "df2.head()"
   ]
  },
  {
   "cell_type": "code",
   "execution_count": 77,
   "id": "cb55b103-0307-4e79-b28b-40b8486f69a7",
   "metadata": {},
   "outputs": [
    {
     "data": {
      "text/plain": [
       "Index(['Author', 'Background', 'Character count', 'Culture', 'Day of the week',\n",
       "       'Domestic', 'Foreign', 'Frontpage', 'Highlighted', 'Inline media',\n",
       "       'Landing page', 'Lifestyle', 'Newspaper',\n",
       "       'Number of sections (excl. frontpage)',\n",
       "       'Number of sections (incl. frontpage)', 'Opinion', 'Paid content',\n",
       "       'Publication date', 'Recommended', 'Regional', 'Section trees',\n",
       "       'Section trees (aggregate)', 'Sport'],\n",
       "      dtype='object')"
      ]
     },
     "execution_count": 77,
     "metadata": {},
     "output_type": "execute_result"
    }
   ],
   "source": [
    "#We sort the columns by their names.\n",
    "df2.columns.sort_values()"
   ]
  },
  {
   "cell_type": "code",
   "execution_count": 78,
   "id": "3c73e67a-aa42-43b9-a104-ccfdd8e580ca",
   "metadata": {},
   "outputs": [
    {
     "data": {
      "text/plain": [
       "Index(['Added views', 'Half-life', 'Hours passed', 'Hours till peak',\n",
       "       'Landing page', 'Newspaper', 'Peak views', 'Percentage', 'Popularity',\n",
       "       'Popularity rank', 'Popularity rank in 1st 2h', 'Publication date',\n",
       "       'Shelf-life', 'Slope after peak', 'Slope before peak',\n",
       "       'Time of the day', 'Timestamp date', 'Total views', 'Views',\n",
       "       'Views in 1st 2h', 'Z_Views'],\n",
       "      dtype='object')"
      ]
     },
     "execution_count": 78,
     "metadata": {},
     "output_type": "execute_result"
    }
   ],
   "source": [
    "#We inspect the columns of the lagged dataset.\n",
    "df.columns.sort_values()"
   ]
  },
  {
   "cell_type": "markdown",
   "id": "ccee88b5-bcb6-4f4e-846c-71f500777c64",
   "metadata": {},
   "source": [
    "## Merging CSV with JSON files."
   ]
  },
  {
   "cell_type": "code",
   "execution_count": 79,
   "id": "7a3c61ba-f9df-43cb-b853-2ba7600d0a38",
   "metadata": {
    "tags": []
   },
   "outputs": [],
   "source": [
    "#We merge the files (excluding publication date, which is in there twice).\n",
    "df3 = df.merge(df2.loc[:, ~df2.columns.isin([\"Publication date\"])], how=\"left\", on=[\"Newspaper\", \"Landing page\"])"
   ]
  },
  {
   "cell_type": "code",
   "execution_count": 80,
   "id": "98646aec-b074-4f49-ba38-2b24a723c88e",
   "metadata": {},
   "outputs": [],
   "source": [
    "df = []\n",
    "df2 = []"
   ]
  },
  {
   "cell_type": "code",
   "execution_count": 81,
   "id": "eb577d5a-d54c-46be-82bd-dd6021002d5a",
   "metadata": {},
   "outputs": [],
   "source": [
    "#We sort the columns by their names.\n",
    "df3 = df3.reindex(sorted(df3.columns), axis=1)"
   ]
  },
  {
   "cell_type": "code",
   "execution_count": 82,
   "id": "0aaa4c86-f197-45ad-89b8-c825c566b4e9",
   "metadata": {},
   "outputs": [
    {
     "data": {
      "text/plain": [
       "Index(['Added views', 'Author', 'Background', 'Character count', 'Culture',\n",
       "       'Day of the week', 'Domestic', 'Foreign', 'Frontpage', 'Half-life',\n",
       "       'Highlighted', 'Hours passed', 'Hours till peak', 'Inline media',\n",
       "       'Landing page', 'Lifestyle', 'Newspaper',\n",
       "       'Number of sections (excl. frontpage)',\n",
       "       'Number of sections (incl. frontpage)', 'Opinion', 'Paid content',\n",
       "       'Peak views', 'Percentage', 'Popularity', 'Popularity rank',\n",
       "       'Popularity rank in 1st 2h', 'Publication date', 'Recommended',\n",
       "       'Regional', 'Section trees', 'Section trees (aggregate)', 'Shelf-life',\n",
       "       'Slope after peak', 'Slope before peak', 'Sport', 'Time of the day',\n",
       "       'Timestamp date', 'Total views', 'Views', 'Views in 1st 2h', 'Z_Views'],\n",
       "      dtype='object')"
      ]
     },
     "execution_count": 82,
     "metadata": {},
     "output_type": "execute_result"
    }
   ],
   "source": [
    "#We look at all the columns.\n",
    "df3.columns"
   ]
  },
  {
   "cell_type": "code",
   "execution_count": 83,
   "id": "75274e9c-7b8a-4223-8538-35f1fa6360a9",
   "metadata": {},
   "outputs": [],
   "source": [
    "#We remove those that we do not longer need.\n",
    "df3.drop(columns=[\"Added views\", \"Peak views\", \"Percentage\", \"Section trees (aggregate)\", \"Z_Views\"], inplace=True)"
   ]
  },
  {
   "cell_type": "code",
   "execution_count": 84,
   "id": "44981232-157a-407e-8cfe-fcc3381835c8",
   "metadata": {},
   "outputs": [
    {
     "data": {
      "text/html": [
       "<div>\n",
       "<style scoped>\n",
       "    .dataframe tbody tr th:only-of-type {\n",
       "        vertical-align: middle;\n",
       "    }\n",
       "\n",
       "    .dataframe tbody tr th {\n",
       "        vertical-align: top;\n",
       "    }\n",
       "\n",
       "    .dataframe thead th {\n",
       "        text-align: right;\n",
       "    }\n",
       "</style>\n",
       "<table border=\"1\" class=\"dataframe\">\n",
       "  <thead>\n",
       "    <tr style=\"text-align: right;\">\n",
       "      <th></th>\n",
       "      <th>Author</th>\n",
       "      <th>Background</th>\n",
       "      <th>Character count</th>\n",
       "      <th>Culture</th>\n",
       "      <th>Day of the week</th>\n",
       "      <th>Domestic</th>\n",
       "      <th>Foreign</th>\n",
       "      <th>Frontpage</th>\n",
       "      <th>Half-life</th>\n",
       "      <th>Highlighted</th>\n",
       "      <th>...</th>\n",
       "      <th>Section trees</th>\n",
       "      <th>Shelf-life</th>\n",
       "      <th>Slope after peak</th>\n",
       "      <th>Slope before peak</th>\n",
       "      <th>Sport</th>\n",
       "      <th>Time of the day</th>\n",
       "      <th>Timestamp date</th>\n",
       "      <th>Total views</th>\n",
       "      <th>Views</th>\n",
       "      <th>Views in 1st 2h</th>\n",
       "    </tr>\n",
       "  </thead>\n",
       "  <tbody>\n",
       "    <tr>\n",
       "      <th>0</th>\n",
       "      <td>unknown</td>\n",
       "      <td>False</td>\n",
       "      <td>3286.0</td>\n",
       "      <td>False</td>\n",
       "      <td>Wednesday</td>\n",
       "      <td>False</td>\n",
       "      <td>False</td>\n",
       "      <td>True</td>\n",
       "      <td>28</td>\n",
       "      <td>False</td>\n",
       "      <td>...</td>\n",
       "      <td>[ge/extra/opinie-column, ge]</td>\n",
       "      <td>38</td>\n",
       "      <td>0.0</td>\n",
       "      <td>0.176591</td>\n",
       "      <td>False</td>\n",
       "      <td>19</td>\n",
       "      <td>2021-05-26 19:00:00</td>\n",
       "      <td>3</td>\n",
       "      <td>0</td>\n",
       "      <td>0</td>\n",
       "    </tr>\n",
       "    <tr>\n",
       "      <th>1</th>\n",
       "      <td>unknown</td>\n",
       "      <td>False</td>\n",
       "      <td>3286.0</td>\n",
       "      <td>False</td>\n",
       "      <td>Wednesday</td>\n",
       "      <td>False</td>\n",
       "      <td>False</td>\n",
       "      <td>True</td>\n",
       "      <td>28</td>\n",
       "      <td>False</td>\n",
       "      <td>...</td>\n",
       "      <td>[ge/extra/opinie-column, ge]</td>\n",
       "      <td>38</td>\n",
       "      <td>0.0</td>\n",
       "      <td>0.176591</td>\n",
       "      <td>False</td>\n",
       "      <td>20</td>\n",
       "      <td>2021-05-26 20:00:00</td>\n",
       "      <td>3</td>\n",
       "      <td>0</td>\n",
       "      <td>0</td>\n",
       "    </tr>\n",
       "    <tr>\n",
       "      <th>2</th>\n",
       "      <td>unknown</td>\n",
       "      <td>False</td>\n",
       "      <td>3286.0</td>\n",
       "      <td>False</td>\n",
       "      <td>Wednesday</td>\n",
       "      <td>False</td>\n",
       "      <td>False</td>\n",
       "      <td>True</td>\n",
       "      <td>28</td>\n",
       "      <td>False</td>\n",
       "      <td>...</td>\n",
       "      <td>[ge/extra/opinie-column, ge]</td>\n",
       "      <td>38</td>\n",
       "      <td>0.0</td>\n",
       "      <td>0.176591</td>\n",
       "      <td>False</td>\n",
       "      <td>21</td>\n",
       "      <td>2021-05-26 21:00:00</td>\n",
       "      <td>3</td>\n",
       "      <td>0</td>\n",
       "      <td>0</td>\n",
       "    </tr>\n",
       "    <tr>\n",
       "      <th>3</th>\n",
       "      <td>unknown</td>\n",
       "      <td>False</td>\n",
       "      <td>3286.0</td>\n",
       "      <td>False</td>\n",
       "      <td>Wednesday</td>\n",
       "      <td>False</td>\n",
       "      <td>False</td>\n",
       "      <td>True</td>\n",
       "      <td>28</td>\n",
       "      <td>False</td>\n",
       "      <td>...</td>\n",
       "      <td>[ge/extra/opinie-column, ge]</td>\n",
       "      <td>38</td>\n",
       "      <td>0.0</td>\n",
       "      <td>0.176591</td>\n",
       "      <td>False</td>\n",
       "      <td>22</td>\n",
       "      <td>2021-05-26 22:00:00</td>\n",
       "      <td>3</td>\n",
       "      <td>0</td>\n",
       "      <td>0</td>\n",
       "    </tr>\n",
       "    <tr>\n",
       "      <th>4</th>\n",
       "      <td>unknown</td>\n",
       "      <td>False</td>\n",
       "      <td>3286.0</td>\n",
       "      <td>False</td>\n",
       "      <td>Wednesday</td>\n",
       "      <td>False</td>\n",
       "      <td>False</td>\n",
       "      <td>True</td>\n",
       "      <td>28</td>\n",
       "      <td>False</td>\n",
       "      <td>...</td>\n",
       "      <td>[ge/extra/opinie-column, ge]</td>\n",
       "      <td>38</td>\n",
       "      <td>0.0</td>\n",
       "      <td>0.176591</td>\n",
       "      <td>False</td>\n",
       "      <td>23</td>\n",
       "      <td>2021-05-26 23:00:00</td>\n",
       "      <td>3</td>\n",
       "      <td>0</td>\n",
       "      <td>0</td>\n",
       "    </tr>\n",
       "  </tbody>\n",
       "</table>\n",
       "<p>5 rows × 36 columns</p>\n",
       "</div>"
      ],
      "text/plain": [
       "    Author  Background  Character count  Culture Day of the week  Domestic  \\\n",
       "0  unknown       False           3286.0    False       Wednesday     False   \n",
       "1  unknown       False           3286.0    False       Wednesday     False   \n",
       "2  unknown       False           3286.0    False       Wednesday     False   \n",
       "3  unknown       False           3286.0    False       Wednesday     False   \n",
       "4  unknown       False           3286.0    False       Wednesday     False   \n",
       "\n",
       "   Foreign  Frontpage  Half-life  Highlighted  ...  \\\n",
       "0    False       True         28        False  ...   \n",
       "1    False       True         28        False  ...   \n",
       "2    False       True         28        False  ...   \n",
       "3    False       True         28        False  ...   \n",
       "4    False       True         28        False  ...   \n",
       "\n",
       "                  Section trees  Shelf-life Slope after peak  \\\n",
       "0  [ge/extra/opinie-column, ge]          38              0.0   \n",
       "1  [ge/extra/opinie-column, ge]          38              0.0   \n",
       "2  [ge/extra/opinie-column, ge]          38              0.0   \n",
       "3  [ge/extra/opinie-column, ge]          38              0.0   \n",
       "4  [ge/extra/opinie-column, ge]          38              0.0   \n",
       "\n",
       "  Slope before peak  Sport Time of the day       Timestamp date Total views  \\\n",
       "0          0.176591  False              19  2021-05-26 19:00:00           3   \n",
       "1          0.176591  False              20  2021-05-26 20:00:00           3   \n",
       "2          0.176591  False              21  2021-05-26 21:00:00           3   \n",
       "3          0.176591  False              22  2021-05-26 22:00:00           3   \n",
       "4          0.176591  False              23  2021-05-26 23:00:00           3   \n",
       "\n",
       "   Views Views in 1st 2h  \n",
       "0      0               0  \n",
       "1      0               0  \n",
       "2      0               0  \n",
       "3      0               0  \n",
       "4      0               0  \n",
       "\n",
       "[5 rows x 36 columns]"
      ]
     },
     "execution_count": 84,
     "metadata": {},
     "output_type": "execute_result"
    }
   ],
   "source": [
    "#We inspect it one more time.\n",
    "df3.head()"
   ]
  },
  {
   "cell_type": "code",
   "execution_count": 85,
   "id": "6d66e31c-a4a3-4fe8-9ad4-49597cf001a3",
   "metadata": {},
   "outputs": [
    {
     "name": "stdout",
     "output_type": "stream",
     "text": [
      "Size of the dataframe: 13.84 GB\n",
      "Zero values overall: 16823012\n",
      "Zero values in the first 72 hours: 1618869\n"
     ]
    }
   ],
   "source": [
    "#We calculate the size of the frame as well as the zero values overall and within the first 72 hours.\n",
    "print(f\"Size of the dataframe: {(sys.getsizeof(df3) / 10**9):.2f} GB\")\n",
    "print(f\"Zero values overall: {df3['Views'].value_counts()[0]}\")\n",
    "print(f\"Zero values in the first 72 hours: {df3[df3['Hours passed'] <= 72]['Views'].value_counts()[0]}\")"
   ]
  },
  {
   "cell_type": "code",
   "execution_count": 86,
   "id": "ce07b227-3646-480e-bd00-d8272ebc3a3a",
   "metadata": {},
   "outputs": [],
   "source": [
    "#We write the file away.\n",
    "df3.to_csv(\"Newspapers_Complete.csv\", index=False)"
   ]
  },
  {
   "cell_type": "code",
   "execution_count": null,
   "id": "d7555431-2389-4e8a-89bb-6e6f5818cd22",
   "metadata": {},
   "outputs": [],
   "source": []
  }
 ],
 "metadata": {
  "kernelspec": {
   "display_name": "Python 3 (ipykernel)",
   "language": "python",
   "name": "python3"
  },
  "language_info": {
   "codemirror_mode": {
    "name": "ipython",
    "version": 3
   },
   "file_extension": ".py",
   "mimetype": "text/x-python",
   "name": "python",
   "nbconvert_exporter": "python",
   "pygments_lexer": "ipython3",
   "version": "3.9.5"
  }
 },
 "nbformat": 4,
 "nbformat_minor": 5
}
