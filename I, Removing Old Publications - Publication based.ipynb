{
 "cells": [
  {
   "cell_type": "code",
   "execution_count": 1,
   "id": "e3415631-c9ef-4047-8608-a4423ba64a7f",
   "metadata": {},
   "outputs": [],
   "source": [
    "#We load in all necessary libraries.\n",
    "from tqdm import tqdm\n",
    "import pandas as pd\n",
    "import json\n",
    "from pandas import json_normalize\n",
    "import re\n",
    "from collections import Counter\n",
    "from datetime import datetime\n",
    "import numpy as np"
   ]
  },
  {
   "cell_type": "markdown",
   "id": "3cf99380-7d7d-4a18-bfc1-0c36af1790f5",
   "metadata": {},
   "source": [
    "## Combining per-Hour CSV Files"
   ]
  },
  {
   "cell_type": "code",
   "execution_count": 2,
   "id": "d1dec942-0468-4bbc-b0bd-60ec6c12103b",
   "metadata": {},
   "outputs": [
    {
     "name": "stderr",
     "output_type": "stream",
     "text": [
      "100%|██████████| 5/5 [01:22<00:00, 16.47s/it]\n"
     ]
    },
    {
     "name": "stdout",
     "output_type": "stream",
     "text": [
      "Length of df equals sum of seperate newspaper dataframes = True.\n"
     ]
    }
   ],
   "source": [
    "#We create a list of the existing newspapers in the data.\n",
    "newspapers = [\"gooieneemlander\", \"haarlemsdagblad\", \"ijmuidercourant\", \"leidschdagblad\", \"noordhollandsdagblad\"]\n",
    "\n",
    "#We create an empty list.\n",
    "df = []\n",
    "\n",
    "#We create an object equal to zero.\n",
    "length = 0\n",
    "\n",
    "#We loop over all the newspapers.\n",
    "for n in tqdm(newspapers):\n",
    "    #We store each newspaper per hour file as a seperate object, by their respective names.\n",
    "    globals()[n] = pd.read_csv(f\"{n}.nl-perhour.csv\")\n",
    "    #We add to it a column with the name of the newspaper.\n",
    "    globals()[n][\"Newspaper\"] = n.title()\n",
    "    \n",
    "    #We sum the length of the current data-object with the zero object.\n",
    "    length += len(globals()[n])\n",
    "    \n",
    "    #We add the newspaper per-hour objects to a list.\n",
    "    df.append(globals()[n])\n",
    "\n",
    "#We stack the list of data objects together.\n",
    "df = pd.concat(df, ignore_index = True)\n",
    "\n",
    "#We check if the length of the seperate objects combined equals the length of the definitive dataframe.\n",
    "print(f\"Length of df equals sum of seperate newspaper dataframes = {len(df) == length}.\")"
   ]
  },
  {
   "cell_type": "code",
   "execution_count": 3,
   "id": "73710c9c-4257-4cd9-a7d4-77673469d4d1",
   "metadata": {},
   "outputs": [],
   "source": [
    "#We convert the date to a datetime object.\n",
    "df[\"timestamp\"] = pd.to_datetime(df.timestamp, format=\"%Y-%m-%d %H:%M:%S\")"
   ]
  },
  {
   "cell_type": "code",
   "execution_count": 4,
   "id": "f74b069a-f084-48ee-8b64-a6df980dfe8c",
   "metadata": {},
   "outputs": [],
   "source": [
    "#We use a regular expression to extract the landing page.\n",
    "df[\"Landing page\"] = df[\"Bestemmingspagina\"].apply(lambda x: re.search(r\"\\/cnt\\/dmf(\\d+)_\\d+\", x.lower()).group(0))"
   ]
  },
  {
   "cell_type": "code",
   "execution_count": 5,
   "id": "f4c166d9-6763-45c1-8b3f-412a9950c08c",
   "metadata": {},
   "outputs": [
    {
     "data": {
      "text/html": [
       "<div>\n",
       "<style scoped>\n",
       "    .dataframe tbody tr th:only-of-type {\n",
       "        vertical-align: middle;\n",
       "    }\n",
       "\n",
       "    .dataframe tbody tr th {\n",
       "        vertical-align: top;\n",
       "    }\n",
       "\n",
       "    .dataframe thead th {\n",
       "        text-align: right;\n",
       "    }\n",
       "</style>\n",
       "<table border=\"1\" class=\"dataframe\">\n",
       "  <thead>\n",
       "    <tr style=\"text-align: right;\">\n",
       "      <th></th>\n",
       "      <th>Bestemmingspagina</th>\n",
       "      <th>timestamp</th>\n",
       "      <th>Sessies</th>\n",
       "      <th>Newspaper</th>\n",
       "      <th>Landing page</th>\n",
       "    </tr>\n",
       "  </thead>\n",
       "  <tbody>\n",
       "    <tr>\n",
       "      <th>74127110</th>\n",
       "      <td>/cnt/dmf20191229_491</td>\n",
       "      <td>2021-06-06 22:00:00</td>\n",
       "      <td>0</td>\n",
       "      <td>Noordhollandsdagblad</td>\n",
       "      <td>/cnt/dmf20191229_491</td>\n",
       "    </tr>\n",
       "    <tr>\n",
       "      <th>90327868</th>\n",
       "      <td>/cnt/dmf20200812_110</td>\n",
       "      <td>2021-05-06 09:00:00</td>\n",
       "      <td>0</td>\n",
       "      <td>Noordhollandsdagblad</td>\n",
       "      <td>/cnt/dmf20200812_110</td>\n",
       "    </tr>\n",
       "    <tr>\n",
       "      <th>90327867</th>\n",
       "      <td>/cnt/dmf20200812_110</td>\n",
       "      <td>2021-05-06 08:00:00</td>\n",
       "      <td>0</td>\n",
       "      <td>Noordhollandsdagblad</td>\n",
       "      <td>/cnt/dmf20200812_110</td>\n",
       "    </tr>\n",
       "    <tr>\n",
       "      <th>90327866</th>\n",
       "      <td>/cnt/dmf20200812_110</td>\n",
       "      <td>2021-05-06 07:00:00</td>\n",
       "      <td>0</td>\n",
       "      <td>Noordhollandsdagblad</td>\n",
       "      <td>/cnt/dmf20200812_110</td>\n",
       "    </tr>\n",
       "    <tr>\n",
       "      <th>90327865</th>\n",
       "      <td>/cnt/dmf20200812_110</td>\n",
       "      <td>2021-05-06 06:00:00</td>\n",
       "      <td>0</td>\n",
       "      <td>Noordhollandsdagblad</td>\n",
       "      <td>/cnt/dmf20200812_110</td>\n",
       "    </tr>\n",
       "    <tr>\n",
       "      <th>...</th>\n",
       "      <td>...</td>\n",
       "      <td>...</td>\n",
       "      <td>...</td>\n",
       "      <td>...</td>\n",
       "      <td>...</td>\n",
       "    </tr>\n",
       "    <tr>\n",
       "      <th>44140140</th>\n",
       "      <td>/cnt/dmf20210415_52244494</td>\n",
       "      <td>2021-06-30 12:00:00</td>\n",
       "      <td>0</td>\n",
       "      <td>Leidschdagblad</td>\n",
       "      <td>/cnt/dmf20210415_52244494</td>\n",
       "    </tr>\n",
       "    <tr>\n",
       "      <th>44140139</th>\n",
       "      <td>/cnt/dmf20210415_52244494</td>\n",
       "      <td>2021-06-30 11:00:00</td>\n",
       "      <td>0</td>\n",
       "      <td>Leidschdagblad</td>\n",
       "      <td>/cnt/dmf20210415_52244494</td>\n",
       "    </tr>\n",
       "    <tr>\n",
       "      <th>44140138</th>\n",
       "      <td>/cnt/dmf20210415_52244494</td>\n",
       "      <td>2021-06-30 10:00:00</td>\n",
       "      <td>0</td>\n",
       "      <td>Leidschdagblad</td>\n",
       "      <td>/cnt/dmf20210415_52244494</td>\n",
       "    </tr>\n",
       "    <tr>\n",
       "      <th>44140164</th>\n",
       "      <td>/cnt/dmf20210415_52244494</td>\n",
       "      <td>2021-07-01 12:00:00</td>\n",
       "      <td>0</td>\n",
       "      <td>Leidschdagblad</td>\n",
       "      <td>/cnt/dmf20210415_52244494</td>\n",
       "    </tr>\n",
       "    <tr>\n",
       "      <th>125900597</th>\n",
       "      <td>/cnt/dmf20210711_99077945</td>\n",
       "      <td>2021-07-11 23:00:00</td>\n",
       "      <td>120</td>\n",
       "      <td>Noordhollandsdagblad</td>\n",
       "      <td>/cnt/dmf20210711_99077945</td>\n",
       "    </tr>\n",
       "  </tbody>\n",
       "</table>\n",
       "<p>125900598 rows × 5 columns</p>\n",
       "</div>"
      ],
      "text/plain": [
       "                   Bestemmingspagina           timestamp  Sessies  \\\n",
       "74127110        /cnt/dmf20191229_491 2021-06-06 22:00:00        0   \n",
       "90327868        /cnt/dmf20200812_110 2021-05-06 09:00:00        0   \n",
       "90327867        /cnt/dmf20200812_110 2021-05-06 08:00:00        0   \n",
       "90327866        /cnt/dmf20200812_110 2021-05-06 07:00:00        0   \n",
       "90327865        /cnt/dmf20200812_110 2021-05-06 06:00:00        0   \n",
       "...                              ...                 ...      ...   \n",
       "44140140   /cnt/dmf20210415_52244494 2021-06-30 12:00:00        0   \n",
       "44140139   /cnt/dmf20210415_52244494 2021-06-30 11:00:00        0   \n",
       "44140138   /cnt/dmf20210415_52244494 2021-06-30 10:00:00        0   \n",
       "44140164   /cnt/dmf20210415_52244494 2021-07-01 12:00:00        0   \n",
       "125900597  /cnt/dmf20210711_99077945 2021-07-11 23:00:00      120   \n",
       "\n",
       "                      Newspaper               Landing page  \n",
       "74127110   Noordhollandsdagblad       /cnt/dmf20191229_491  \n",
       "90327868   Noordhollandsdagblad       /cnt/dmf20200812_110  \n",
       "90327867   Noordhollandsdagblad       /cnt/dmf20200812_110  \n",
       "90327866   Noordhollandsdagblad       /cnt/dmf20200812_110  \n",
       "90327865   Noordhollandsdagblad       /cnt/dmf20200812_110  \n",
       "...                         ...                        ...  \n",
       "44140140         Leidschdagblad  /cnt/dmf20210415_52244494  \n",
       "44140139         Leidschdagblad  /cnt/dmf20210415_52244494  \n",
       "44140138         Leidschdagblad  /cnt/dmf20210415_52244494  \n",
       "44140164         Leidschdagblad  /cnt/dmf20210415_52244494  \n",
       "125900597  Noordhollandsdagblad  /cnt/dmf20210711_99077945  \n",
       "\n",
       "[125900598 rows x 5 columns]"
      ]
     },
     "execution_count": 5,
     "metadata": {},
     "output_type": "execute_result"
    }
   ],
   "source": [
    "#We quickly sort our dataset on the length of the landing page, to see if the streamlining went correctly,\n",
    "#Thus if we do not have very short or very long landing page ids.\n",
    "df.sort_values(by=\"Landing page\", key=lambda x: x.str.len())"
   ]
  },
  {
   "cell_type": "code",
   "execution_count": 6,
   "id": "06bb9b89-5fad-4b86-aac6-17de15e9852d",
   "metadata": {},
   "outputs": [],
   "source": [
    "#We drop the original column.\n",
    "df.drop(\"Bestemmingspagina\", axis=1, inplace = True)"
   ]
  },
  {
   "cell_type": "code",
   "execution_count": 7,
   "id": "5b78fcbb-ec7b-425c-bd14-60f5bc3968d7",
   "metadata": {},
   "outputs": [],
   "source": [
    "#We rename a few columns.\n",
    "df.rename(columns = {\"timestamp\": \"Timestamp date\", \"Sessies\": \"Views\"}, inplace = True)"
   ]
  },
  {
   "cell_type": "code",
   "execution_count": 8,
   "id": "4a78924d-8652-4f06-9c32-3f4f170a7cb7",
   "metadata": {},
   "outputs": [
    {
     "data": {
      "text/html": [
       "<div>\n",
       "<style scoped>\n",
       "    .dataframe tbody tr th:only-of-type {\n",
       "        vertical-align: middle;\n",
       "    }\n",
       "\n",
       "    .dataframe tbody tr th {\n",
       "        vertical-align: top;\n",
       "    }\n",
       "\n",
       "    .dataframe thead th {\n",
       "        text-align: right;\n",
       "    }\n",
       "</style>\n",
       "<table border=\"1\" class=\"dataframe\">\n",
       "  <thead>\n",
       "    <tr style=\"text-align: right;\">\n",
       "      <th></th>\n",
       "      <th>Timestamp date</th>\n",
       "      <th>Views</th>\n",
       "      <th>Newspaper</th>\n",
       "      <th>Landing page</th>\n",
       "    </tr>\n",
       "  </thead>\n",
       "  <tbody>\n",
       "    <tr>\n",
       "      <th>0</th>\n",
       "      <td>2021-05-06 12:00:00</td>\n",
       "      <td>1</td>\n",
       "      <td>Gooieneemlander</td>\n",
       "      <td>/cnt/dmf20180830_13090784</td>\n",
       "    </tr>\n",
       "    <tr>\n",
       "      <th>1</th>\n",
       "      <td>2021-06-12 22:00:00</td>\n",
       "      <td>1</td>\n",
       "      <td>Gooieneemlander</td>\n",
       "      <td>/cnt/dmf20180830_15395191</td>\n",
       "    </tr>\n",
       "    <tr>\n",
       "      <th>2</th>\n",
       "      <td>2021-04-13 17:00:00</td>\n",
       "      <td>1</td>\n",
       "      <td>Gooieneemlander</td>\n",
       "      <td>/cnt/dmf20180830_21070680</td>\n",
       "    </tr>\n",
       "    <tr>\n",
       "      <th>3</th>\n",
       "      <td>2021-04-13 18:00:00</td>\n",
       "      <td>0</td>\n",
       "      <td>Gooieneemlander</td>\n",
       "      <td>/cnt/dmf20180830_21070680</td>\n",
       "    </tr>\n",
       "    <tr>\n",
       "      <th>4</th>\n",
       "      <td>2021-04-13 19:00:00</td>\n",
       "      <td>0</td>\n",
       "      <td>Gooieneemlander</td>\n",
       "      <td>/cnt/dmf20180830_21070680</td>\n",
       "    </tr>\n",
       "  </tbody>\n",
       "</table>\n",
       "</div>"
      ],
      "text/plain": [
       "       Timestamp date  Views        Newspaper               Landing page\n",
       "0 2021-05-06 12:00:00      1  Gooieneemlander  /cnt/dmf20180830_13090784\n",
       "1 2021-06-12 22:00:00      1  Gooieneemlander  /cnt/dmf20180830_15395191\n",
       "2 2021-04-13 17:00:00      1  Gooieneemlander  /cnt/dmf20180830_21070680\n",
       "3 2021-04-13 18:00:00      0  Gooieneemlander  /cnt/dmf20180830_21070680\n",
       "4 2021-04-13 19:00:00      0  Gooieneemlander  /cnt/dmf20180830_21070680"
      ]
     },
     "execution_count": 8,
     "metadata": {},
     "output_type": "execute_result"
    }
   ],
   "source": [
    "#We inspect the data.\n",
    "df.head()"
   ]
  },
  {
   "cell_type": "markdown",
   "id": "e7c129d1-b738-4ee3-92d4-449173ee41aa",
   "metadata": {},
   "source": [
    "## Combining JSON Dictionaries"
   ]
  },
  {
   "cell_type": "code",
   "execution_count": 9,
   "id": "a96e41b3-3ad4-4905-aa63-09376f3b51e7",
   "metadata": {},
   "outputs": [
    {
     "name": "stderr",
     "output_type": "stream",
     "text": [
      "100%|██████████| 5/5 [00:14<00:00,  2.95s/it]\n"
     ]
    }
   ],
   "source": [
    "#We create a list of newspapers again.\n",
    "newspapers = [\"gooieneemlander\", \"haarlemsdagblad\", \"ijmuidercourant\", \"leidschdagblad\", \"noordhollandsdagblad\"]\n",
    "\n",
    "#We create a new empty list.\n",
    "df2 = []\n",
    "\n",
    "#We loop over the newspapers.\n",
    "for n in tqdm(newspapers):\n",
    "    #Open their respective json files.\n",
    "    with open(f\"{n}.json\", \"r\") as f:\n",
    "        #And we add the data line per line.\n",
    "        for line in f:\n",
    "            line = json.loads(line)\n",
    "            df2.append(line)\n",
    "\n",
    "#We normalize the data to get it in a tabular format.\n",
    "df2 = json_normalize(df2)"
   ]
  },
  {
   "cell_type": "code",
   "execution_count": 10,
   "id": "9c9c41bd-4f84-4918-9b9f-b54f8a456a2e",
   "metadata": {},
   "outputs": [
    {
     "data": {
      "text/html": [
       "<div>\n",
       "<style scoped>\n",
       "    .dataframe tbody tr th:only-of-type {\n",
       "        vertical-align: middle;\n",
       "    }\n",
       "\n",
       "    .dataframe tbody tr th {\n",
       "        vertical-align: top;\n",
       "    }\n",
       "\n",
       "    .dataframe thead th {\n",
       "        text-align: right;\n",
       "    }\n",
       "</style>\n",
       "<table border=\"1\" class=\"dataframe\">\n",
       "  <thead>\n",
       "    <tr style=\"text-align: right;\">\n",
       "      <th></th>\n",
       "      <th>url</th>\n",
       "      <th>meta</th>\n",
       "      <th>meta-script.interactiefPrefix</th>\n",
       "      <th>meta-script.brooklynapiurl</th>\n",
       "      <th>meta-script.readLaterServiceUrl</th>\n",
       "      <th>meta-script.froomleServiceUrl</th>\n",
       "      <th>meta-script.access_loginshown</th>\n",
       "      <th>meta-script.article_author</th>\n",
       "      <th>meta-script.article_bodycharcount</th>\n",
       "      <th>meta-script.article_positive</th>\n",
       "      <th>...</th>\n",
       "      <th>meta-script.cdn_static</th>\n",
       "      <th>meta-script.article_has_inline_media</th>\n",
       "      <th>meta-script.urlscheme</th>\n",
       "      <th>meta-script.page_features</th>\n",
       "      <th>meta-script.environment</th>\n",
       "      <th>meta-script.metered</th>\n",
       "      <th>meta-script.visitorIsValidBot</th>\n",
       "      <th>meta-script.page_zipcode</th>\n",
       "      <th>meta-script.page_cityname</th>\n",
       "      <th>meta-script.article_categorylist</th>\n",
       "    </tr>\n",
       "  </thead>\n",
       "  <tbody>\n",
       "    <tr>\n",
       "      <th>0</th>\n",
       "      <td>https://www.gooieneemlander.nl/cnt/dmf20210612...</td>\n",
       "      <td>[{'charset': 'utf-8'}, {'name': 'cXenseParse:m...</td>\n",
       "      <td>http</td>\n",
       "      <td>https://brooklynapi.gooieneemlander.nl</td>\n",
       "      <td>/api/readlater/</td>\n",
       "      <td>/api/froomle/</td>\n",
       "      <td>False</td>\n",
       "      <td>ANP</td>\n",
       "      <td>4888.0</td>\n",
       "      <td>True</td>\n",
       "      <td>...</td>\n",
       "      <td>cdn-kiosk-api.telegraaf.nl</td>\n",
       "      <td>True</td>\n",
       "      <td>https</td>\n",
       "      <td>[]</td>\n",
       "      <td>production</td>\n",
       "      <td>False</td>\n",
       "      <td>False</td>\n",
       "      <td>NaN</td>\n",
       "      <td>NaN</td>\n",
       "      <td>NaN</td>\n",
       "    </tr>\n",
       "    <tr>\n",
       "      <th>1</th>\n",
       "      <td>https://www.gooieneemlander.nl/cnt/dmf20210611...</td>\n",
       "      <td>[{'charset': 'utf-8'}, {'name': 'cXenseParse:m...</td>\n",
       "      <td>http</td>\n",
       "      <td>https://brooklynapi.gooieneemlander.nl</td>\n",
       "      <td>/api/readlater/</td>\n",
       "      <td>/api/froomle/</td>\n",
       "      <td>False</td>\n",
       "      <td>Internetredactie</td>\n",
       "      <td>839.0</td>\n",
       "      <td>True</td>\n",
       "      <td>...</td>\n",
       "      <td>cdn-kiosk-api.telegraaf.nl</td>\n",
       "      <td>True</td>\n",
       "      <td>https</td>\n",
       "      <td>[]</td>\n",
       "      <td>production</td>\n",
       "      <td>False</td>\n",
       "      <td>False</td>\n",
       "      <td>1111,1111</td>\n",
       "      <td>Dummy regio,Dummy regio</td>\n",
       "      <td>NaN</td>\n",
       "    </tr>\n",
       "    <tr>\n",
       "      <th>2</th>\n",
       "      <td>https://www.gooieneemlander.nl/cnt/dmf20210609...</td>\n",
       "      <td>[{'charset': 'utf-8'}, {'name': 'cXenseParse:m...</td>\n",
       "      <td>http</td>\n",
       "      <td>https://brooklynapi.gooieneemlander.nl</td>\n",
       "      <td>/api/readlater/</td>\n",
       "      <td>/api/froomle/</td>\n",
       "      <td>False</td>\n",
       "      <td>Susanne van Velzen</td>\n",
       "      <td>3403.0</td>\n",
       "      <td>True</td>\n",
       "      <td>...</td>\n",
       "      <td>cdn-kiosk-api.telegraaf.nl</td>\n",
       "      <td>True</td>\n",
       "      <td>https</td>\n",
       "      <td>[]</td>\n",
       "      <td>production</td>\n",
       "      <td>False</td>\n",
       "      <td>False</td>\n",
       "      <td>1111,1111</td>\n",
       "      <td>Dummy regio,Dummy regio</td>\n",
       "      <td>NaN</td>\n",
       "    </tr>\n",
       "    <tr>\n",
       "      <th>3</th>\n",
       "      <td>https://www.gooieneemlander.nl/cnt/dmf20210609...</td>\n",
       "      <td>[{'charset': 'utf-8'}, {'name': 'cXenseParse:m...</td>\n",
       "      <td>http</td>\n",
       "      <td>https://brooklynapi.gooieneemlander.nl</td>\n",
       "      <td>/api/readlater/</td>\n",
       "      <td>/api/froomle/</td>\n",
       "      <td>False</td>\n",
       "      <td>Internetredactie</td>\n",
       "      <td>1807.0</td>\n",
       "      <td>True</td>\n",
       "      <td>...</td>\n",
       "      <td>cdn-kiosk-api.telegraaf.nl</td>\n",
       "      <td>True</td>\n",
       "      <td>https</td>\n",
       "      <td>[]</td>\n",
       "      <td>production</td>\n",
       "      <td>False</td>\n",
       "      <td>False</td>\n",
       "      <td>1111,1111</td>\n",
       "      <td>Dummy regio,Dummy regio</td>\n",
       "      <td>NaN</td>\n",
       "    </tr>\n",
       "    <tr>\n",
       "      <th>4</th>\n",
       "      <td>https://www.gooieneemlander.nl/cnt/dmf20210608...</td>\n",
       "      <td>[{'charset': 'utf-8'}, {'name': 'cXenseParse:m...</td>\n",
       "      <td>http</td>\n",
       "      <td>https://brooklynapi.gooieneemlander.nl</td>\n",
       "      <td>/api/readlater/</td>\n",
       "      <td>/api/froomle/</td>\n",
       "      <td>False</td>\n",
       "      <td>Leander Mascini</td>\n",
       "      <td>2146.0</td>\n",
       "      <td>True</td>\n",
       "      <td>...</td>\n",
       "      <td>cdn-kiosk-api.telegraaf.nl</td>\n",
       "      <td>True</td>\n",
       "      <td>https</td>\n",
       "      <td>[]</td>\n",
       "      <td>production</td>\n",
       "      <td>False</td>\n",
       "      <td>False</td>\n",
       "      <td>1111,1111</td>\n",
       "      <td>Dummy regio,Dummy regio</td>\n",
       "      <td>NaN</td>\n",
       "    </tr>\n",
       "  </tbody>\n",
       "</table>\n",
       "<p>5 rows × 56 columns</p>\n",
       "</div>"
      ],
      "text/plain": [
       "                                                 url  \\\n",
       "0  https://www.gooieneemlander.nl/cnt/dmf20210612...   \n",
       "1  https://www.gooieneemlander.nl/cnt/dmf20210611...   \n",
       "2  https://www.gooieneemlander.nl/cnt/dmf20210609...   \n",
       "3  https://www.gooieneemlander.nl/cnt/dmf20210609...   \n",
       "4  https://www.gooieneemlander.nl/cnt/dmf20210608...   \n",
       "\n",
       "                                                meta  \\\n",
       "0  [{'charset': 'utf-8'}, {'name': 'cXenseParse:m...   \n",
       "1  [{'charset': 'utf-8'}, {'name': 'cXenseParse:m...   \n",
       "2  [{'charset': 'utf-8'}, {'name': 'cXenseParse:m...   \n",
       "3  [{'charset': 'utf-8'}, {'name': 'cXenseParse:m...   \n",
       "4  [{'charset': 'utf-8'}, {'name': 'cXenseParse:m...   \n",
       "\n",
       "  meta-script.interactiefPrefix              meta-script.brooklynapiurl  \\\n",
       "0                          http  https://brooklynapi.gooieneemlander.nl   \n",
       "1                          http  https://brooklynapi.gooieneemlander.nl   \n",
       "2                          http  https://brooklynapi.gooieneemlander.nl   \n",
       "3                          http  https://brooklynapi.gooieneemlander.nl   \n",
       "4                          http  https://brooklynapi.gooieneemlander.nl   \n",
       "\n",
       "  meta-script.readLaterServiceUrl meta-script.froomleServiceUrl  \\\n",
       "0                 /api/readlater/                 /api/froomle/   \n",
       "1                 /api/readlater/                 /api/froomle/   \n",
       "2                 /api/readlater/                 /api/froomle/   \n",
       "3                 /api/readlater/                 /api/froomle/   \n",
       "4                 /api/readlater/                 /api/froomle/   \n",
       "\n",
       "  meta-script.access_loginshown meta-script.article_author  \\\n",
       "0                         False                        ANP   \n",
       "1                         False           Internetredactie   \n",
       "2                         False         Susanne van Velzen   \n",
       "3                         False           Internetredactie   \n",
       "4                         False            Leander Mascini   \n",
       "\n",
       "   meta-script.article_bodycharcount meta-script.article_positive  ...  \\\n",
       "0                             4888.0                         True  ...   \n",
       "1                              839.0                         True  ...   \n",
       "2                             3403.0                         True  ...   \n",
       "3                             1807.0                         True  ...   \n",
       "4                             2146.0                         True  ...   \n",
       "\n",
       "       meta-script.cdn_static meta-script.article_has_inline_media  \\\n",
       "0  cdn-kiosk-api.telegraaf.nl                                 True   \n",
       "1  cdn-kiosk-api.telegraaf.nl                                 True   \n",
       "2  cdn-kiosk-api.telegraaf.nl                                 True   \n",
       "3  cdn-kiosk-api.telegraaf.nl                                 True   \n",
       "4  cdn-kiosk-api.telegraaf.nl                                 True   \n",
       "\n",
       "  meta-script.urlscheme meta-script.page_features meta-script.environment  \\\n",
       "0                 https                        []              production   \n",
       "1                 https                        []              production   \n",
       "2                 https                        []              production   \n",
       "3                 https                        []              production   \n",
       "4                 https                        []              production   \n",
       "\n",
       "  meta-script.metered  meta-script.visitorIsValidBot meta-script.page_zipcode  \\\n",
       "0               False                          False                      NaN   \n",
       "1               False                          False                1111,1111   \n",
       "2               False                          False                1111,1111   \n",
       "3               False                          False                1111,1111   \n",
       "4               False                          False                1111,1111   \n",
       "\n",
       "  meta-script.page_cityname meta-script.article_categorylist  \n",
       "0                       NaN                              NaN  \n",
       "1   Dummy regio,Dummy regio                              NaN  \n",
       "2   Dummy regio,Dummy regio                              NaN  \n",
       "3   Dummy regio,Dummy regio                              NaN  \n",
       "4   Dummy regio,Dummy regio                              NaN  \n",
       "\n",
       "[5 rows x 56 columns]"
      ]
     },
     "execution_count": 10,
     "metadata": {},
     "output_type": "execute_result"
    }
   ],
   "source": [
    "#We inspect the data.\n",
    "df2.head()"
   ]
  },
  {
   "cell_type": "code",
   "execution_count": 11,
   "id": "c2486386-0442-4305-80de-dbc7ae1f51d3",
   "metadata": {},
   "outputs": [
    {
     "data": {
      "text/plain": [
       "Index(['url', 'meta', 'meta-script.interactiefPrefix',\n",
       "       'meta-script.brooklynapiurl', 'meta-script.readLaterServiceUrl',\n",
       "       'meta-script.froomleServiceUrl', 'meta-script.access_loginshown',\n",
       "       'meta-script.article_author', 'meta-script.article_bodycharcount',\n",
       "       'meta-script.article_positive', 'meta-script.article_cimpage',\n",
       "       'meta-script.article_cimpage_free', 'meta-script.article_cityname',\n",
       "       'meta-script.article_contenttype', 'meta-script.article_dossier',\n",
       "       'meta-script.article_id', 'meta-script.article_introcharcount',\n",
       "       'meta-script.article_sectionid', 'meta-script.article_section',\n",
       "       'meta-script.article_maintag', 'meta-script.article_paper',\n",
       "       'meta-script.article_publicationdate',\n",
       "       'meta-script.article_publicationtime',\n",
       "       'meta-script.article_ispluslayout', 'meta-script.article_source',\n",
       "       'meta-script.article_sourceoforigin', 'meta-script.article_taglist',\n",
       "       'meta-script.article_title', 'meta-script.article_type',\n",
       "       'meta-script.article_externalid',\n",
       "       'meta-script.article_updatecountersurl', 'meta-script.page_maintag',\n",
       "       'meta-script.page_mainsection', 'meta-script.page_mainsectionname',\n",
       "       'meta-script.page_mainsubsection',\n",
       "       'meta-script.page_mainsubsectionname', 'meta-script.page_section',\n",
       "       'meta-script.page_sectionname', 'meta-script.page_adv_sectiontree',\n",
       "       'meta-script.page_type', 'meta-script.page_secure',\n",
       "       'meta-script.page_metered', 'meta-script.page_papercode',\n",
       "       'meta-script.page_sectiontrees', 'meta-script.cdn_markup',\n",
       "       'meta-script.cdn_markupVersion', 'meta-script.cdn_static',\n",
       "       'meta-script.article_has_inline_media', 'meta-script.urlscheme',\n",
       "       'meta-script.page_features', 'meta-script.environment',\n",
       "       'meta-script.metered', 'meta-script.visitorIsValidBot',\n",
       "       'meta-script.page_zipcode', 'meta-script.page_cityname',\n",
       "       'meta-script.article_categorylist'],\n",
       "      dtype='object')"
      ]
     },
     "execution_count": 11,
     "metadata": {},
     "output_type": "execute_result"
    }
   ],
   "source": [
    "#We inspect the columns.\n",
    "df2.columns"
   ]
  },
  {
   "cell_type": "code",
   "execution_count": 18,
   "id": "e9a3cfda-b18e-4e19-a3da-71465e6cc58c",
   "metadata": {},
   "outputs": [],
   "source": [
    "#We apply our earlier defined regular expression to clean landing page urls.\n",
    "df2[\"Landing page\"] = df2[\"url\"].apply(lambda x: re.search(r\"\\/cnt\\/dmf(\\d+)_\\d+\", x.lower()).group(0))"
   ]
  },
  {
   "cell_type": "code",
   "execution_count": 19,
   "id": "5c2a47d1-5b2f-4bf7-9408-3be72306dd3b",
   "metadata": {},
   "outputs": [
    {
     "data": {
      "text/html": [
       "<div>\n",
       "<style scoped>\n",
       "    .dataframe tbody tr th:only-of-type {\n",
       "        vertical-align: middle;\n",
       "    }\n",
       "\n",
       "    .dataframe tbody tr th {\n",
       "        vertical-align: top;\n",
       "    }\n",
       "\n",
       "    .dataframe thead th {\n",
       "        text-align: right;\n",
       "    }\n",
       "</style>\n",
       "<table border=\"1\" class=\"dataframe\">\n",
       "  <thead>\n",
       "    <tr style=\"text-align: right;\">\n",
       "      <th></th>\n",
       "      <th>Landing page</th>\n",
       "    </tr>\n",
       "  </thead>\n",
       "  <tbody>\n",
       "    <tr>\n",
       "      <th>12448</th>\n",
       "      <td>/cnt/dmf20191229_491</td>\n",
       "    </tr>\n",
       "    <tr>\n",
       "      <th>120634</th>\n",
       "      <td>/cnt/dmf20191229_491</td>\n",
       "    </tr>\n",
       "    <tr>\n",
       "      <th>60606</th>\n",
       "      <td>/cnt/dmf20200812_110</td>\n",
       "    </tr>\n",
       "    <tr>\n",
       "      <th>107952</th>\n",
       "      <td>/cnt/dmf20200812_110</td>\n",
       "    </tr>\n",
       "    <tr>\n",
       "      <th>35769</th>\n",
       "      <td>/cnt/dmf20200812_110</td>\n",
       "    </tr>\n",
       "    <tr>\n",
       "      <th>...</th>\n",
       "      <td>...</td>\n",
       "    </tr>\n",
       "    <tr>\n",
       "      <th>73599</th>\n",
       "      <td>/cnt/dmf20190604_32241827</td>\n",
       "    </tr>\n",
       "    <tr>\n",
       "      <th>73600</th>\n",
       "      <td>/cnt/dmf20210331_18308698</td>\n",
       "    </tr>\n",
       "    <tr>\n",
       "      <th>73602</th>\n",
       "      <td>/cnt/dmf20180926_49230990</td>\n",
       "    </tr>\n",
       "    <tr>\n",
       "      <th>73629</th>\n",
       "      <td>/cnt/dmf20200803_19491311</td>\n",
       "    </tr>\n",
       "    <tr>\n",
       "      <th>209494</th>\n",
       "      <td>/cnt/dmf20180921_61798701</td>\n",
       "    </tr>\n",
       "  </tbody>\n",
       "</table>\n",
       "<p>209495 rows × 1 columns</p>\n",
       "</div>"
      ],
      "text/plain": [
       "                     Landing page\n",
       "12448        /cnt/dmf20191229_491\n",
       "120634       /cnt/dmf20191229_491\n",
       "60606        /cnt/dmf20200812_110\n",
       "107952       /cnt/dmf20200812_110\n",
       "35769        /cnt/dmf20200812_110\n",
       "...                           ...\n",
       "73599   /cnt/dmf20190604_32241827\n",
       "73600   /cnt/dmf20210331_18308698\n",
       "73602   /cnt/dmf20180926_49230990\n",
       "73629   /cnt/dmf20200803_19491311\n",
       "209494  /cnt/dmf20180921_61798701\n",
       "\n",
       "[209495 rows x 1 columns]"
      ]
     },
     "execution_count": 19,
     "metadata": {},
     "output_type": "execute_result"
    }
   ],
   "source": [
    "#We quickly inspect it in the same manner as before.\n",
    "df2.sort_values(by=\"Landing page\", key=lambda x: x.str.len())[[\"Landing page\"]]"
   ]
  },
  {
   "cell_type": "code",
   "execution_count": 20,
   "id": "07981f6c-31f7-4b7d-a1dc-975d4af3a19d",
   "metadata": {},
   "outputs": [],
   "source": [
    "#We extract the newspaper from the url as well (by simply looking at where www. starts and .nl ends).\n",
    "df2[\"Newspaper\"] = df2[\"url\"].apply(lambda x:x[x.find(\"www.\") + len(\"www.\"):x.find(\".nl\")].title())"
   ]
  },
  {
   "cell_type": "code",
   "execution_count": 21,
   "id": "993cff71-6a55-47bd-81a8-ce9764b82551",
   "metadata": {},
   "outputs": [
    {
     "data": {
      "text/plain": [
       "Counter({'Gooieneemlander': 24438,\n",
       "         'Haarlemsdagblad': 26273,\n",
       "         'Ijmuidercourant': 16433,\n",
       "         'Leidschdagblad': 30476,\n",
       "         'Noordhollandsdagblad': 111875})"
      ]
     },
     "execution_count": 21,
     "metadata": {},
     "output_type": "execute_result"
    }
   ],
   "source": [
    "#We count the presence of the newspaper (and indirectly check if missing values have occured).\n",
    "Counter(df2.Newspaper)"
   ]
  },
  {
   "cell_type": "code",
   "execution_count": 22,
   "id": "043f4c43-6d43-454c-a16b-00f3ccb7481c",
   "metadata": {},
   "outputs": [],
   "source": [
    "#We only keep the columns that we need.\n",
    "df2 = df2[[\"meta-script.article_publicationdate\", \"meta-script.article_publicationtime\", \"Landing page\", \"Newspaper\"]]"
   ]
  },
  {
   "cell_type": "code",
   "execution_count": 23,
   "id": "dd9aacc8-ff7b-44f8-a3b0-58b24dbed635",
   "metadata": {},
   "outputs": [],
   "source": [
    "#We rename some of them.\n",
    "df2.rename(columns = {\"meta-script.article_publicationdate\": \"Publication date\",\n",
    "                      \"meta-script.article_publicationtime\": \"Publication time\"}, inplace = True)"
   ]
  },
  {
   "cell_type": "code",
   "execution_count": 24,
   "id": "7db86be6-f35d-45a6-bada-ca0815f811a8",
   "metadata": {},
   "outputs": [
    {
     "name": "stdout",
     "output_type": "stream",
     "text": [
      "Counter({False: 208348, True: 1147})\n",
      "Counter({False: 208348, True: 1147})\n"
     ]
    }
   ],
   "source": [
    "#We check if there are publication dates and times missing.\n",
    "print(Counter(df2[\"Publication date\"].isna()))\n",
    "print(Counter(df2[\"Publication time\"].isna()))"
   ]
  },
  {
   "cell_type": "code",
   "execution_count": 25,
   "id": "58870ff4-aa96-4e58-b5e3-540e659887a9",
   "metadata": {},
   "outputs": [
    {
     "name": "stderr",
     "output_type": "stream",
     "text": [
      "209495it [00:03, 57003.63it/s]\n"
     ]
    }
   ],
   "source": [
    "#We create an empty list.\n",
    "Publication_date = []\n",
    "\n",
    "#We loop over the date and times.\n",
    "for d, t in tqdm(zip(df2[\"Publication date\"], df2[\"Publication time\"])):\n",
    "    #We check if one of the two is missing.\n",
    "    if pd.isnull(d) == True | pd.isnull(t) == True:\n",
    "        #If so we simply append nothing.\n",
    "        Publication_date.append(\"\")\n",
    "    else:\n",
    "        #If not we remove the minutes of the time object.\n",
    "        item = d + t[:-2] + \"00\"\n",
    "        #We streamline it.\n",
    "        item = datetime.strptime(item, \"%Y%m%d%H:%M\")\n",
    "        #And append it to a list.\n",
    "        Publication_date.append(item)"
   ]
  },
  {
   "cell_type": "code",
   "execution_count": 26,
   "id": "a838a2bf-3f3b-4e07-ba7b-ba7cf0ae47aa",
   "metadata": {},
   "outputs": [
    {
     "name": "stderr",
     "output_type": "stream",
     "text": [
      "/tmp/ipykernel_4085/696928151.py:5: FutureWarning: Inferring datetime64[ns] from data containing strings is deprecated and will be removed in a future version. To retain the old behavior explicitly pass Series(data, dtype={value.dtype})\n",
      "  df2[\"Publication date\"] = Publication_date\n"
     ]
    }
   ],
   "source": [
    "#We drop the original columns.\n",
    "df2 = df2.drop(columns = [\"Publication date\", \"Publication time\"])\n",
    "\n",
    "#And add our list as a new column.\n",
    "df2[\"Publication date\"] = Publication_date"
   ]
  },
  {
   "cell_type": "code",
   "execution_count": 27,
   "id": "996d4d8e-74ed-4e97-98b8-b3f92153c9e5",
   "metadata": {},
   "outputs": [],
   "source": [
    "#We write this dataframe away.\n",
    "df2.to_csv(\"Publication dates.csv\", index=False)"
   ]
  },
  {
   "cell_type": "markdown",
   "id": "8cfc54fd-eef9-4c83-a50d-69fa87ed18b9",
   "metadata": {},
   "source": [
    "## Merging the JSON Files and CSV Files to Remove Old Publications"
   ]
  },
  {
   "cell_type": "code",
   "execution_count": 28,
   "id": "0fbf0226-61bd-439c-8238-ada05c44266c",
   "metadata": {},
   "outputs": [],
   "source": [
    "#We merge the cleaned combined json files with the clean combined csv per-hour files.\n",
    "df3 = df.merge(df2, how=\"left\", on=[\"Newspaper\", \"Landing page\"])"
   ]
  },
  {
   "cell_type": "code",
   "execution_count": 29,
   "id": "396d0880-e131-4f6b-865d-a1a42eee13d2",
   "metadata": {},
   "outputs": [
    {
     "data": {
      "text/html": [
       "<div>\n",
       "<style scoped>\n",
       "    .dataframe tbody tr th:only-of-type {\n",
       "        vertical-align: middle;\n",
       "    }\n",
       "\n",
       "    .dataframe tbody tr th {\n",
       "        vertical-align: top;\n",
       "    }\n",
       "\n",
       "    .dataframe thead th {\n",
       "        text-align: right;\n",
       "    }\n",
       "</style>\n",
       "<table border=\"1\" class=\"dataframe\">\n",
       "  <thead>\n",
       "    <tr style=\"text-align: right;\">\n",
       "      <th></th>\n",
       "      <th>Timestamp date</th>\n",
       "      <th>Views</th>\n",
       "      <th>Newspaper</th>\n",
       "      <th>Landing page</th>\n",
       "      <th>Publication date</th>\n",
       "    </tr>\n",
       "  </thead>\n",
       "  <tbody>\n",
       "    <tr>\n",
       "      <th>0</th>\n",
       "      <td>2021-05-06 12:00:00</td>\n",
       "      <td>1</td>\n",
       "      <td>Gooieneemlander</td>\n",
       "      <td>/cnt/dmf20180830_13090784</td>\n",
       "      <td>2018-08-29 16:00:00</td>\n",
       "    </tr>\n",
       "    <tr>\n",
       "      <th>1</th>\n",
       "      <td>2021-06-12 22:00:00</td>\n",
       "      <td>1</td>\n",
       "      <td>Gooieneemlander</td>\n",
       "      <td>/cnt/dmf20180830_15395191</td>\n",
       "      <td>2018-08-29 20:00:00</td>\n",
       "    </tr>\n",
       "    <tr>\n",
       "      <th>2</th>\n",
       "      <td>2021-04-13 17:00:00</td>\n",
       "      <td>1</td>\n",
       "      <td>Gooieneemlander</td>\n",
       "      <td>/cnt/dmf20180830_21070680</td>\n",
       "      <td>2018-08-30 14:00:00</td>\n",
       "    </tr>\n",
       "    <tr>\n",
       "      <th>3</th>\n",
       "      <td>2021-04-13 18:00:00</td>\n",
       "      <td>0</td>\n",
       "      <td>Gooieneemlander</td>\n",
       "      <td>/cnt/dmf20180830_21070680</td>\n",
       "      <td>2018-08-30 14:00:00</td>\n",
       "    </tr>\n",
       "    <tr>\n",
       "      <th>4</th>\n",
       "      <td>2021-04-13 19:00:00</td>\n",
       "      <td>0</td>\n",
       "      <td>Gooieneemlander</td>\n",
       "      <td>/cnt/dmf20180830_21070680</td>\n",
       "      <td>2018-08-30 14:00:00</td>\n",
       "    </tr>\n",
       "  </tbody>\n",
       "</table>\n",
       "</div>"
      ],
      "text/plain": [
       "       Timestamp date  Views        Newspaper               Landing page  \\\n",
       "0 2021-05-06 12:00:00      1  Gooieneemlander  /cnt/dmf20180830_13090784   \n",
       "1 2021-06-12 22:00:00      1  Gooieneemlander  /cnt/dmf20180830_15395191   \n",
       "2 2021-04-13 17:00:00      1  Gooieneemlander  /cnt/dmf20180830_21070680   \n",
       "3 2021-04-13 18:00:00      0  Gooieneemlander  /cnt/dmf20180830_21070680   \n",
       "4 2021-04-13 19:00:00      0  Gooieneemlander  /cnt/dmf20180830_21070680   \n",
       "\n",
       "     Publication date  \n",
       "0 2018-08-29 16:00:00  \n",
       "1 2018-08-29 20:00:00  \n",
       "2 2018-08-30 14:00:00  \n",
       "3 2018-08-30 14:00:00  \n",
       "4 2018-08-30 14:00:00  "
      ]
     },
     "execution_count": 29,
     "metadata": {},
     "output_type": "execute_result"
    }
   ],
   "source": [
    "#We inspect it once again (better safe than sorry).\n",
    "df3.head()"
   ]
  },
  {
   "cell_type": "code",
   "execution_count": 30,
   "id": "64342fe5-02d5-40a0-881e-a978a894edde",
   "metadata": {
    "tags": []
   },
   "outputs": [
    {
     "data": {
      "text/plain": [
       "Newspaper\n",
       "Gooieneemlander        2021-04-12\n",
       "Haarlemsdagblad        2021-04-12\n",
       "Ijmuidercourant        2021-04-12\n",
       "Leidschdagblad         2021-04-12\n",
       "Noordhollandsdagblad   2021-04-12\n",
       "Name: Timestamp date, dtype: datetime64[ns]"
      ]
     },
     "execution_count": 30,
     "metadata": {},
     "output_type": "execute_result"
    }
   ],
   "source": [
    "#We check when data collection started.\n",
    "df3.groupby([\"Newspaper\"])[\"Timestamp date\"].min()"
   ]
  },
  {
   "cell_type": "code",
   "execution_count": 31,
   "id": "0f03592b-0c93-48aa-9da9-ffa9d350c2f6",
   "metadata": {},
   "outputs": [],
   "source": [
    "#We subset the data accordingly to make sure that we have data on the full trajectory of each article. \n",
    "#We thus exclude articles that are published before the data collection started.\n",
    "#To be sure we also exclude timestamps that occured before the publication date.\n",
    "df3 = df3[(df3[\"Publication date\"] >= \"2021-04-12 00:00:00\") & (df3[\"Timestamp date\"] >= df3[\"Publication date\"])]"
   ]
  },
  {
   "cell_type": "code",
   "execution_count": 32,
   "id": "ca18f3c1-adfb-4d9d-9e1b-3f20e0bad16d",
   "metadata": {},
   "outputs": [
    {
     "data": {
      "text/html": [
       "<div>\n",
       "<style scoped>\n",
       "    .dataframe tbody tr th:only-of-type {\n",
       "        vertical-align: middle;\n",
       "    }\n",
       "\n",
       "    .dataframe tbody tr th {\n",
       "        vertical-align: top;\n",
       "    }\n",
       "\n",
       "    .dataframe thead th {\n",
       "        text-align: right;\n",
       "    }\n",
       "</style>\n",
       "<table border=\"1\" class=\"dataframe\">\n",
       "  <thead>\n",
       "    <tr style=\"text-align: right;\">\n",
       "      <th></th>\n",
       "      <th>Timestamp date</th>\n",
       "      <th>Views</th>\n",
       "      <th>Newspaper</th>\n",
       "      <th>Landing page</th>\n",
       "      <th>Publication date</th>\n",
       "    </tr>\n",
       "  </thead>\n",
       "  <tbody>\n",
       "    <tr>\n",
       "      <th>5326326</th>\n",
       "      <td>2021-05-27 16:00:00</td>\n",
       "      <td>1</td>\n",
       "      <td>Gooieneemlander</td>\n",
       "      <td>/cnt/dmf20190705_81476516</td>\n",
       "      <td>2021-05-26 19:00:00</td>\n",
       "    </tr>\n",
       "    <tr>\n",
       "      <th>5326327</th>\n",
       "      <td>2021-05-27 17:00:00</td>\n",
       "      <td>0</td>\n",
       "      <td>Gooieneemlander</td>\n",
       "      <td>/cnt/dmf20190705_81476516</td>\n",
       "      <td>2021-05-26 19:00:00</td>\n",
       "    </tr>\n",
       "    <tr>\n",
       "      <th>5326328</th>\n",
       "      <td>2021-05-27 18:00:00</td>\n",
       "      <td>0</td>\n",
       "      <td>Gooieneemlander</td>\n",
       "      <td>/cnt/dmf20190705_81476516</td>\n",
       "      <td>2021-05-26 19:00:00</td>\n",
       "    </tr>\n",
       "    <tr>\n",
       "      <th>5326329</th>\n",
       "      <td>2021-05-27 19:00:00</td>\n",
       "      <td>0</td>\n",
       "      <td>Gooieneemlander</td>\n",
       "      <td>/cnt/dmf20190705_81476516</td>\n",
       "      <td>2021-05-26 19:00:00</td>\n",
       "    </tr>\n",
       "    <tr>\n",
       "      <th>5326330</th>\n",
       "      <td>2021-05-27 20:00:00</td>\n",
       "      <td>0</td>\n",
       "      <td>Gooieneemlander</td>\n",
       "      <td>/cnt/dmf20190705_81476516</td>\n",
       "      <td>2021-05-26 19:00:00</td>\n",
       "    </tr>\n",
       "  </tbody>\n",
       "</table>\n",
       "</div>"
      ],
      "text/plain": [
       "             Timestamp date  Views        Newspaper  \\\n",
       "5326326 2021-05-27 16:00:00      1  Gooieneemlander   \n",
       "5326327 2021-05-27 17:00:00      0  Gooieneemlander   \n",
       "5326328 2021-05-27 18:00:00      0  Gooieneemlander   \n",
       "5326329 2021-05-27 19:00:00      0  Gooieneemlander   \n",
       "5326330 2021-05-27 20:00:00      0  Gooieneemlander   \n",
       "\n",
       "                      Landing page    Publication date  \n",
       "5326326  /cnt/dmf20190705_81476516 2021-05-26 19:00:00  \n",
       "5326327  /cnt/dmf20190705_81476516 2021-05-26 19:00:00  \n",
       "5326328  /cnt/dmf20190705_81476516 2021-05-26 19:00:00  \n",
       "5326329  /cnt/dmf20190705_81476516 2021-05-26 19:00:00  \n",
       "5326330  /cnt/dmf20190705_81476516 2021-05-26 19:00:00  "
      ]
     },
     "execution_count": 32,
     "metadata": {},
     "output_type": "execute_result"
    }
   ],
   "source": [
    "#We inspect the data.\n",
    "df3.head()"
   ]
  },
  {
   "cell_type": "code",
   "execution_count": 33,
   "id": "438a6664-be68-42b2-b386-d459be87d471",
   "metadata": {},
   "outputs": [],
   "source": [
    "#We create a function to add a row.\n",
    "def add_row(x):\n",
    "    #Namely we check for publications where the first timestamp is not equal to the publication date.\n",
    "    if x[\"Timestamp date\"].min() != x[\"Publication date\"].iloc[0]:\n",
    "        #If so we add a new custom row to the top of the publication.\n",
    "        #This row will have the same information as the other rows, having zero views and having a timestamp equal to the publication date.\n",
    "        #This is done so that the gap between the publication date and the first timestamp can be filled up later on.\n",
    "        return pd.concat([pd.DataFrame({\"Landing page\": x[\"Landing page\"].iloc[0],\n",
    "                                        \"Views\": 0,\n",
    "                                        \"Newspaper\": x[\"Newspaper\"].iloc[0],\n",
    "                                        \"Publication date\": x[\"Publication date\"].iloc[0],\n",
    "                                        \"Timestamp date\": x[\"Publication date\"].iloc[0]\n",
    "                                       }, index=[0]), x]).reset_index(drop=True)\n",
    "    return x"
   ]
  },
  {
   "cell_type": "code",
   "execution_count": 34,
   "id": "030d6297-e906-49da-872e-55a70a78fe9b",
   "metadata": {},
   "outputs": [],
   "source": [
    "#We apply the function per publication.\n",
    "df3 = df3.groupby([\"Newspaper\", \"Landing page\"]).apply(add_row).reset_index(drop=True)"
   ]
  },
  {
   "cell_type": "code",
   "execution_count": 35,
   "id": "e0c676fb-7703-4bab-9271-edf9d26f1c59",
   "metadata": {},
   "outputs": [],
   "source": [
    "#We fill up the spaces between the timestamps with rows of 1 hour.\n",
    "#.sum() is used so that views get a value of zero (the whole reason that the timestamp was missing was because there were zero views).\n",
    "#In addition we keep the original publication date.\n",
    "df3 = df3.groupby([\"Newspaper\", \"Landing page\"])\\\n",
    "         .apply(lambda x: x.set_index(\"Timestamp date\").resample(\"1H\").sum()\\\n",
    "         .assign(**{\"Publication date\": x[\"Publication date\"].iloc[0]})).reset_index()"
   ]
  },
  {
   "cell_type": "code",
   "execution_count": 36,
   "id": "9060d585-fd0a-4c0b-bad4-6f91211a8775",
   "metadata": {},
   "outputs": [
    {
     "data": {
      "text/html": [
       "<div>\n",
       "<style scoped>\n",
       "    .dataframe tbody tr th:only-of-type {\n",
       "        vertical-align: middle;\n",
       "    }\n",
       "\n",
       "    .dataframe tbody tr th {\n",
       "        vertical-align: top;\n",
       "    }\n",
       "\n",
       "    .dataframe thead th {\n",
       "        text-align: right;\n",
       "    }\n",
       "</style>\n",
       "<table border=\"1\" class=\"dataframe\">\n",
       "  <thead>\n",
       "    <tr style=\"text-align: right;\">\n",
       "      <th></th>\n",
       "      <th>Newspaper</th>\n",
       "      <th>Landing page</th>\n",
       "      <th>Timestamp date</th>\n",
       "      <th>Views</th>\n",
       "      <th>Publication date</th>\n",
       "    </tr>\n",
       "  </thead>\n",
       "  <tbody>\n",
       "    <tr>\n",
       "      <th>0</th>\n",
       "      <td>Gooieneemlander</td>\n",
       "      <td>/cnt/dmf20190705_81476516</td>\n",
       "      <td>2021-05-26 19:00:00</td>\n",
       "      <td>0</td>\n",
       "      <td>2021-05-26 19:00:00</td>\n",
       "    </tr>\n",
       "    <tr>\n",
       "      <th>1</th>\n",
       "      <td>Gooieneemlander</td>\n",
       "      <td>/cnt/dmf20190705_81476516</td>\n",
       "      <td>2021-05-26 20:00:00</td>\n",
       "      <td>0</td>\n",
       "      <td>2021-05-26 19:00:00</td>\n",
       "    </tr>\n",
       "    <tr>\n",
       "      <th>2</th>\n",
       "      <td>Gooieneemlander</td>\n",
       "      <td>/cnt/dmf20190705_81476516</td>\n",
       "      <td>2021-05-26 21:00:00</td>\n",
       "      <td>0</td>\n",
       "      <td>2021-05-26 19:00:00</td>\n",
       "    </tr>\n",
       "    <tr>\n",
       "      <th>3</th>\n",
       "      <td>Gooieneemlander</td>\n",
       "      <td>/cnt/dmf20190705_81476516</td>\n",
       "      <td>2021-05-26 22:00:00</td>\n",
       "      <td>0</td>\n",
       "      <td>2021-05-26 19:00:00</td>\n",
       "    </tr>\n",
       "    <tr>\n",
       "      <th>4</th>\n",
       "      <td>Gooieneemlander</td>\n",
       "      <td>/cnt/dmf20190705_81476516</td>\n",
       "      <td>2021-05-26 23:00:00</td>\n",
       "      <td>0</td>\n",
       "      <td>2021-05-26 19:00:00</td>\n",
       "    </tr>\n",
       "  </tbody>\n",
       "</table>\n",
       "</div>"
      ],
      "text/plain": [
       "         Newspaper               Landing page      Timestamp date  Views  \\\n",
       "0  Gooieneemlander  /cnt/dmf20190705_81476516 2021-05-26 19:00:00      0   \n",
       "1  Gooieneemlander  /cnt/dmf20190705_81476516 2021-05-26 20:00:00      0   \n",
       "2  Gooieneemlander  /cnt/dmf20190705_81476516 2021-05-26 21:00:00      0   \n",
       "3  Gooieneemlander  /cnt/dmf20190705_81476516 2021-05-26 22:00:00      0   \n",
       "4  Gooieneemlander  /cnt/dmf20190705_81476516 2021-05-26 23:00:00      0   \n",
       "\n",
       "     Publication date  \n",
       "0 2021-05-26 19:00:00  \n",
       "1 2021-05-26 19:00:00  \n",
       "2 2021-05-26 19:00:00  \n",
       "3 2021-05-26 19:00:00  \n",
       "4 2021-05-26 19:00:00  "
      ]
     },
     "execution_count": 36,
     "metadata": {},
     "output_type": "execute_result"
    }
   ],
   "source": [
    "#We inspect the data.\n",
    "df3.head()"
   ]
  },
  {
   "cell_type": "code",
   "execution_count": 37,
   "id": "3f5b62c8-73a2-4b3d-8e8e-8b11d9dc4cc6",
   "metadata": {},
   "outputs": [
    {
     "data": {
      "text/plain": [
       "Counter({True: 46550})"
      ]
     },
     "execution_count": 37,
     "metadata": {},
     "output_type": "execute_result"
    }
   ],
   "source": [
    "#As a first check we check if the first timestamp now indeed equals the publication date.\n",
    "Counter(df3.groupby([\"Newspaper\", \"Landing page\"])\\\n",
    "        .apply(lambda x: (x[\"Publication date\"].iloc[0] == x[\"Timestamp date\"].iloc[0])))"
   ]
  },
  {
   "cell_type": "code",
   "execution_count": 38,
   "id": "add4ec2a-6c23-436d-8ca1-3c7741b1b49c",
   "metadata": {},
   "outputs": [
    {
     "data": {
      "text/plain": [
       "Counter({NaT: 46550, Timedelta('0 days 01:00:00'): 17737802})"
      ]
     },
     "execution_count": 38,
     "metadata": {},
     "output_type": "execute_result"
    }
   ],
   "source": [
    "#In addition we check if now the difference between each row per publication is 1 hour.\n",
    "Counter(df3.groupby([\"Newspaper\", \"Landing page\"])[\"Timestamp date\"].diff())"
   ]
  },
  {
   "cell_type": "code",
   "execution_count": 39,
   "id": "bac80286-47fe-4896-9a2e-b1ff2c7d8dfe",
   "metadata": {},
   "outputs": [
    {
     "data": {
      "text/plain": [
       "17784352"
      ]
     },
     "execution_count": 39,
     "metadata": {},
     "output_type": "execute_result"
    }
   ],
   "source": [
    "#We quickly inspect the length.\n",
    "len(df3)"
   ]
  },
  {
   "cell_type": "code",
   "execution_count": 40,
   "id": "0e9cf270-c09e-479a-b65e-63e0353278ea",
   "metadata": {},
   "outputs": [],
   "source": [
    "#We write it away to a csv file.\n",
    "df3.to_csv(\"New Publications.csv\", index=False)"
   ]
  }
 ],
 "metadata": {
  "kernelspec": {
   "display_name": "Python 3 (ipykernel)",
   "language": "python",
   "name": "python3"
  },
  "language_info": {
   "codemirror_mode": {
    "name": "ipython",
    "version": 3
   },
   "file_extension": ".py",
   "mimetype": "text/x-python",
   "name": "python",
   "nbconvert_exporter": "python",
   "pygments_lexer": "ipython3",
   "version": "3.9.5"
  }
 },
 "nbformat": 4,
 "nbformat_minor": 5
}
