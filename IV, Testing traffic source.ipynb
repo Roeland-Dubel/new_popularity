{
 "cells": [
  {
   "cell_type": "code",
   "execution_count": 1,
   "id": "d3721424-5cbd-4917-a1b3-37a0ebb0ee77",
   "metadata": {},
   "outputs": [],
   "source": [
    "#We import the necessary libraries.\n",
    "import pandas as pd\n",
    "import re\n",
    "from datetime import date\n",
    "from tqdm import tqdm\n",
    "from collections import Counter\n",
    "import numpy as np\n",
    "import seaborn as sns\n",
    "import matplotlib.pyplot as plt\n",
    "from scipy import stats"
   ]
  },
  {
   "cell_type": "markdown",
   "id": "c0de0255-04d6-4326-a124-6c5b5aaaa6b7",
   "metadata": {},
   "source": [
    "## Combining Original CSV Files"
   ]
  },
  {
   "cell_type": "code",
   "execution_count": 2,
   "id": "c8dd4963-fc89-4baa-89b8-24c7038f5ad2",
   "metadata": {},
   "outputs": [
    {
     "name": "stderr",
     "output_type": "stream",
     "text": [
      "100%|██████████| 5/5 [00:12<00:00,  2.52s/it]\n"
     ]
    },
    {
     "name": "stdout",
     "output_type": "stream",
     "text": [
      "Length of df equals sum of seperate newspaper dataframes = True.\n"
     ]
    }
   ],
   "source": [
    "#We create a list of all existing newspapers in the dataset\n",
    "newspapers = [\"gooieneemlander\", \"haarlemsdagblad\", \"ijmuidercourant\", \"leidschdagblad\", \"noordhollandsdagblad\"]\n",
    "\n",
    "#We create an empty list.\n",
    "df = []\n",
    "\n",
    "#We create an object equal to zero.\n",
    "length = 0\n",
    "\n",
    "#We loop over all the newspapers.\n",
    "for n in tqdm(newspapers):\n",
    "    #We store each RAW newspaper file as a seperate object, by their respective names.\n",
    "    globals()[n] = pd.read_csv(f\"{n}.nl.csv\")\n",
    "    #We add to it a column with the name of the newspaper.\n",
    "    globals()[n][\"Newspaper\"] = n.title()\n",
    "    \n",
    "    #We sum the length of the current data-object with the zero object.\n",
    "    length += len(globals()[n])\n",
    "\n",
    "    #We add the newspaper per-hour objects to a list.\n",
    "    df.append(globals()[n])\n",
    "\n",
    "#We stack the list of data objects together.\n",
    "df = pd.concat(df, ignore_index = True)\n",
    "\n",
    "#We check if the length of the seperate objects combined equals the length of the definitive dataframe.\n",
    "print(f\"Length of df equals sum of seperate newspaper dataframes = {len(df) == length}.\")"
   ]
  },
  {
   "cell_type": "code",
   "execution_count": 3,
   "id": "22449040-834c-44be-8de4-23f0ff3a76b4",
   "metadata": {},
   "outputs": [
    {
     "data": {
      "text/html": [
       "<div>\n",
       "<style scoped>\n",
       "    .dataframe tbody tr th:only-of-type {\n",
       "        vertical-align: middle;\n",
       "    }\n",
       "\n",
       "    .dataframe tbody tr th {\n",
       "        vertical-align: top;\n",
       "    }\n",
       "\n",
       "    .dataframe thead th {\n",
       "        text-align: right;\n",
       "    }\n",
       "</style>\n",
       "<table border=\"1\" class=\"dataframe\">\n",
       "  <thead>\n",
       "    <tr style=\"text-align: right;\">\n",
       "      <th></th>\n",
       "      <th>Hostnaam</th>\n",
       "      <th>Bron/medium</th>\n",
       "      <th>Bestemmingspagina</th>\n",
       "      <th>Sessies</th>\n",
       "      <th>timestamp</th>\n",
       "      <th>Newspaper</th>\n",
       "    </tr>\n",
       "  </thead>\n",
       "  <tbody>\n",
       "    <tr>\n",
       "      <th>0</th>\n",
       "      <td>m.gooieneemlander.nl</td>\n",
       "      <td>google / organic</td>\n",
       "      <td>/cnt/DMF20210612_49952447</td>\n",
       "      <td>80</td>\n",
       "      <td>2021-06-12 19:11:00</td>\n",
       "      <td>Gooieneemlander</td>\n",
       "    </tr>\n",
       "    <tr>\n",
       "      <th>1</th>\n",
       "      <td>m.gooieneemlander.nl</td>\n",
       "      <td>google / organic</td>\n",
       "      <td>/cnt/DMF20210612_49952447</td>\n",
       "      <td>76</td>\n",
       "      <td>2021-06-12 19:10:00</td>\n",
       "      <td>Gooieneemlander</td>\n",
       "    </tr>\n",
       "    <tr>\n",
       "      <th>2</th>\n",
       "      <td>m.gooieneemlander.nl</td>\n",
       "      <td>google / organic</td>\n",
       "      <td>/cnt/DMF20210612_49952447</td>\n",
       "      <td>66</td>\n",
       "      <td>2021-06-12 19:15:00</td>\n",
       "      <td>Gooieneemlander</td>\n",
       "    </tr>\n",
       "    <tr>\n",
       "      <th>3</th>\n",
       "      <td>m.gooieneemlander.nl</td>\n",
       "      <td>google / organic</td>\n",
       "      <td>/cnt/DMF20210612_49952447</td>\n",
       "      <td>64</td>\n",
       "      <td>2021-06-12 19:09:00</td>\n",
       "      <td>Gooieneemlander</td>\n",
       "    </tr>\n",
       "    <tr>\n",
       "      <th>4</th>\n",
       "      <td>m.gooieneemlander.nl</td>\n",
       "      <td>google / organic</td>\n",
       "      <td>/cnt/DMF20210612_49952447</td>\n",
       "      <td>64</td>\n",
       "      <td>2021-06-12 19:12:00</td>\n",
       "      <td>Gooieneemlander</td>\n",
       "    </tr>\n",
       "  </tbody>\n",
       "</table>\n",
       "</div>"
      ],
      "text/plain": [
       "               Hostnaam       Bron/medium          Bestemmingspagina  Sessies  \\\n",
       "0  m.gooieneemlander.nl  google / organic  /cnt/DMF20210612_49952447       80   \n",
       "1  m.gooieneemlander.nl  google / organic  /cnt/DMF20210612_49952447       76   \n",
       "2  m.gooieneemlander.nl  google / organic  /cnt/DMF20210612_49952447       66   \n",
       "3  m.gooieneemlander.nl  google / organic  /cnt/DMF20210612_49952447       64   \n",
       "4  m.gooieneemlander.nl  google / organic  /cnt/DMF20210612_49952447       64   \n",
       "\n",
       "             timestamp        Newspaper  \n",
       "0  2021-06-12 19:11:00  Gooieneemlander  \n",
       "1  2021-06-12 19:10:00  Gooieneemlander  \n",
       "2  2021-06-12 19:15:00  Gooieneemlander  \n",
       "3  2021-06-12 19:09:00  Gooieneemlander  \n",
       "4  2021-06-12 19:12:00  Gooieneemlander  "
      ]
     },
     "execution_count": 3,
     "metadata": {},
     "output_type": "execute_result"
    }
   ],
   "source": [
    "#We inspect the data.\n",
    "df.head()"
   ]
  },
  {
   "cell_type": "markdown",
   "id": "369e4b6b-0e41-4320-ab18-c88080c62c1d",
   "metadata": {},
   "source": [
    "## Cleaning Combined CSV File"
   ]
  },
  {
   "cell_type": "code",
   "execution_count": 4,
   "id": "856ac8af-7260-4e3d-8002-d54b85a7874a",
   "metadata": {},
   "outputs": [],
   "source": [
    "#We use a regular expression to extract the main traffic source (everything after the '/' symbol).\n",
    "df[\"Traffic source\"] = df[\"Bron/medium\"].apply(lambda x: re.search(\"/ (.*)\", x).group(1))"
   ]
  },
  {
   "cell_type": "code",
   "execution_count": 5,
   "id": "50d2d842-327a-486e-bd45-54afc67d9bac",
   "metadata": {},
   "outputs": [],
   "source": [
    "#We use a regular expression to extract the specific source (everything before the '/' symbol).\n",
    "df[\"Explicit source\"] = df[\"Bron/medium\"].apply(lambda x: re.search(\"(.*) / \", x).group(1))"
   ]
  },
  {
   "cell_type": "code",
   "execution_count": 6,
   "id": "aacfbaf0-5cbd-43bf-8ea6-7a22ee925f19",
   "metadata": {},
   "outputs": [],
   "source": [
    "#We use a regular expression to extract the landing page.\n",
    "df[\"Landing page\"] = df[\"Bestemmingspagina\"].apply(lambda x: re.search(r\"\\/cnt\\/dmf(\\d+)_\\d+\", x.lower()).group(0))"
   ]
  },
  {
   "cell_type": "code",
   "execution_count": 7,
   "id": "a6984de2-82e3-450f-bdb9-f8b981d52ced",
   "metadata": {},
   "outputs": [
    {
     "data": {
      "text/html": [
       "<div>\n",
       "<style scoped>\n",
       "    .dataframe tbody tr th:only-of-type {\n",
       "        vertical-align: middle;\n",
       "    }\n",
       "\n",
       "    .dataframe tbody tr th {\n",
       "        vertical-align: top;\n",
       "    }\n",
       "\n",
       "    .dataframe thead th {\n",
       "        text-align: right;\n",
       "    }\n",
       "</style>\n",
       "<table border=\"1\" class=\"dataframe\">\n",
       "  <thead>\n",
       "    <tr style=\"text-align: right;\">\n",
       "      <th></th>\n",
       "      <th>Hostnaam</th>\n",
       "      <th>Bron/medium</th>\n",
       "      <th>Bestemmingspagina</th>\n",
       "      <th>Sessies</th>\n",
       "      <th>timestamp</th>\n",
       "      <th>Newspaper</th>\n",
       "      <th>Traffic source</th>\n",
       "      <th>Explicit source</th>\n",
       "      <th>Landing page</th>\n",
       "    </tr>\n",
       "  </thead>\n",
       "  <tbody>\n",
       "    <tr>\n",
       "      <th>6519549</th>\n",
       "      <td>m.noordhollandsdagblad.nl</td>\n",
       "      <td>google / organic</td>\n",
       "      <td>/cnt/dmf20200812_110</td>\n",
       "      <td>1</td>\n",
       "      <td>2021-04-20 00:12:00</td>\n",
       "      <td>Noordhollandsdagblad</td>\n",
       "      <td>organic</td>\n",
       "      <td>google</td>\n",
       "      <td>/cnt/dmf20200812_110</td>\n",
       "    </tr>\n",
       "    <tr>\n",
       "      <th>5414147</th>\n",
       "      <td>m.noordhollandsdagblad.nl</td>\n",
       "      <td>google / organic</td>\n",
       "      <td>/cnt/dmf20191229_491</td>\n",
       "      <td>1</td>\n",
       "      <td>2021-06-23 17:16:00</td>\n",
       "      <td>Noordhollandsdagblad</td>\n",
       "      <td>organic</td>\n",
       "      <td>google</td>\n",
       "      <td>/cnt/dmf20191229_491</td>\n",
       "    </tr>\n",
       "    <tr>\n",
       "      <th>7472731</th>\n",
       "      <td>m.noordhollandsdagblad.nl</td>\n",
       "      <td>google / organic</td>\n",
       "      <td>/cnt/dmf20191229_491</td>\n",
       "      <td>1</td>\n",
       "      <td>2021-05-23 07:03:00</td>\n",
       "      <td>Noordhollandsdagblad</td>\n",
       "      <td>organic</td>\n",
       "      <td>google</td>\n",
       "      <td>/cnt/dmf20191229_491</td>\n",
       "    </tr>\n",
       "    <tr>\n",
       "      <th>6513925</th>\n",
       "      <td>www.noordhollandsdagblad.nl</td>\n",
       "      <td>google / organic</td>\n",
       "      <td>/cnt/dmf20200812_110</td>\n",
       "      <td>1</td>\n",
       "      <td>2021-04-19 21:26:00</td>\n",
       "      <td>Noordhollandsdagblad</td>\n",
       "      <td>organic</td>\n",
       "      <td>google</td>\n",
       "      <td>/cnt/dmf20200812_110</td>\n",
       "    </tr>\n",
       "    <tr>\n",
       "      <th>4127930</th>\n",
       "      <td>m.noordhollandsdagblad.nl</td>\n",
       "      <td>nhd / push</td>\n",
       "      <td>/cnt/dmf20200812_110</td>\n",
       "      <td>1</td>\n",
       "      <td>2021-06-08 19:36:00</td>\n",
       "      <td>Noordhollandsdagblad</td>\n",
       "      <td>push</td>\n",
       "      <td>nhd</td>\n",
       "      <td>/cnt/dmf20200812_110</td>\n",
       "    </tr>\n",
       "    <tr>\n",
       "      <th>...</th>\n",
       "      <td>...</td>\n",
       "      <td>...</td>\n",
       "      <td>...</td>\n",
       "      <td>...</td>\n",
       "      <td>...</td>\n",
       "      <td>...</td>\n",
       "      <td>...</td>\n",
       "      <td>...</td>\n",
       "      <td>...</td>\n",
       "    </tr>\n",
       "    <tr>\n",
       "      <th>3190314</th>\n",
       "      <td>www.leidschdagblad.nl</td>\n",
       "      <td>google / organic</td>\n",
       "      <td>/cnt/dmf20210428_53029421</td>\n",
       "      <td>1</td>\n",
       "      <td>2021-04-30 13:20:00</td>\n",
       "      <td>Leidschdagblad</td>\n",
       "      <td>organic</td>\n",
       "      <td>google</td>\n",
       "      <td>/cnt/dmf20210428_53029421</td>\n",
       "    </tr>\n",
       "    <tr>\n",
       "      <th>3190312</th>\n",
       "      <td>www.leidschdagblad.nl</td>\n",
       "      <td>facebook / social</td>\n",
       "      <td>/cnt/DMF20210430_68672222</td>\n",
       "      <td>1</td>\n",
       "      <td>2021-04-30 13:20:00</td>\n",
       "      <td>Leidschdagblad</td>\n",
       "      <td>social</td>\n",
       "      <td>facebook</td>\n",
       "      <td>/cnt/dmf20210430_68672222</td>\n",
       "    </tr>\n",
       "    <tr>\n",
       "      <th>3190311</th>\n",
       "      <td>m.leidschdagblad.nl</td>\n",
       "      <td>upday / referral</td>\n",
       "      <td>/cnt/dmf20210424_93095284</td>\n",
       "      <td>1</td>\n",
       "      <td>2021-04-30 13:20:00</td>\n",
       "      <td>Leidschdagblad</td>\n",
       "      <td>referral</td>\n",
       "      <td>upday</td>\n",
       "      <td>/cnt/dmf20210424_93095284</td>\n",
       "    </tr>\n",
       "    <tr>\n",
       "      <th>3190326</th>\n",
       "      <td>m.leidschdagblad.nl</td>\n",
       "      <td>m.facebook.com / referral</td>\n",
       "      <td>/cnt/dmf20210430_58054478</td>\n",
       "      <td>1</td>\n",
       "      <td>2021-04-30 13:21:00</td>\n",
       "      <td>Leidschdagblad</td>\n",
       "      <td>referral</td>\n",
       "      <td>m.facebook.com</td>\n",
       "      <td>/cnt/dmf20210430_58054478</td>\n",
       "    </tr>\n",
       "    <tr>\n",
       "      <th>9130798</th>\n",
       "      <td>www.noordhollandsdagblad.nl</td>\n",
       "      <td>www.rtlnieuws.nl / referral</td>\n",
       "      <td>/cnt/DMF20210704_71259717</td>\n",
       "      <td>1</td>\n",
       "      <td>2021-07-04 23:59:00</td>\n",
       "      <td>Noordhollandsdagblad</td>\n",
       "      <td>referral</td>\n",
       "      <td>www.rtlnieuws.nl</td>\n",
       "      <td>/cnt/dmf20210704_71259717</td>\n",
       "    </tr>\n",
       "  </tbody>\n",
       "</table>\n",
       "<p>9130799 rows × 9 columns</p>\n",
       "</div>"
      ],
      "text/plain": [
       "                            Hostnaam                  Bron/medium  \\\n",
       "6519549    m.noordhollandsdagblad.nl             google / organic   \n",
       "5414147    m.noordhollandsdagblad.nl             google / organic   \n",
       "7472731    m.noordhollandsdagblad.nl             google / organic   \n",
       "6513925  www.noordhollandsdagblad.nl             google / organic   \n",
       "4127930    m.noordhollandsdagblad.nl                   nhd / push   \n",
       "...                              ...                          ...   \n",
       "3190314        www.leidschdagblad.nl             google / organic   \n",
       "3190312        www.leidschdagblad.nl            facebook / social   \n",
       "3190311          m.leidschdagblad.nl             upday / referral   \n",
       "3190326          m.leidschdagblad.nl    m.facebook.com / referral   \n",
       "9130798  www.noordhollandsdagblad.nl  www.rtlnieuws.nl / referral   \n",
       "\n",
       "                 Bestemmingspagina  Sessies            timestamp  \\\n",
       "6519549       /cnt/dmf20200812_110        1  2021-04-20 00:12:00   \n",
       "5414147       /cnt/dmf20191229_491        1  2021-06-23 17:16:00   \n",
       "7472731       /cnt/dmf20191229_491        1  2021-05-23 07:03:00   \n",
       "6513925       /cnt/dmf20200812_110        1  2021-04-19 21:26:00   \n",
       "4127930       /cnt/dmf20200812_110        1  2021-06-08 19:36:00   \n",
       "...                            ...      ...                  ...   \n",
       "3190314  /cnt/dmf20210428_53029421        1  2021-04-30 13:20:00   \n",
       "3190312  /cnt/DMF20210430_68672222        1  2021-04-30 13:20:00   \n",
       "3190311  /cnt/dmf20210424_93095284        1  2021-04-30 13:20:00   \n",
       "3190326  /cnt/dmf20210430_58054478        1  2021-04-30 13:21:00   \n",
       "9130798  /cnt/DMF20210704_71259717        1  2021-07-04 23:59:00   \n",
       "\n",
       "                    Newspaper Traffic source   Explicit source  \\\n",
       "6519549  Noordhollandsdagblad        organic            google   \n",
       "5414147  Noordhollandsdagblad        organic            google   \n",
       "7472731  Noordhollandsdagblad        organic            google   \n",
       "6513925  Noordhollandsdagblad        organic            google   \n",
       "4127930  Noordhollandsdagblad           push               nhd   \n",
       "...                       ...            ...               ...   \n",
       "3190314        Leidschdagblad        organic            google   \n",
       "3190312        Leidschdagblad         social          facebook   \n",
       "3190311        Leidschdagblad       referral             upday   \n",
       "3190326        Leidschdagblad       referral    m.facebook.com   \n",
       "9130798  Noordhollandsdagblad       referral  www.rtlnieuws.nl   \n",
       "\n",
       "                      Landing page  \n",
       "6519549       /cnt/dmf20200812_110  \n",
       "5414147       /cnt/dmf20191229_491  \n",
       "7472731       /cnt/dmf20191229_491  \n",
       "6513925       /cnt/dmf20200812_110  \n",
       "4127930       /cnt/dmf20200812_110  \n",
       "...                            ...  \n",
       "3190314  /cnt/dmf20210428_53029421  \n",
       "3190312  /cnt/dmf20210430_68672222  \n",
       "3190311  /cnt/dmf20210424_93095284  \n",
       "3190326  /cnt/dmf20210430_58054478  \n",
       "9130798  /cnt/dmf20210704_71259717  \n",
       "\n",
       "[9130799 rows x 9 columns]"
      ]
     },
     "execution_count": 7,
     "metadata": {},
     "output_type": "execute_result"
    }
   ],
   "source": [
    "#We quickly sort our dataset on the length of the landing page, to see if the streamlining went correctly \n",
    "#Thus if we do not have very short or very long landing page ids.\n",
    "df.sort_values(by=\"Landing page\", key=lambda x: x.str.len())"
   ]
  },
  {
   "cell_type": "code",
   "execution_count": 8,
   "id": "75e2b680-62c9-4841-bc6b-b44272f6d6d0",
   "metadata": {},
   "outputs": [],
   "source": [
    "#We remove the minutes and seconds as we want to aggregate per hour.\n",
    "df[\"Timestamp date\"] = df[\"timestamp\"].apply(lambda x: x[:-5] + \"00:00\")"
   ]
  },
  {
   "cell_type": "markdown",
   "id": "cb41cf1b-b491-4436-b2ee-5fe2166bca2a",
   "metadata": {},
   "source": [
    "## Referrals Origins"
   ]
  },
  {
   "cell_type": "code",
   "execution_count": 9,
   "id": "267a1257-6bb2-434a-ab9d-8b0600f614f5",
   "metadata": {},
   "outputs": [
    {
     "data": {
      "text/plain": [
       "[('m.facebook.com', 1129729),\n",
       " ('upday', 108453),\n",
       " ('l.facebook.com', 85848),\n",
       " ('t.co', 66169),\n",
       " ('accounts.tnet.nl', 62971),\n",
       " ('www.haarlemsdagblad.nl', 20640),\n",
       " ('drimble.nl', 19834),\n",
       " ('www.noordhollandsdagblad.nl', 12050),\n",
       " ('www.gooieneemlander.nl', 10248),\n",
       " ('android-app:', 9703),\n",
       " ('www.leidschdagblad.nl', 8372),\n",
       " ('www.ijmuidercourant.nl', 7724),\n",
       " ('lm.facebook.com', 5367),\n",
       " ('www.linkedin.com', 4864),\n",
       " ('www.groot-waterland.nl', 4620),\n",
       " ('tnet.nl', 4441),\n",
       " ('www.ad.nl', 4286),\n",
       " ('noordhollandsdagblad.nl', 3234),\n",
       " ('m.noordhollandsdagblad.nl', 2986),\n",
       " ('www.geenstijl.nl', 2725),\n",
       " ('www.autoblog.nl', 2087),\n",
       " ('www.rtlnieuws.nl', 1968),\n",
       " ('horizon.obi4wan.com', 1939),\n",
       " ('www.oozo.nl', 1813),\n",
       " ('www.facebook.com', 1437),\n",
       " ('www.startpage.com', 1429),\n",
       " ('m.haarlemsdagblad.nl', 1281),\n",
       " ('mediahuis.nl', 1246),\n",
       " ('www.heiloo-online.nl', 1168),\n",
       " ('transition.meltwater.com', 1143)]"
      ]
     },
     "execution_count": 9,
     "metadata": {},
     "output_type": "execute_result"
    }
   ],
   "source": [
    "Counter(df[df[\"Traffic source\"] == \"referral\"][\"Explicit source\"]).most_common(30)"
   ]
  },
  {
   "cell_type": "code",
   "execution_count": 10,
   "id": "a58d8784-d4fa-4292-b7c2-e9549006d49f",
   "metadata": {},
   "outputs": [],
   "source": [
    "#We drop the old columns.\n",
    "df = df.drop(columns = [\"Hostnaam\", \"Bron/medium\", \"Bestemmingspagina\", \"timestamp\"])"
   ]
  },
  {
   "cell_type": "code",
   "execution_count": 11,
   "id": "5d3e7ea8-2559-4bf2-af90-ff0fb715198a",
   "metadata": {},
   "outputs": [],
   "source": [
    "#We rename the 'Sessies' column.\n",
    "df.rename(columns = {\"Sessies\": \"Views\"}, inplace = True)"
   ]
  },
  {
   "cell_type": "code",
   "execution_count": 12,
   "id": "42c73223-3fea-435f-9cb7-39507fe5d9b4",
   "metadata": {},
   "outputs": [
    {
     "data": {
      "text/html": [
       "<div>\n",
       "<style scoped>\n",
       "    .dataframe tbody tr th:only-of-type {\n",
       "        vertical-align: middle;\n",
       "    }\n",
       "\n",
       "    .dataframe tbody tr th {\n",
       "        vertical-align: top;\n",
       "    }\n",
       "\n",
       "    .dataframe thead th {\n",
       "        text-align: right;\n",
       "    }\n",
       "</style>\n",
       "<table border=\"1\" class=\"dataframe\">\n",
       "  <thead>\n",
       "    <tr style=\"text-align: right;\">\n",
       "      <th></th>\n",
       "      <th>Views</th>\n",
       "      <th>Newspaper</th>\n",
       "      <th>Traffic source</th>\n",
       "      <th>Explicit source</th>\n",
       "      <th>Landing page</th>\n",
       "      <th>Timestamp date</th>\n",
       "    </tr>\n",
       "  </thead>\n",
       "  <tbody>\n",
       "    <tr>\n",
       "      <th>0</th>\n",
       "      <td>80</td>\n",
       "      <td>Gooieneemlander</td>\n",
       "      <td>organic</td>\n",
       "      <td>google</td>\n",
       "      <td>/cnt/dmf20210612_49952447</td>\n",
       "      <td>2021-06-12 19:00:00</td>\n",
       "    </tr>\n",
       "    <tr>\n",
       "      <th>1</th>\n",
       "      <td>76</td>\n",
       "      <td>Gooieneemlander</td>\n",
       "      <td>organic</td>\n",
       "      <td>google</td>\n",
       "      <td>/cnt/dmf20210612_49952447</td>\n",
       "      <td>2021-06-12 19:00:00</td>\n",
       "    </tr>\n",
       "    <tr>\n",
       "      <th>2</th>\n",
       "      <td>66</td>\n",
       "      <td>Gooieneemlander</td>\n",
       "      <td>organic</td>\n",
       "      <td>google</td>\n",
       "      <td>/cnt/dmf20210612_49952447</td>\n",
       "      <td>2021-06-12 19:00:00</td>\n",
       "    </tr>\n",
       "    <tr>\n",
       "      <th>3</th>\n",
       "      <td>64</td>\n",
       "      <td>Gooieneemlander</td>\n",
       "      <td>organic</td>\n",
       "      <td>google</td>\n",
       "      <td>/cnt/dmf20210612_49952447</td>\n",
       "      <td>2021-06-12 19:00:00</td>\n",
       "    </tr>\n",
       "    <tr>\n",
       "      <th>4</th>\n",
       "      <td>64</td>\n",
       "      <td>Gooieneemlander</td>\n",
       "      <td>organic</td>\n",
       "      <td>google</td>\n",
       "      <td>/cnt/dmf20210612_49952447</td>\n",
       "      <td>2021-06-12 19:00:00</td>\n",
       "    </tr>\n",
       "  </tbody>\n",
       "</table>\n",
       "</div>"
      ],
      "text/plain": [
       "   Views        Newspaper Traffic source Explicit source  \\\n",
       "0     80  Gooieneemlander        organic          google   \n",
       "1     76  Gooieneemlander        organic          google   \n",
       "2     66  Gooieneemlander        organic          google   \n",
       "3     64  Gooieneemlander        organic          google   \n",
       "4     64  Gooieneemlander        organic          google   \n",
       "\n",
       "                Landing page       Timestamp date  \n",
       "0  /cnt/dmf20210612_49952447  2021-06-12 19:00:00  \n",
       "1  /cnt/dmf20210612_49952447  2021-06-12 19:00:00  \n",
       "2  /cnt/dmf20210612_49952447  2021-06-12 19:00:00  \n",
       "3  /cnt/dmf20210612_49952447  2021-06-12 19:00:00  \n",
       "4  /cnt/dmf20210612_49952447  2021-06-12 19:00:00  "
      ]
     },
     "execution_count": 12,
     "metadata": {},
     "output_type": "execute_result"
    }
   ],
   "source": [
    "#We inspect the data.\n",
    "df.head()"
   ]
  },
  {
   "cell_type": "code",
   "execution_count": 13,
   "id": "301cd885-aaff-49fc-acdc-80ebaec7d4cc",
   "metadata": {},
   "outputs": [
    {
     "name": "stderr",
     "output_type": "stream",
     "text": [
      "100%|██████████| 9130799/9130799 [00:04<00:00, 2268537.97it/s]\n"
     ]
    }
   ],
   "source": [
    "#We create an empty list.\n",
    "traffic_source = []\n",
    "\n",
    "#We loop over the traffic sources and categorize them accordingly.\n",
    "for item in tqdm(df[\"Traffic source\"].values):\n",
    "    if item == \"newsletter\" or item == \"email\":\n",
    "        traffic_source.append(\"newsletter\")\n",
    "    elif item == \"organic\":\n",
    "        traffic_source.append(\"organic\")\n",
    "    elif item == \"referral\":\n",
    "        traffic_source.append(\"referral\")\n",
    "    elif item == \"social\" or item == \"twitter\" or item == \"facebook\":\n",
    "        traffic_source.append(\"social\")\n",
    "    elif item == \"push\":\n",
    "        traffic_source.append(\"push\")\n",
    "    else:\n",
    "        traffic_source.append(\"other\")"
   ]
  },
  {
   "cell_type": "code",
   "execution_count": 14,
   "id": "3a155b78-917a-41f2-bba7-a1075a58f85b",
   "metadata": {},
   "outputs": [],
   "source": [
    "#We add the list as a column\n",
    "df[\"Traffic source\"] = traffic_source"
   ]
  },
  {
   "cell_type": "code",
   "execution_count": 15,
   "id": "e7d526c7-4bc2-489b-adca-e697099c6cda",
   "metadata": {},
   "outputs": [
    {
     "data": {
      "text/plain": [
       "[('organic', 2470151),\n",
       " ('social', 1895509),\n",
       " ('newsletter', 1658249),\n",
       " ('referral', 1627818),\n",
       " ('push', 748291),\n",
       " ('other', 730781)]"
      ]
     },
     "execution_count": 15,
     "metadata": {},
     "output_type": "execute_result"
    }
   ],
   "source": [
    "#We inspect the presence of the categories\n",
    "Counter(traffic_source).most_common()"
   ]
  },
  {
   "cell_type": "markdown",
   "id": "55dc9976-fbad-46c8-903f-6b37eed4dcf8",
   "metadata": {},
   "source": [
    "## Main Traffic Source Dataset"
   ]
  },
  {
   "cell_type": "code",
   "execution_count": 16,
   "id": "934a19a5-8831-4ffb-a3fc-5121934fcb15",
   "metadata": {},
   "outputs": [],
   "source": [
    "#We group by hour by publication by traffic source, and sum the data, so that we get the amount of views per hour per publication per traffic source.\n",
    "df = df.groupby([\"Newspaper\", \"Landing page\", \"Traffic source\", \"Timestamp date\"])[\"Views\"].sum().reset_index()\\\n",
    "       .sort_values([\"Newspaper\", \"Landing page\", \"Timestamp date\"])"
   ]
  },
  {
   "cell_type": "code",
   "execution_count": 17,
   "id": "8d4d79b1-78f9-460d-88e2-f944aca45f31",
   "metadata": {},
   "outputs": [
    {
     "name": "stdout",
     "output_type": "stream",
     "text": [
      "False    2419448\n",
      "dtype: int64\n"
     ]
    }
   ],
   "source": [
    "#We check if there exist duplicate rows.\n",
    "print(df.duplicated().value_counts())"
   ]
  },
  {
   "cell_type": "code",
   "execution_count": 18,
   "id": "c56f8ef5-8899-477e-9fe4-5c1aaac6c8c7",
   "metadata": {},
   "outputs": [
    {
     "data": {
      "text/html": [
       "<div>\n",
       "<style scoped>\n",
       "    .dataframe tbody tr th:only-of-type {\n",
       "        vertical-align: middle;\n",
       "    }\n",
       "\n",
       "    .dataframe tbody tr th {\n",
       "        vertical-align: top;\n",
       "    }\n",
       "\n",
       "    .dataframe thead th {\n",
       "        text-align: right;\n",
       "    }\n",
       "</style>\n",
       "<table border=\"1\" class=\"dataframe\">\n",
       "  <thead>\n",
       "    <tr style=\"text-align: right;\">\n",
       "      <th></th>\n",
       "      <th>Newspaper</th>\n",
       "      <th>Landing page</th>\n",
       "      <th>Traffic source</th>\n",
       "      <th>Timestamp date</th>\n",
       "      <th>Views</th>\n",
       "    </tr>\n",
       "  </thead>\n",
       "  <tbody>\n",
       "    <tr>\n",
       "      <th>0</th>\n",
       "      <td>Gooieneemlander</td>\n",
       "      <td>/cnt/dmf20180830_13090784</td>\n",
       "      <td>other</td>\n",
       "      <td>2021-05-06 12:00:00</td>\n",
       "      <td>1</td>\n",
       "    </tr>\n",
       "    <tr>\n",
       "      <th>1</th>\n",
       "      <td>Gooieneemlander</td>\n",
       "      <td>/cnt/dmf20180830_15395191</td>\n",
       "      <td>organic</td>\n",
       "      <td>2021-06-12 22:00:00</td>\n",
       "      <td>1</td>\n",
       "    </tr>\n",
       "    <tr>\n",
       "      <th>2</th>\n",
       "      <td>Gooieneemlander</td>\n",
       "      <td>/cnt/dmf20180830_21070680</td>\n",
       "      <td>organic</td>\n",
       "      <td>2021-04-13 17:00:00</td>\n",
       "      <td>1</td>\n",
       "    </tr>\n",
       "    <tr>\n",
       "      <th>3</th>\n",
       "      <td>Gooieneemlander</td>\n",
       "      <td>/cnt/dmf20180830_21070680</td>\n",
       "      <td>referral</td>\n",
       "      <td>2021-06-01 13:00:00</td>\n",
       "      <td>1</td>\n",
       "    </tr>\n",
       "    <tr>\n",
       "      <th>4</th>\n",
       "      <td>Gooieneemlander</td>\n",
       "      <td>/cnt/dmf20180830_31246891</td>\n",
       "      <td>organic</td>\n",
       "      <td>2021-06-16 18:00:00</td>\n",
       "      <td>1</td>\n",
       "    </tr>\n",
       "  </tbody>\n",
       "</table>\n",
       "</div>"
      ],
      "text/plain": [
       "         Newspaper               Landing page Traffic source  \\\n",
       "0  Gooieneemlander  /cnt/dmf20180830_13090784          other   \n",
       "1  Gooieneemlander  /cnt/dmf20180830_15395191        organic   \n",
       "2  Gooieneemlander  /cnt/dmf20180830_21070680        organic   \n",
       "3  Gooieneemlander  /cnt/dmf20180830_21070680       referral   \n",
       "4  Gooieneemlander  /cnt/dmf20180830_31246891        organic   \n",
       "\n",
       "        Timestamp date  Views  \n",
       "0  2021-05-06 12:00:00      1  \n",
       "1  2021-06-12 22:00:00      1  \n",
       "2  2021-04-13 17:00:00      1  \n",
       "3  2021-06-01 13:00:00      1  \n",
       "4  2021-06-16 18:00:00      1  "
      ]
     },
     "execution_count": 18,
     "metadata": {},
     "output_type": "execute_result"
    }
   ],
   "source": [
    "#We inspect the data.\n",
    "df.head()"
   ]
  },
  {
   "cell_type": "markdown",
   "id": "8f387f43-3dfe-461c-be57-9d46737c902e",
   "metadata": {},
   "source": [
    "## Implementing Publication Dates"
   ]
  },
  {
   "cell_type": "code",
   "execution_count": 19,
   "id": "5436e970-179a-43f1-b8b3-a70a5ffdae86",
   "metadata": {},
   "outputs": [],
   "source": [
    "#We load in our earlier created publications dates (from the combined meta file in script I).\n",
    "df2 = pd.read_csv(\"Publication dates.csv\")"
   ]
  },
  {
   "cell_type": "code",
   "execution_count": 20,
   "id": "3b8a02e7-1350-4a24-9739-7190c7c92b49",
   "metadata": {},
   "outputs": [
    {
     "data": {
      "text/html": [
       "<div>\n",
       "<style scoped>\n",
       "    .dataframe tbody tr th:only-of-type {\n",
       "        vertical-align: middle;\n",
       "    }\n",
       "\n",
       "    .dataframe tbody tr th {\n",
       "        vertical-align: top;\n",
       "    }\n",
       "\n",
       "    .dataframe thead th {\n",
       "        text-align: right;\n",
       "    }\n",
       "</style>\n",
       "<table border=\"1\" class=\"dataframe\">\n",
       "  <thead>\n",
       "    <tr style=\"text-align: right;\">\n",
       "      <th></th>\n",
       "      <th>Landing page</th>\n",
       "      <th>Newspaper</th>\n",
       "      <th>Publication date</th>\n",
       "    </tr>\n",
       "  </thead>\n",
       "  <tbody>\n",
       "    <tr>\n",
       "      <th>0</th>\n",
       "      <td>/cnt/dmf20210612_49952447</td>\n",
       "      <td>Gooieneemlander</td>\n",
       "      <td>2021-06-12 18:00:00</td>\n",
       "    </tr>\n",
       "    <tr>\n",
       "      <th>1</th>\n",
       "      <td>/cnt/dmf20210611_74078660</td>\n",
       "      <td>Gooieneemlander</td>\n",
       "      <td>2021-06-11 17:00:00</td>\n",
       "    </tr>\n",
       "    <tr>\n",
       "      <th>2</th>\n",
       "      <td>/cnt/dmf20210609_6603454</td>\n",
       "      <td>Gooieneemlander</td>\n",
       "      <td>2021-06-09 16:00:00</td>\n",
       "    </tr>\n",
       "    <tr>\n",
       "      <th>3</th>\n",
       "      <td>/cnt/dmf20210609_60025534</td>\n",
       "      <td>Gooieneemlander</td>\n",
       "      <td>2021-06-09 17:00:00</td>\n",
       "    </tr>\n",
       "    <tr>\n",
       "      <th>4</th>\n",
       "      <td>/cnt/dmf20210608_17288936</td>\n",
       "      <td>Gooieneemlander</td>\n",
       "      <td>2021-06-08 15:00:00</td>\n",
       "    </tr>\n",
       "  </tbody>\n",
       "</table>\n",
       "</div>"
      ],
      "text/plain": [
       "                Landing page        Newspaper     Publication date\n",
       "0  /cnt/dmf20210612_49952447  Gooieneemlander  2021-06-12 18:00:00\n",
       "1  /cnt/dmf20210611_74078660  Gooieneemlander  2021-06-11 17:00:00\n",
       "2   /cnt/dmf20210609_6603454  Gooieneemlander  2021-06-09 16:00:00\n",
       "3  /cnt/dmf20210609_60025534  Gooieneemlander  2021-06-09 17:00:00\n",
       "4  /cnt/dmf20210608_17288936  Gooieneemlander  2021-06-08 15:00:00"
      ]
     },
     "execution_count": 20,
     "metadata": {},
     "output_type": "execute_result"
    }
   ],
   "source": [
    "#We inspect the data.\n",
    "df2.head()"
   ]
  },
  {
   "cell_type": "code",
   "execution_count": 21,
   "id": "64dfd1a9-3b9a-4274-b3a8-c94b003ffe4c",
   "metadata": {},
   "outputs": [],
   "source": [
    "#We merge the files on publication.\n",
    "df3 = df.merge(df2, how=\"left\", on=[\"Newspaper\", \"Landing page\"])"
   ]
  },
  {
   "cell_type": "code",
   "execution_count": 22,
   "id": "72f91d83-4707-4449-8b84-03a143c73040",
   "metadata": {},
   "outputs": [
    {
     "data": {
      "text/html": [
       "<div>\n",
       "<style scoped>\n",
       "    .dataframe tbody tr th:only-of-type {\n",
       "        vertical-align: middle;\n",
       "    }\n",
       "\n",
       "    .dataframe tbody tr th {\n",
       "        vertical-align: top;\n",
       "    }\n",
       "\n",
       "    .dataframe thead th {\n",
       "        text-align: right;\n",
       "    }\n",
       "</style>\n",
       "<table border=\"1\" class=\"dataframe\">\n",
       "  <thead>\n",
       "    <tr style=\"text-align: right;\">\n",
       "      <th></th>\n",
       "      <th>Newspaper</th>\n",
       "      <th>Landing page</th>\n",
       "      <th>Traffic source</th>\n",
       "      <th>Timestamp date</th>\n",
       "      <th>Views</th>\n",
       "      <th>Publication date</th>\n",
       "    </tr>\n",
       "  </thead>\n",
       "  <tbody>\n",
       "    <tr>\n",
       "      <th>0</th>\n",
       "      <td>Gooieneemlander</td>\n",
       "      <td>/cnt/dmf20180830_13090784</td>\n",
       "      <td>other</td>\n",
       "      <td>2021-05-06 12:00:00</td>\n",
       "      <td>1</td>\n",
       "      <td>2018-08-29 16:00:00</td>\n",
       "    </tr>\n",
       "    <tr>\n",
       "      <th>1</th>\n",
       "      <td>Gooieneemlander</td>\n",
       "      <td>/cnt/dmf20180830_15395191</td>\n",
       "      <td>organic</td>\n",
       "      <td>2021-06-12 22:00:00</td>\n",
       "      <td>1</td>\n",
       "      <td>2018-08-29 20:00:00</td>\n",
       "    </tr>\n",
       "    <tr>\n",
       "      <th>2</th>\n",
       "      <td>Gooieneemlander</td>\n",
       "      <td>/cnt/dmf20180830_21070680</td>\n",
       "      <td>organic</td>\n",
       "      <td>2021-04-13 17:00:00</td>\n",
       "      <td>1</td>\n",
       "      <td>2018-08-30 14:00:00</td>\n",
       "    </tr>\n",
       "    <tr>\n",
       "      <th>3</th>\n",
       "      <td>Gooieneemlander</td>\n",
       "      <td>/cnt/dmf20180830_21070680</td>\n",
       "      <td>referral</td>\n",
       "      <td>2021-06-01 13:00:00</td>\n",
       "      <td>1</td>\n",
       "      <td>2018-08-30 14:00:00</td>\n",
       "    </tr>\n",
       "    <tr>\n",
       "      <th>4</th>\n",
       "      <td>Gooieneemlander</td>\n",
       "      <td>/cnt/dmf20180830_31246891</td>\n",
       "      <td>organic</td>\n",
       "      <td>2021-06-16 18:00:00</td>\n",
       "      <td>1</td>\n",
       "      <td>2018-08-30 15:00:00</td>\n",
       "    </tr>\n",
       "  </tbody>\n",
       "</table>\n",
       "</div>"
      ],
      "text/plain": [
       "         Newspaper               Landing page Traffic source  \\\n",
       "0  Gooieneemlander  /cnt/dmf20180830_13090784          other   \n",
       "1  Gooieneemlander  /cnt/dmf20180830_15395191        organic   \n",
       "2  Gooieneemlander  /cnt/dmf20180830_21070680        organic   \n",
       "3  Gooieneemlander  /cnt/dmf20180830_21070680       referral   \n",
       "4  Gooieneemlander  /cnt/dmf20180830_31246891        organic   \n",
       "\n",
       "        Timestamp date  Views     Publication date  \n",
       "0  2021-05-06 12:00:00      1  2018-08-29 16:00:00  \n",
       "1  2021-06-12 22:00:00      1  2018-08-29 20:00:00  \n",
       "2  2021-04-13 17:00:00      1  2018-08-30 14:00:00  \n",
       "3  2021-06-01 13:00:00      1  2018-08-30 14:00:00  \n",
       "4  2021-06-16 18:00:00      1  2018-08-30 15:00:00  "
      ]
     },
     "execution_count": 22,
     "metadata": {},
     "output_type": "execute_result"
    }
   ],
   "source": [
    "#We inspect it.\n",
    "df3.head()"
   ]
  },
  {
   "cell_type": "code",
   "execution_count": 23,
   "id": "64287759-6501-4220-a902-534e8b5558ef",
   "metadata": {},
   "outputs": [
    {
     "data": {
      "text/plain": [
       "Newspaper           object\n",
       "Landing page        object\n",
       "Traffic source      object\n",
       "Timestamp date      object\n",
       "Views                int64\n",
       "Publication date    object\n",
       "dtype: object"
      ]
     },
     "execution_count": 23,
     "metadata": {},
     "output_type": "execute_result"
    }
   ],
   "source": [
    "#We check the datatypes.\n",
    "df3.dtypes"
   ]
  },
  {
   "cell_type": "code",
   "execution_count": 24,
   "id": "fe8afb93-8628-47d8-bfcd-aa72bb32b767",
   "metadata": {},
   "outputs": [],
   "source": [
    "#We transform it to datetime objects.\n",
    "df3[\"Publication date\"] = pd.to_datetime(df3[\"Publication date\"].values, format=\"%Y-%m-%d %H:%M:%S\")\n",
    "df3[\"Timestamp date\"] = pd.to_datetime(df3[\"Timestamp date\"].values, format=\"%Y-%m-%d %H:%M:%S\")"
   ]
  },
  {
   "cell_type": "code",
   "execution_count": 25,
   "id": "396dfcdf-4b65-4ea5-a20d-3ad825bb60f4",
   "metadata": {},
   "outputs": [
    {
     "data": {
      "text/plain": [
       "Newspaper                   object\n",
       "Landing page                object\n",
       "Traffic source              object\n",
       "Timestamp date      datetime64[ns]\n",
       "Views                        int64\n",
       "Publication date    datetime64[ns]\n",
       "dtype: object"
      ]
     },
     "execution_count": 25,
     "metadata": {},
     "output_type": "execute_result"
    }
   ],
   "source": [
    "#We check the datatypes.\n",
    "df3.dtypes"
   ]
  },
  {
   "cell_type": "code",
   "execution_count": 26,
   "id": "e0583731-53f7-4021-aac4-e789a7bdb4f6",
   "metadata": {},
   "outputs": [
    {
     "data": {
      "text/plain": [
       "Newspaper\n",
       "Gooieneemlander        2021-04-12\n",
       "Haarlemsdagblad        2021-04-12\n",
       "Ijmuidercourant        2021-04-12\n",
       "Leidschdagblad         2021-04-12\n",
       "Noordhollandsdagblad   2021-04-12\n",
       "Name: Timestamp date, dtype: datetime64[ns]"
      ]
     },
     "execution_count": 26,
     "metadata": {},
     "output_type": "execute_result"
    }
   ],
   "source": [
    "#We verify what the start of the tracking period is.\n",
    "df3.groupby([\"Newspaper\"])[\"Timestamp date\"].min()"
   ]
  },
  {
   "cell_type": "code",
   "execution_count": 27,
   "id": "0d6fb9a4-e360-4e21-bb48-29afe2daf49e",
   "metadata": {},
   "outputs": [],
   "source": [
    "#We subset the data accordingly to make sure that we have data on the full trajectory of each article. \n",
    "#We thus exclude articles that are published before the data collection started.\n",
    "#To be sure we also exclude timestamps that occured before the publication date.\n",
    "df3 = df3[(df3[\"Publication date\"] >= \"2021-04-12 00:00:00\") & (df3[\"Timestamp date\"] >= df3[\"Publication date\"])]"
   ]
  },
  {
   "cell_type": "code",
   "execution_count": 28,
   "id": "930e053d-8bdb-4015-913c-849b1cda6b14",
   "metadata": {},
   "outputs": [
    {
     "data": {
      "text/html": [
       "<div>\n",
       "<style scoped>\n",
       "    .dataframe tbody tr th:only-of-type {\n",
       "        vertical-align: middle;\n",
       "    }\n",
       "\n",
       "    .dataframe tbody tr th {\n",
       "        vertical-align: top;\n",
       "    }\n",
       "\n",
       "    .dataframe thead th {\n",
       "        text-align: right;\n",
       "    }\n",
       "</style>\n",
       "<table border=\"1\" class=\"dataframe\">\n",
       "  <thead>\n",
       "    <tr style=\"text-align: right;\">\n",
       "      <th></th>\n",
       "      <th>Newspaper</th>\n",
       "      <th>Landing page</th>\n",
       "      <th>Traffic source</th>\n",
       "      <th>Timestamp date</th>\n",
       "      <th>Views</th>\n",
       "      <th>Publication date</th>\n",
       "    </tr>\n",
       "  </thead>\n",
       "  <tbody>\n",
       "    <tr>\n",
       "      <th>37536</th>\n",
       "      <td>Gooieneemlander</td>\n",
       "      <td>/cnt/dmf20190705_81476516</td>\n",
       "      <td>referral</td>\n",
       "      <td>2021-05-27 16:00:00</td>\n",
       "      <td>1</td>\n",
       "      <td>2021-05-26 19:00:00</td>\n",
       "    </tr>\n",
       "    <tr>\n",
       "      <th>37537</th>\n",
       "      <td>Gooieneemlander</td>\n",
       "      <td>/cnt/dmf20190705_81476516</td>\n",
       "      <td>referral</td>\n",
       "      <td>2021-05-27 22:00:00</td>\n",
       "      <td>1</td>\n",
       "      <td>2021-05-26 19:00:00</td>\n",
       "    </tr>\n",
       "    <tr>\n",
       "      <th>37538</th>\n",
       "      <td>Gooieneemlander</td>\n",
       "      <td>/cnt/dmf20190705_81476516</td>\n",
       "      <td>other</td>\n",
       "      <td>2021-05-28 08:00:00</td>\n",
       "      <td>1</td>\n",
       "      <td>2021-05-26 19:00:00</td>\n",
       "    </tr>\n",
       "    <tr>\n",
       "      <th>47717</th>\n",
       "      <td>Gooieneemlander</td>\n",
       "      <td>/cnt/dmf20200501_53506347</td>\n",
       "      <td>other</td>\n",
       "      <td>2021-07-05 18:00:00</td>\n",
       "      <td>1</td>\n",
       "      <td>2021-07-05 18:00:00</td>\n",
       "    </tr>\n",
       "    <tr>\n",
       "      <th>47718</th>\n",
       "      <td>Gooieneemlander</td>\n",
       "      <td>/cnt/dmf20200501_53506347</td>\n",
       "      <td>referral</td>\n",
       "      <td>2021-07-05 18:00:00</td>\n",
       "      <td>3</td>\n",
       "      <td>2021-07-05 18:00:00</td>\n",
       "    </tr>\n",
       "  </tbody>\n",
       "</table>\n",
       "</div>"
      ],
      "text/plain": [
       "             Newspaper               Landing page Traffic source  \\\n",
       "37536  Gooieneemlander  /cnt/dmf20190705_81476516       referral   \n",
       "37537  Gooieneemlander  /cnt/dmf20190705_81476516       referral   \n",
       "37538  Gooieneemlander  /cnt/dmf20190705_81476516          other   \n",
       "47717  Gooieneemlander  /cnt/dmf20200501_53506347          other   \n",
       "47718  Gooieneemlander  /cnt/dmf20200501_53506347       referral   \n",
       "\n",
       "           Timestamp date  Views    Publication date  \n",
       "37536 2021-05-27 16:00:00      1 2021-05-26 19:00:00  \n",
       "37537 2021-05-27 22:00:00      1 2021-05-26 19:00:00  \n",
       "37538 2021-05-28 08:00:00      1 2021-05-26 19:00:00  \n",
       "47717 2021-07-05 18:00:00      1 2021-07-05 18:00:00  \n",
       "47718 2021-07-05 18:00:00      3 2021-07-05 18:00:00  "
      ]
     },
     "execution_count": 28,
     "metadata": {},
     "output_type": "execute_result"
    }
   ],
   "source": [
    "#We inspect the data.\n",
    "df3.head()"
   ]
  },
  {
   "cell_type": "code",
   "execution_count": 29,
   "id": "81d0e0a3-d3f6-4db6-a97e-566ba16a11d5",
   "metadata": {},
   "outputs": [
    {
     "data": {
      "text/plain": [
       "Counter({False: 75019, True: 52947})"
      ]
     },
     "execution_count": 29,
     "metadata": {},
     "output_type": "execute_result"
    }
   ],
   "source": [
    "#We check if the first record is equal to the publication date.\n",
    "Counter(df3.groupby([\"Newspaper\", \"Landing page\", \"Traffic source\"])\\\n",
    "        .apply(lambda x: (x[\"Publication date\"].iloc[0] == x[\"Timestamp date\"].iloc[0])))"
   ]
  },
  {
   "cell_type": "code",
   "execution_count": 30,
   "id": "4ea7f65b-7307-484c-9095-f9af2f0f05cf",
   "metadata": {},
   "outputs": [],
   "source": [
    "#We create a function to add a row.\n",
    "def add_row_traffic(x):\n",
    "    #Namely we check for publications where the first timestamp is not equal to the publication date.\n",
    "    if x[\"Timestamp date\"].min() != x[\"Publication date\"].iloc[0]:\n",
    "        #If so we add a new custom row to the top of the publication.\n",
    "        #This row will have the same information as the other rows, having zero views and having a timestamp equal to the publication date.\n",
    "        #This is done so that the gap between the publication date and the first timestamp can be filled up later on.\n",
    "        return pd.concat([pd.DataFrame({\"Landing page\": x[\"Landing page\"].iloc[0],\n",
    "                                        \"Traffic source\": x[\"Traffic source\"].iloc[0],\n",
    "                                        \"Views\": 0,\n",
    "                                        \"Newspaper\": x[\"Newspaper\"].iloc[0],\n",
    "                                        \"Publication date\": x[\"Publication date\"].iloc[0],\n",
    "                                        \"Timestamp date\": x[\"Publication date\"].iloc[0]\n",
    "                                       }, index=[0]), x]).reset_index(drop=True)\n",
    "    return x"
   ]
  },
  {
   "cell_type": "code",
   "execution_count": 31,
   "id": "8524a629-88a1-420f-bc93-4d30d5627908",
   "metadata": {},
   "outputs": [],
   "source": [
    "#We apply the function.\n",
    "df3 = df3.groupby([\"Newspaper\", \"Landing page\", \"Traffic source\"]).apply(add_row_traffic).reset_index(drop=True)"
   ]
  },
  {
   "cell_type": "code",
   "execution_count": 32,
   "id": "bab2c7eb-cd38-4a08-acf8-d29926b936ce",
   "metadata": {},
   "outputs": [
    {
     "data": {
      "text/plain": [
       "Counter({True: 127966})"
      ]
     },
     "execution_count": 32,
     "metadata": {},
     "output_type": "execute_result"
    }
   ],
   "source": [
    "#We check if it worked.\n",
    "Counter(df3.groupby([\"Newspaper\", \"Landing page\", \"Traffic source\"])\\\n",
    "        .apply(lambda x: (x[\"Publication date\"].iloc[0] == x[\"Timestamp date\"].iloc[0])))"
   ]
  },
  {
   "cell_type": "code",
   "execution_count": 33,
   "id": "1d1295eb-6036-4e9e-a553-72471e16d4be",
   "metadata": {},
   "outputs": [
    {
     "data": {
      "text/html": [
       "<div>\n",
       "<style scoped>\n",
       "    .dataframe tbody tr th:only-of-type {\n",
       "        vertical-align: middle;\n",
       "    }\n",
       "\n",
       "    .dataframe tbody tr th {\n",
       "        vertical-align: top;\n",
       "    }\n",
       "\n",
       "    .dataframe thead th {\n",
       "        text-align: right;\n",
       "    }\n",
       "</style>\n",
       "<table border=\"1\" class=\"dataframe\">\n",
       "  <thead>\n",
       "    <tr style=\"text-align: right;\">\n",
       "      <th></th>\n",
       "      <th>Landing page</th>\n",
       "      <th>Traffic source</th>\n",
       "      <th>Views</th>\n",
       "      <th>Newspaper</th>\n",
       "      <th>Publication date</th>\n",
       "      <th>Timestamp date</th>\n",
       "    </tr>\n",
       "  </thead>\n",
       "  <tbody>\n",
       "    <tr>\n",
       "      <th>0</th>\n",
       "      <td>/cnt/dmf20190705_81476516</td>\n",
       "      <td>other</td>\n",
       "      <td>0</td>\n",
       "      <td>Gooieneemlander</td>\n",
       "      <td>2021-05-26 19:00:00</td>\n",
       "      <td>2021-05-26 19:00:00</td>\n",
       "    </tr>\n",
       "    <tr>\n",
       "      <th>1</th>\n",
       "      <td>/cnt/dmf20190705_81476516</td>\n",
       "      <td>other</td>\n",
       "      <td>1</td>\n",
       "      <td>Gooieneemlander</td>\n",
       "      <td>2021-05-26 19:00:00</td>\n",
       "      <td>2021-05-28 08:00:00</td>\n",
       "    </tr>\n",
       "    <tr>\n",
       "      <th>2</th>\n",
       "      <td>/cnt/dmf20190705_81476516</td>\n",
       "      <td>referral</td>\n",
       "      <td>0</td>\n",
       "      <td>Gooieneemlander</td>\n",
       "      <td>2021-05-26 19:00:00</td>\n",
       "      <td>2021-05-26 19:00:00</td>\n",
       "    </tr>\n",
       "    <tr>\n",
       "      <th>3</th>\n",
       "      <td>/cnt/dmf20190705_81476516</td>\n",
       "      <td>referral</td>\n",
       "      <td>1</td>\n",
       "      <td>Gooieneemlander</td>\n",
       "      <td>2021-05-26 19:00:00</td>\n",
       "      <td>2021-05-27 16:00:00</td>\n",
       "    </tr>\n",
       "    <tr>\n",
       "      <th>4</th>\n",
       "      <td>/cnt/dmf20190705_81476516</td>\n",
       "      <td>referral</td>\n",
       "      <td>1</td>\n",
       "      <td>Gooieneemlander</td>\n",
       "      <td>2021-05-26 19:00:00</td>\n",
       "      <td>2021-05-27 22:00:00</td>\n",
       "    </tr>\n",
       "  </tbody>\n",
       "</table>\n",
       "</div>"
      ],
      "text/plain": [
       "                Landing page Traffic source  Views        Newspaper  \\\n",
       "0  /cnt/dmf20190705_81476516          other      0  Gooieneemlander   \n",
       "1  /cnt/dmf20190705_81476516          other      1  Gooieneemlander   \n",
       "2  /cnt/dmf20190705_81476516       referral      0  Gooieneemlander   \n",
       "3  /cnt/dmf20190705_81476516       referral      1  Gooieneemlander   \n",
       "4  /cnt/dmf20190705_81476516       referral      1  Gooieneemlander   \n",
       "\n",
       "     Publication date      Timestamp date  \n",
       "0 2021-05-26 19:00:00 2021-05-26 19:00:00  \n",
       "1 2021-05-26 19:00:00 2021-05-28 08:00:00  \n",
       "2 2021-05-26 19:00:00 2021-05-26 19:00:00  \n",
       "3 2021-05-26 19:00:00 2021-05-27 16:00:00  \n",
       "4 2021-05-26 19:00:00 2021-05-27 22:00:00  "
      ]
     },
     "execution_count": 33,
     "metadata": {},
     "output_type": "execute_result"
    }
   ],
   "source": [
    "#We inspect the data.\n",
    "df3.head()"
   ]
  },
  {
   "cell_type": "code",
   "execution_count": 34,
   "id": "9007be65-d1ad-4619-8930-da4ef2b86aa1",
   "metadata": {},
   "outputs": [],
   "source": [
    "#We pivot our data so that each traffic source gets its own views column.\n",
    "df3_p = df3.pivot_table(columns=\"Traffic source\", index = [\"Newspaper\", \"Landing page\", \"Timestamp date\"],\n",
    "                        values=\"Views\", fill_value=0).reset_index().rename_axis(None, axis=1)"
   ]
  },
  {
   "cell_type": "code",
   "execution_count": 35,
   "id": "dc9e2239-d7c6-498f-9659-641f2923d9f3",
   "metadata": {},
   "outputs": [],
   "source": [
    "#We fill up the spaces between the timestamps with rows of 1 hour.\n",
    "#.sum() is used so that views get a value of zero (the whole reason that the timestamp was missing was because there were zero views).\n",
    "df3_p = df3_p.groupby([\"Newspaper\", \"Landing page\"]).apply(lambda x: x.set_index(\"Timestamp date\").resample(\"1H\").sum()).reset_index()"
   ]
  },
  {
   "cell_type": "code",
   "execution_count": 36,
   "id": "250b0120-e941-44ac-bcd3-860a1b432139",
   "metadata": {},
   "outputs": [
    {
     "data": {
      "text/plain": [
       "Counter({NaT: 46550, Timedelta('0 days 01:00:00'): 17737802})"
      ]
     },
     "execution_count": 36,
     "metadata": {},
     "output_type": "execute_result"
    }
   ],
   "source": [
    "#We check if the difference is now indeed 1 across each row per publication.\n",
    "Counter(df3_p.groupby([\"Newspaper\", \"Landing page\"])[\"Timestamp date\"].diff())"
   ]
  },
  {
   "cell_type": "code",
   "execution_count": 37,
   "id": "5b712117-9e56-4bce-8ecf-b94c57fd22bf",
   "metadata": {},
   "outputs": [
    {
     "data": {
      "text/html": [
       "<div>\n",
       "<style scoped>\n",
       "    .dataframe tbody tr th:only-of-type {\n",
       "        vertical-align: middle;\n",
       "    }\n",
       "\n",
       "    .dataframe tbody tr th {\n",
       "        vertical-align: top;\n",
       "    }\n",
       "\n",
       "    .dataframe thead th {\n",
       "        text-align: right;\n",
       "    }\n",
       "</style>\n",
       "<table border=\"1\" class=\"dataframe\">\n",
       "  <thead>\n",
       "    <tr style=\"text-align: right;\">\n",
       "      <th></th>\n",
       "      <th>Newspaper</th>\n",
       "      <th>Landing page</th>\n",
       "      <th>Timestamp date</th>\n",
       "      <th>newsletter</th>\n",
       "      <th>organic</th>\n",
       "      <th>other</th>\n",
       "      <th>push</th>\n",
       "      <th>referral</th>\n",
       "      <th>social</th>\n",
       "    </tr>\n",
       "  </thead>\n",
       "  <tbody>\n",
       "    <tr>\n",
       "      <th>0</th>\n",
       "      <td>Gooieneemlander</td>\n",
       "      <td>/cnt/dmf20190705_81476516</td>\n",
       "      <td>2021-05-26 19:00:00</td>\n",
       "      <td>0</td>\n",
       "      <td>0</td>\n",
       "      <td>0</td>\n",
       "      <td>0</td>\n",
       "      <td>0</td>\n",
       "      <td>0</td>\n",
       "    </tr>\n",
       "    <tr>\n",
       "      <th>1</th>\n",
       "      <td>Gooieneemlander</td>\n",
       "      <td>/cnt/dmf20190705_81476516</td>\n",
       "      <td>2021-05-26 20:00:00</td>\n",
       "      <td>0</td>\n",
       "      <td>0</td>\n",
       "      <td>0</td>\n",
       "      <td>0</td>\n",
       "      <td>0</td>\n",
       "      <td>0</td>\n",
       "    </tr>\n",
       "    <tr>\n",
       "      <th>2</th>\n",
       "      <td>Gooieneemlander</td>\n",
       "      <td>/cnt/dmf20190705_81476516</td>\n",
       "      <td>2021-05-26 21:00:00</td>\n",
       "      <td>0</td>\n",
       "      <td>0</td>\n",
       "      <td>0</td>\n",
       "      <td>0</td>\n",
       "      <td>0</td>\n",
       "      <td>0</td>\n",
       "    </tr>\n",
       "    <tr>\n",
       "      <th>3</th>\n",
       "      <td>Gooieneemlander</td>\n",
       "      <td>/cnt/dmf20190705_81476516</td>\n",
       "      <td>2021-05-26 22:00:00</td>\n",
       "      <td>0</td>\n",
       "      <td>0</td>\n",
       "      <td>0</td>\n",
       "      <td>0</td>\n",
       "      <td>0</td>\n",
       "      <td>0</td>\n",
       "    </tr>\n",
       "    <tr>\n",
       "      <th>4</th>\n",
       "      <td>Gooieneemlander</td>\n",
       "      <td>/cnt/dmf20190705_81476516</td>\n",
       "      <td>2021-05-26 23:00:00</td>\n",
       "      <td>0</td>\n",
       "      <td>0</td>\n",
       "      <td>0</td>\n",
       "      <td>0</td>\n",
       "      <td>0</td>\n",
       "      <td>0</td>\n",
       "    </tr>\n",
       "  </tbody>\n",
       "</table>\n",
       "</div>"
      ],
      "text/plain": [
       "         Newspaper               Landing page      Timestamp date  newsletter  \\\n",
       "0  Gooieneemlander  /cnt/dmf20190705_81476516 2021-05-26 19:00:00           0   \n",
       "1  Gooieneemlander  /cnt/dmf20190705_81476516 2021-05-26 20:00:00           0   \n",
       "2  Gooieneemlander  /cnt/dmf20190705_81476516 2021-05-26 21:00:00           0   \n",
       "3  Gooieneemlander  /cnt/dmf20190705_81476516 2021-05-26 22:00:00           0   \n",
       "4  Gooieneemlander  /cnt/dmf20190705_81476516 2021-05-26 23:00:00           0   \n",
       "\n",
       "   organic  other  push  referral  social  \n",
       "0        0      0     0         0       0  \n",
       "1        0      0     0         0       0  \n",
       "2        0      0     0         0       0  \n",
       "3        0      0     0         0       0  \n",
       "4        0      0     0         0       0  "
      ]
     },
     "execution_count": 37,
     "metadata": {},
     "output_type": "execute_result"
    }
   ],
   "source": [
    "#We inspect the data.\n",
    "df3_p.head()"
   ]
  },
  {
   "cell_type": "markdown",
   "id": "096ad67a-dfdd-4250-8ef3-f5476f95a636",
   "metadata": {},
   "source": [
    "## Adding Traffic Features"
   ]
  },
  {
   "cell_type": "code",
   "execution_count": 38,
   "id": "4b92f6e6-da43-4d89-8898-83dc4e7d052a",
   "metadata": {},
   "outputs": [],
   "source": [
    "#We order the dataframe on date within each publication (this is how the file was already structured, but just to be sure).\n",
    "df3_p = df3_p.groupby([\"Newspaper\", \"Landing page\"]).apply(lambda x: x.sort_values(\"Timestamp date\")).reset_index(drop=True)"
   ]
  },
  {
   "cell_type": "code",
   "execution_count": 39,
   "id": "6bb0917d-fc53-4403-bc39-4ad01f7f2354",
   "metadata": {},
   "outputs": [],
   "source": [
    "#We add the value one as a column, the difference between rows is namely 1 hour across publications.\n",
    "df3_p[\"Hour\"] = 1\n",
    "#We take the sum of this column cumulatively within each publication, thus creating the hours passed.\n",
    "df3_p[\"Hours passed\"] = df3_p.groupby([\"Newspaper\", \"Landing page\"])[\"Hour\"].cumsum()\n",
    "#We drop the original column.\n",
    "df3_p.drop(columns = [\"Hour\"], inplace = True)"
   ]
  },
  {
   "cell_type": "code",
   "execution_count": 40,
   "id": "7922d4de-c717-4be8-a956-1098d77febc3",
   "metadata": {},
   "outputs": [],
   "source": [
    "#We fill up spaces and special symbols in our column names (as otherwise they will not work in formula et cetera).\n",
    "df3_p.columns = [c.replace(\" \", \"_\").replace(\"-\", \"_\").replace(\"(\", \"\").replace(\")\", \"\").replace(\".\", \"\") for c in df3_p.columns]"
   ]
  },
  {
   "cell_type": "code",
   "execution_count": 41,
   "id": "9739bfbd-62ad-4e7f-ac2f-3435716dc442",
   "metadata": {},
   "outputs": [
    {
     "name": "stderr",
     "output_type": "stream",
     "text": [
      "100%|██████████| 6/6 [00:19<00:00,  3.23s/it]\n"
     ]
    }
   ],
   "source": [
    "#We loop over the source columns and group by publication to get the total amount of views per publication within a traffic source.\n",
    "for source in tqdm([\"newsletter\", \"organic\", \"other\", \"push\", \"referral\", \"social\"]):\n",
    "    df3_p[f\"Total_{source}\"] = df3_p.groupby([\"Newspaper\", \"Landing_page\"])[f\"{source}\"].transform(\"sum\")"
   ]
  },
  {
   "cell_type": "code",
   "execution_count": 42,
   "id": "cc3b29d3-0b3b-4056-b9d1-5257431d579d",
   "metadata": {},
   "outputs": [],
   "source": [
    "#We also create an total views per hours column (by simply adding up the views within each traffic source).\n",
    "df3_p[\"Views\"] = df3_p[\"newsletter\"] + df3_p[\"organic\"] + df3_p[\"other\"] + df3_p[\"push\"] + df3_p[\"referral\"] + df3_p[\"social\"]\n",
    "#And an absolute total by grouping per publication.\n",
    "df3_p[\"Total_views\"] = df3_p.groupby([\"Newspaper\", \"Landing_page\"])[\"Views\"].transform(\"sum\")"
   ]
  },
  {
   "cell_type": "code",
   "execution_count": 43,
   "id": "7c3b1099-9741-4048-9e81-2dc3c1f88706",
   "metadata": {},
   "outputs": [
    {
     "data": {
      "text/html": [
       "<div>\n",
       "<style scoped>\n",
       "    .dataframe tbody tr th:only-of-type {\n",
       "        vertical-align: middle;\n",
       "    }\n",
       "\n",
       "    .dataframe tbody tr th {\n",
       "        vertical-align: top;\n",
       "    }\n",
       "\n",
       "    .dataframe thead th {\n",
       "        text-align: right;\n",
       "    }\n",
       "</style>\n",
       "<table border=\"1\" class=\"dataframe\">\n",
       "  <thead>\n",
       "    <tr style=\"text-align: right;\">\n",
       "      <th></th>\n",
       "      <th>Newspaper</th>\n",
       "      <th>Landing_page</th>\n",
       "      <th>Timestamp_date</th>\n",
       "      <th>newsletter</th>\n",
       "      <th>organic</th>\n",
       "      <th>other</th>\n",
       "      <th>push</th>\n",
       "      <th>referral</th>\n",
       "      <th>social</th>\n",
       "      <th>Hours_passed</th>\n",
       "      <th>Total_newsletter</th>\n",
       "      <th>Total_organic</th>\n",
       "      <th>Total_other</th>\n",
       "      <th>Total_push</th>\n",
       "      <th>Total_referral</th>\n",
       "      <th>Total_social</th>\n",
       "      <th>Views</th>\n",
       "      <th>Total_views</th>\n",
       "    </tr>\n",
       "  </thead>\n",
       "  <tbody>\n",
       "    <tr>\n",
       "      <th>0</th>\n",
       "      <td>Gooieneemlander</td>\n",
       "      <td>/cnt/dmf20190705_81476516</td>\n",
       "      <td>2021-05-26 19:00:00</td>\n",
       "      <td>0</td>\n",
       "      <td>0</td>\n",
       "      <td>0</td>\n",
       "      <td>0</td>\n",
       "      <td>0</td>\n",
       "      <td>0</td>\n",
       "      <td>1</td>\n",
       "      <td>0</td>\n",
       "      <td>0</td>\n",
       "      <td>1</td>\n",
       "      <td>0</td>\n",
       "      <td>2</td>\n",
       "      <td>0</td>\n",
       "      <td>0</td>\n",
       "      <td>3</td>\n",
       "    </tr>\n",
       "    <tr>\n",
       "      <th>1</th>\n",
       "      <td>Gooieneemlander</td>\n",
       "      <td>/cnt/dmf20190705_81476516</td>\n",
       "      <td>2021-05-26 20:00:00</td>\n",
       "      <td>0</td>\n",
       "      <td>0</td>\n",
       "      <td>0</td>\n",
       "      <td>0</td>\n",
       "      <td>0</td>\n",
       "      <td>0</td>\n",
       "      <td>2</td>\n",
       "      <td>0</td>\n",
       "      <td>0</td>\n",
       "      <td>1</td>\n",
       "      <td>0</td>\n",
       "      <td>2</td>\n",
       "      <td>0</td>\n",
       "      <td>0</td>\n",
       "      <td>3</td>\n",
       "    </tr>\n",
       "    <tr>\n",
       "      <th>2</th>\n",
       "      <td>Gooieneemlander</td>\n",
       "      <td>/cnt/dmf20190705_81476516</td>\n",
       "      <td>2021-05-26 21:00:00</td>\n",
       "      <td>0</td>\n",
       "      <td>0</td>\n",
       "      <td>0</td>\n",
       "      <td>0</td>\n",
       "      <td>0</td>\n",
       "      <td>0</td>\n",
       "      <td>3</td>\n",
       "      <td>0</td>\n",
       "      <td>0</td>\n",
       "      <td>1</td>\n",
       "      <td>0</td>\n",
       "      <td>2</td>\n",
       "      <td>0</td>\n",
       "      <td>0</td>\n",
       "      <td>3</td>\n",
       "    </tr>\n",
       "    <tr>\n",
       "      <th>3</th>\n",
       "      <td>Gooieneemlander</td>\n",
       "      <td>/cnt/dmf20190705_81476516</td>\n",
       "      <td>2021-05-26 22:00:00</td>\n",
       "      <td>0</td>\n",
       "      <td>0</td>\n",
       "      <td>0</td>\n",
       "      <td>0</td>\n",
       "      <td>0</td>\n",
       "      <td>0</td>\n",
       "      <td>4</td>\n",
       "      <td>0</td>\n",
       "      <td>0</td>\n",
       "      <td>1</td>\n",
       "      <td>0</td>\n",
       "      <td>2</td>\n",
       "      <td>0</td>\n",
       "      <td>0</td>\n",
       "      <td>3</td>\n",
       "    </tr>\n",
       "    <tr>\n",
       "      <th>4</th>\n",
       "      <td>Gooieneemlander</td>\n",
       "      <td>/cnt/dmf20190705_81476516</td>\n",
       "      <td>2021-05-26 23:00:00</td>\n",
       "      <td>0</td>\n",
       "      <td>0</td>\n",
       "      <td>0</td>\n",
       "      <td>0</td>\n",
       "      <td>0</td>\n",
       "      <td>0</td>\n",
       "      <td>5</td>\n",
       "      <td>0</td>\n",
       "      <td>0</td>\n",
       "      <td>1</td>\n",
       "      <td>0</td>\n",
       "      <td>2</td>\n",
       "      <td>0</td>\n",
       "      <td>0</td>\n",
       "      <td>3</td>\n",
       "    </tr>\n",
       "  </tbody>\n",
       "</table>\n",
       "</div>"
      ],
      "text/plain": [
       "         Newspaper               Landing_page      Timestamp_date  newsletter  \\\n",
       "0  Gooieneemlander  /cnt/dmf20190705_81476516 2021-05-26 19:00:00           0   \n",
       "1  Gooieneemlander  /cnt/dmf20190705_81476516 2021-05-26 20:00:00           0   \n",
       "2  Gooieneemlander  /cnt/dmf20190705_81476516 2021-05-26 21:00:00           0   \n",
       "3  Gooieneemlander  /cnt/dmf20190705_81476516 2021-05-26 22:00:00           0   \n",
       "4  Gooieneemlander  /cnt/dmf20190705_81476516 2021-05-26 23:00:00           0   \n",
       "\n",
       "   organic  other  push  referral  social  Hours_passed  Total_newsletter  \\\n",
       "0        0      0     0         0       0             1                 0   \n",
       "1        0      0     0         0       0             2                 0   \n",
       "2        0      0     0         0       0             3                 0   \n",
       "3        0      0     0         0       0             4                 0   \n",
       "4        0      0     0         0       0             5                 0   \n",
       "\n",
       "   Total_organic  Total_other  Total_push  Total_referral  Total_social  \\\n",
       "0              0            1           0               2             0   \n",
       "1              0            1           0               2             0   \n",
       "2              0            1           0               2             0   \n",
       "3              0            1           0               2             0   \n",
       "4              0            1           0               2             0   \n",
       "\n",
       "   Views  Total_views  \n",
       "0      0            3  \n",
       "1      0            3  \n",
       "2      0            3  \n",
       "3      0            3  \n",
       "4      0            3  "
      ]
     },
     "execution_count": 43,
     "metadata": {},
     "output_type": "execute_result"
    }
   ],
   "source": [
    "#We inspect the data.\n",
    "df3_p.head()"
   ]
  },
  {
   "cell_type": "markdown",
   "id": "6c117c8b-aff5-4c8d-b525-aea7ba678587",
   "metadata": {},
   "source": [
    "## Per day"
   ]
  },
  {
   "cell_type": "code",
   "execution_count": 44,
   "id": "597d5ae2-d417-436d-9bd4-0ba778949772",
   "metadata": {},
   "outputs": [],
   "source": [
    "df3[\"Day\"] = pd.to_numeric(df3[\"Timestamp date\"].dt.dayofyear)\n",
    "df3[\"Days_passed\"] = df3.Day - df3.Day.min()"
   ]
  },
  {
   "cell_type": "code",
   "execution_count": 45,
   "id": "00138642-ad15-4781-a8f4-bdc879616c5d",
   "metadata": {},
   "outputs": [
    {
     "data": {
      "text/html": [
       "<div>\n",
       "<style scoped>\n",
       "    .dataframe tbody tr th:only-of-type {\n",
       "        vertical-align: middle;\n",
       "    }\n",
       "\n",
       "    .dataframe tbody tr th {\n",
       "        vertical-align: top;\n",
       "    }\n",
       "\n",
       "    .dataframe thead th {\n",
       "        text-align: right;\n",
       "    }\n",
       "</style>\n",
       "<table border=\"1\" class=\"dataframe\">\n",
       "  <thead>\n",
       "    <tr style=\"text-align: right;\">\n",
       "      <th></th>\n",
       "      <th>Landing page</th>\n",
       "      <th>Traffic source</th>\n",
       "      <th>Views</th>\n",
       "      <th>Newspaper</th>\n",
       "      <th>Publication date</th>\n",
       "      <th>Timestamp date</th>\n",
       "      <th>Day</th>\n",
       "      <th>Days_passed</th>\n",
       "    </tr>\n",
       "  </thead>\n",
       "  <tbody>\n",
       "    <tr>\n",
       "      <th>833608</th>\n",
       "      <td>/cnt/dmf20210412_98866505</td>\n",
       "      <td>push</td>\n",
       "      <td>1982</td>\n",
       "      <td>Noordhollandsdagblad</td>\n",
       "      <td>2021-04-12 12:00:00</td>\n",
       "      <td>2021-04-12 12:00:00</td>\n",
       "      <td>102</td>\n",
       "      <td>0</td>\n",
       "    </tr>\n",
       "    <tr>\n",
       "      <th>855272</th>\n",
       "      <td>/cnt/dmf20210414_96994101</td>\n",
       "      <td>push</td>\n",
       "      <td>1097</td>\n",
       "      <td>Noordhollandsdagblad</td>\n",
       "      <td>2021-04-14 14:00:00</td>\n",
       "      <td>2021-04-14 15:00:00</td>\n",
       "      <td>104</td>\n",
       "      <td>2</td>\n",
       "    </tr>\n",
       "    <tr>\n",
       "      <th>835736</th>\n",
       "      <td>/cnt/dmf20210413_29237055</td>\n",
       "      <td>push</td>\n",
       "      <td>1036</td>\n",
       "      <td>Noordhollandsdagblad</td>\n",
       "      <td>2021-04-13 13:00:00</td>\n",
       "      <td>2021-04-13 14:00:00</td>\n",
       "      <td>103</td>\n",
       "      <td>1</td>\n",
       "    </tr>\n",
       "    <tr>\n",
       "      <th>840060</th>\n",
       "      <td>/cnt/dmf20210413_55934505</td>\n",
       "      <td>push</td>\n",
       "      <td>1026</td>\n",
       "      <td>Noordhollandsdagblad</td>\n",
       "      <td>2021-04-13 09:00:00</td>\n",
       "      <td>2021-04-13 11:00:00</td>\n",
       "      <td>103</td>\n",
       "      <td>1</td>\n",
       "    </tr>\n",
       "    <tr>\n",
       "      <th>829253</th>\n",
       "      <td>/cnt/dmf20210412_78804060</td>\n",
       "      <td>push</td>\n",
       "      <td>1024</td>\n",
       "      <td>Noordhollandsdagblad</td>\n",
       "      <td>2021-04-12 14:00:00</td>\n",
       "      <td>2021-04-12 17:00:00</td>\n",
       "      <td>102</td>\n",
       "      <td>0</td>\n",
       "    </tr>\n",
       "    <tr>\n",
       "      <th>833609</th>\n",
       "      <td>/cnt/dmf20210412_98866505</td>\n",
       "      <td>push</td>\n",
       "      <td>864</td>\n",
       "      <td>Noordhollandsdagblad</td>\n",
       "      <td>2021-04-12 12:00:00</td>\n",
       "      <td>2021-04-12 13:00:00</td>\n",
       "      <td>102</td>\n",
       "      <td>0</td>\n",
       "    </tr>\n",
       "    <tr>\n",
       "      <th>856036</th>\n",
       "      <td>/cnt/dmf20210414_98506389</td>\n",
       "      <td>push</td>\n",
       "      <td>819</td>\n",
       "      <td>Noordhollandsdagblad</td>\n",
       "      <td>2021-04-14 19:00:00</td>\n",
       "      <td>2021-04-14 20:00:00</td>\n",
       "      <td>104</td>\n",
       "      <td>2</td>\n",
       "    </tr>\n",
       "    <tr>\n",
       "      <th>824058</th>\n",
       "      <td>/cnt/dmf20210412_47793684</td>\n",
       "      <td>push</td>\n",
       "      <td>807</td>\n",
       "      <td>Noordhollandsdagblad</td>\n",
       "      <td>2021-04-12 17:00:00</td>\n",
       "      <td>2021-04-12 19:00:00</td>\n",
       "      <td>102</td>\n",
       "      <td>0</td>\n",
       "    </tr>\n",
       "    <tr>\n",
       "      <th>826850</th>\n",
       "      <td>/cnt/dmf20210412_6422009</td>\n",
       "      <td>push</td>\n",
       "      <td>805</td>\n",
       "      <td>Noordhollandsdagblad</td>\n",
       "      <td>2021-04-12 19:00:00</td>\n",
       "      <td>2021-04-12 21:00:00</td>\n",
       "      <td>102</td>\n",
       "      <td>0</td>\n",
       "    </tr>\n",
       "    <tr>\n",
       "      <th>844426</th>\n",
       "      <td>/cnt/dmf20210413_89878831</td>\n",
       "      <td>push</td>\n",
       "      <td>776</td>\n",
       "      <td>Noordhollandsdagblad</td>\n",
       "      <td>2021-04-14 06:00:00</td>\n",
       "      <td>2021-04-14 09:00:00</td>\n",
       "      <td>104</td>\n",
       "      <td>2</td>\n",
       "    </tr>\n",
       "  </tbody>\n",
       "</table>\n",
       "</div>"
      ],
      "text/plain": [
       "                     Landing page Traffic source  Views             Newspaper  \\\n",
       "833608  /cnt/dmf20210412_98866505           push   1982  Noordhollandsdagblad   \n",
       "855272  /cnt/dmf20210414_96994101           push   1097  Noordhollandsdagblad   \n",
       "835736  /cnt/dmf20210413_29237055           push   1036  Noordhollandsdagblad   \n",
       "840060  /cnt/dmf20210413_55934505           push   1026  Noordhollandsdagblad   \n",
       "829253  /cnt/dmf20210412_78804060           push   1024  Noordhollandsdagblad   \n",
       "833609  /cnt/dmf20210412_98866505           push    864  Noordhollandsdagblad   \n",
       "856036  /cnt/dmf20210414_98506389           push    819  Noordhollandsdagblad   \n",
       "824058  /cnt/dmf20210412_47793684           push    807  Noordhollandsdagblad   \n",
       "826850   /cnt/dmf20210412_6422009           push    805  Noordhollandsdagblad   \n",
       "844426  /cnt/dmf20210413_89878831           push    776  Noordhollandsdagblad   \n",
       "\n",
       "          Publication date      Timestamp date  Day  Days_passed  \n",
       "833608 2021-04-12 12:00:00 2021-04-12 12:00:00  102            0  \n",
       "855272 2021-04-14 14:00:00 2021-04-14 15:00:00  104            2  \n",
       "835736 2021-04-13 13:00:00 2021-04-13 14:00:00  103            1  \n",
       "840060 2021-04-13 09:00:00 2021-04-13 11:00:00  103            1  \n",
       "829253 2021-04-12 14:00:00 2021-04-12 17:00:00  102            0  \n",
       "833609 2021-04-12 12:00:00 2021-04-12 13:00:00  102            0  \n",
       "856036 2021-04-14 19:00:00 2021-04-14 20:00:00  104            2  \n",
       "824058 2021-04-12 17:00:00 2021-04-12 19:00:00  102            0  \n",
       "826850 2021-04-12 19:00:00 2021-04-12 21:00:00  102            0  \n",
       "844426 2021-04-14 06:00:00 2021-04-14 09:00:00  104            2  "
      ]
     },
     "execution_count": 45,
     "metadata": {},
     "output_type": "execute_result"
    }
   ],
   "source": [
    "df3[(df3[\"Traffic source\"] == \"push\") & (df3.Day <= 105)].sort_values(\"Views\", ascending=[False]).head(10)"
   ]
  },
  {
   "cell_type": "code",
   "execution_count": 46,
   "id": "2c6706d7-f0b5-443b-94a9-95a3c91f07fd",
   "metadata": {},
   "outputs": [
    {
     "data": {
      "image/png": "[encoded data removed]",
      "text/plain": [
       "<Figure size 1152x576 with 1 Axes>"
      ]
     },
     "metadata": {
      "needs_background": "light"
     },
     "output_type": "display_data"
    }
   ],
   "source": [
    "fig, ax = plt.subplots(figsize=(16,8))\n",
    "\n",
    "sns.set(style=\"ticks\", font_scale=1.1, palette=\"bright\")\n",
    "\n",
    "sns.lineplot(x=\"Day\", y=\"Views\", hue=\"Traffic source\", data=df3, ax=ax)\n",
    "\n",
    "ax.set_xlabel(\"Day of the year\")\n",
    "ax.set_ylabel(\"Average article views per day\")\n",
    "\n",
    "plt.savefig(\"Day of the year x Average article views.pdf\", format=\"pdf\", bbox_inches=\"tight\")"
   ]
  },
  {
   "cell_type": "markdown",
   "id": "78287945-041f-40a5-987e-cb26bf74d58b",
   "metadata": {},
   "source": [
    "df3[\"First timestamp date\"] = df3.groupby([\"Newspaper\", \"Landing page\"])[\"Timestamp\"].transform(\"first\")"
   ]
  },
  {
   "cell_type": "markdown",
   "id": "572f514c-a712-4766-8d96-03e093b0667b",
   "metadata": {},
   "source": [
    "df4 = df3[df3[\"Publication date\"] >= df3[\"First timestamp date\"]].reset_index(drop=True)"
   ]
  },
  {
   "cell_type": "markdown",
   "id": "c8c5878a-e410-4699-b30b-cfcc0a79d238",
   "metadata": {},
   "source": [
    "df4.head()"
   ]
  },
  {
   "cell_type": "markdown",
   "id": "83c92db1-166d-4252-8ec5-228123d9a2b9",
   "metadata": {},
   "source": [
    "df4.drop(columns = [\"First timestamp date\"], inplace=True)"
   ]
  },
  {
   "cell_type": "markdown",
   "id": "7aa8a61c-d4b2-4517-9cc7-8c5ff9477605",
   "metadata": {},
   "source": [
    "print(df4.duplicated().value_counts())"
   ]
  },
  {
   "cell_type": "markdown",
   "id": "256dc7cf-f711-4ba1-ac5a-f005839b1024",
   "metadata": {},
   "source": [
    "df4.drop_duplicates(inplace=True)"
   ]
  },
  {
   "cell_type": "markdown",
   "id": "ec0c0fbd-13ae-4e2a-9ebf-78dd3258b5dc",
   "metadata": {},
   "source": [
    "df4.head()"
   ]
  },
  {
   "cell_type": "markdown",
   "id": "e530c6aa-0e97-4823-824a-ba72c91a7fb9",
   "metadata": {},
   "source": [
    "df4[\"Timestamp\"] = pd.to_datetime(df4.Timestamp, format=\"%Y-%m-%d %H:%M:%S\")"
   ]
  },
  {
   "cell_type": "markdown",
   "id": "40eca411-78a5-4509-90b0-e560ba7d8d09",
   "metadata": {},
   "source": [
    "df4.head()"
   ]
  },
  {
   "cell_type": "markdown",
   "id": "7e3378de-d1d0-4885-a89a-093baa64562d",
   "metadata": {},
   "source": [
    "df5_p = df5_p.groupby([\"Newspaper\", \"Landing page\"]).apply(lambda x : x.set_index(\"Timestamp\").resample(\"1H\").sum()).reset_index()"
   ]
  },
  {
   "cell_type": "markdown",
   "id": "5be3b4e8-f5c7-45cd-9269-ce3468d5ecc3",
   "metadata": {},
   "source": [
    "for source in [\"newsletter\", \"organic\", \"other\", \"push\", \"referral\", \"social\"]:\n",
    "    df5_p[f\"Total {source} views\"] = df5_p.groupby([\"Newspaper\", \"Landing_page\"])[f\"{source}\"].transform(\"sum\")"
   ]
  },
  {
   "cell_type": "markdown",
   "id": "8314bd4a-1f59-4d36-bae4-b5320db19daa",
   "metadata": {},
   "source": [
    "df5_p.head()"
   ]
  },
  {
   "cell_type": "markdown",
   "id": "4a7c4cee-9a5b-4d9d-bed3-9e709a0c04c8",
   "metadata": {},
   "source": [
    "df5_a = df4.groupby([\"Newspaper\", \"Landing page\", \"Traffic source\"]).apply(lambda x : x\n",
    "                                                                    .drop_duplicates(\"Timestamp\")\n",
    "                                                                    .set_index(\"Timestamp\")\n",
    "                                                                    .resample(\"1H\")\n",
    "                                                                    .sum()).reset_index()"
   ]
  },
  {
   "cell_type": "markdown",
   "id": "a40b18cb-d67c-4f66-904d-b18d3220302b",
   "metadata": {},
   "source": [
    "df5_a.columns = [c.replace(\" \", \"_\").replace(\"-\", \"_\").replace(\"(\", \"\").replace(\")\", \"\").replace(\".\", \"\") for c in df5_a.columns]"
   ]
  },
  {
   "cell_type": "markdown",
   "id": "728a6fdb-016e-4756-a2c3-3f3ac43a3c95",
   "metadata": {},
   "source": [
    "df5_a[\"Hour\"] = 1\n",
    "df5_a[\"Hours_passed\"] = df5_a.groupby([\"Newspaper\", \"Landing_page\", \"Traffic_source\"])[\"Hour\"].cumsum()"
   ]
  },
  {
   "cell_type": "markdown",
   "id": "9a55a653-a5eb-4820-aa29-ba85f305dc25",
   "metadata": {},
   "source": [
    "df5_a.drop(columns = [\"Hour\"], inplace = True)"
   ]
  },
  {
   "cell_type": "markdown",
   "id": "78669015-e788-4a08-88de-e75fa74d7355",
   "metadata": {},
   "source": [
    "## Traffic Source Interactions"
   ]
  },
  {
   "cell_type": "code",
   "execution_count": 48,
   "id": "bdddc057-cd3b-4047-821c-f59f7aa4f3a5",
   "metadata": {},
   "outputs": [],
   "source": [
    "#We import some extra libraries for the models that we will run.\n",
    "import  scipy.signal.signaltools\n",
    "\n",
    "def _centered(arr, newsize):\n",
    "    # Return the center newsize portion of the array.\n",
    "    newsize = np.asarray(newsize)\n",
    "    currsize = np.array(arr.shape)\n",
    "    startind = (currsize - newsize) // 2\n",
    "    endind = startind + newsize\n",
    "    myslice = [slice(startind[k], endind[k]) for k in range(len(endind))]\n",
    "    return arr[tuple(myslice)]\n",
    "\n",
    "scipy.signal.signaltools._centered = _centered\n",
    "import statsmodels.api as sm\n",
    "import statsmodels.formula.api as smf\n",
    "from statsmodels.tools.sm_exceptions import ConvergenceWarning\n",
    "import itertools"
   ]
  },
  {
   "cell_type": "code",
   "execution_count": 49,
   "id": "c97a34ac-e7aa-4ba9-947e-53d107ff7a98",
   "metadata": {},
   "outputs": [],
   "source": [
    "#We create a non-lagged dataset for the statistical models.\n",
    "df3_p_1 = df3_p.groupby([\"Newspaper\", \"Landing_page\"]).nth(0).reset_index()"
   ]
  },
  {
   "cell_type": "code",
   "execution_count": 50,
   "id": "2693ee65-9667-4713-9129-8db933f925cf",
   "metadata": {},
   "outputs": [],
   "source": [
    "#We will melt the dataset (so make it long again) as this will make the standardization procedure more easy.\n",
    "total_z_scores = df3_p_1.melt(id_vars=[\"Newspaper\", \"Landing_page\"],\n",
    "                              value_vars=[\"Total_newsletter\", \n",
    "                                          \"Total_organic\",\n",
    "                                          \"Total_other\", \n",
    "                                          \"Total_push\", \n",
    "                                          \"Total_referral\", \n",
    "                                          \"Total_social\",\n",
    "                                          \"Total_views\"])"
   ]
  },
  {
   "cell_type": "code",
   "execution_count": 51,
   "id": "98a54d83-fe8d-4940-ad18-62ba8bfc72ef",
   "metadata": {},
   "outputs": [
    {
     "data": {
      "text/html": [
       "<div>\n",
       "<style scoped>\n",
       "    .dataframe tbody tr th:only-of-type {\n",
       "        vertical-align: middle;\n",
       "    }\n",
       "\n",
       "    .dataframe tbody tr th {\n",
       "        vertical-align: top;\n",
       "    }\n",
       "\n",
       "    .dataframe thead th {\n",
       "        text-align: right;\n",
       "    }\n",
       "</style>\n",
       "<table border=\"1\" class=\"dataframe\">\n",
       "  <thead>\n",
       "    <tr style=\"text-align: right;\">\n",
       "      <th></th>\n",
       "      <th>Newspaper</th>\n",
       "      <th>Landing_page</th>\n",
       "      <th>variable</th>\n",
       "      <th>value</th>\n",
       "    </tr>\n",
       "  </thead>\n",
       "  <tbody>\n",
       "    <tr>\n",
       "      <th>0</th>\n",
       "      <td>Gooieneemlander</td>\n",
       "      <td>/cnt/dmf20190705_81476516</td>\n",
       "      <td>Total_newsletter</td>\n",
       "      <td>0</td>\n",
       "    </tr>\n",
       "    <tr>\n",
       "      <th>1</th>\n",
       "      <td>Gooieneemlander</td>\n",
       "      <td>/cnt/dmf20200501_53506347</td>\n",
       "      <td>Total_newsletter</td>\n",
       "      <td>1</td>\n",
       "    </tr>\n",
       "    <tr>\n",
       "      <th>2</th>\n",
       "      <td>Gooieneemlander</td>\n",
       "      <td>/cnt/dmf20201026_62507126</td>\n",
       "      <td>Total_newsletter</td>\n",
       "      <td>0</td>\n",
       "    </tr>\n",
       "    <tr>\n",
       "      <th>3</th>\n",
       "      <td>Gooieneemlander</td>\n",
       "      <td>/cnt/dmf20201113_84348583</td>\n",
       "      <td>Total_newsletter</td>\n",
       "      <td>0</td>\n",
       "    </tr>\n",
       "    <tr>\n",
       "      <th>4</th>\n",
       "      <td>Gooieneemlander</td>\n",
       "      <td>/cnt/dmf20201228_15837729</td>\n",
       "      <td>Total_newsletter</td>\n",
       "      <td>0</td>\n",
       "    </tr>\n",
       "  </tbody>\n",
       "</table>\n",
       "</div>"
      ],
      "text/plain": [
       "         Newspaper               Landing_page          variable  value\n",
       "0  Gooieneemlander  /cnt/dmf20190705_81476516  Total_newsletter      0\n",
       "1  Gooieneemlander  /cnt/dmf20200501_53506347  Total_newsletter      1\n",
       "2  Gooieneemlander  /cnt/dmf20201026_62507126  Total_newsletter      0\n",
       "3  Gooieneemlander  /cnt/dmf20201113_84348583  Total_newsletter      0\n",
       "4  Gooieneemlander  /cnt/dmf20201228_15837729  Total_newsletter      0"
      ]
     },
     "execution_count": 51,
     "metadata": {},
     "output_type": "execute_result"
    }
   ],
   "source": [
    "#We inspect the data.\n",
    "total_z_scores.head()"
   ]
  },
  {
   "cell_type": "code",
   "execution_count": 52,
   "id": "1a0585b4-c342-4517-a68e-a215ec5d29c0",
   "metadata": {},
   "outputs": [],
   "source": [
    "#We add a column in which we standardize the total views for every traffic source of every newspaper.\n",
    "total_z_scores[\"Z_Total_Views\"] = total_z_scores.groupby([\"Newspaper\", \"variable\"])[\"value\"].transform(lambda x: stats.zscore(x))"
   ]
  },
  {
   "cell_type": "code",
   "execution_count": 53,
   "id": "36085355-d121-44ae-a599-22ba9a893f3d",
   "metadata": {},
   "outputs": [
    {
     "data": {
      "text/plain": [
       "count    3.258500e+05\n",
       "mean    -1.138451e-16\n",
       "std      1.000002e+00\n",
       "min     -3.470458e-01\n",
       "25%     -2.097443e-01\n",
       "50%     -1.514412e-01\n",
       "75%     -1.001653e-01\n",
       "max      9.390850e+01\n",
       "Name: Z_Total_Views, dtype: float64"
      ]
     },
     "execution_count": 53,
     "metadata": {},
     "output_type": "execute_result"
    }
   ],
   "source": [
    "#We inspect the column.\n",
    "total_z_scores.Z_Total_Views.describe()"
   ]
  },
  {
   "cell_type": "code",
   "execution_count": 54,
   "id": "94bd8e1d-d2f3-4175-a11a-a3013aebcd74",
   "metadata": {},
   "outputs": [],
   "source": [
    "#We put it back in its wide format as before.\n",
    "total_z_scores = total_z_scores.pivot_table(columns=\"variable\", \n",
    "                                            index = [\"Newspaper\", \"Landing_page\"],\n",
    "                                            values=\"Z_Total_Views\", fill_value=0).reset_index().rename_axis(None, axis=1)"
   ]
  },
  {
   "cell_type": "code",
   "execution_count": 55,
   "id": "a95fd472-840c-480a-8c25-399a2331700e",
   "metadata": {},
   "outputs": [
    {
     "data": {
      "text/html": [
       "<div>\n",
       "<style scoped>\n",
       "    .dataframe tbody tr th:only-of-type {\n",
       "        vertical-align: middle;\n",
       "    }\n",
       "\n",
       "    .dataframe tbody tr th {\n",
       "        vertical-align: top;\n",
       "    }\n",
       "\n",
       "    .dataframe thead th {\n",
       "        text-align: right;\n",
       "    }\n",
       "</style>\n",
       "<table border=\"1\" class=\"dataframe\">\n",
       "  <thead>\n",
       "    <tr style=\"text-align: right;\">\n",
       "      <th></th>\n",
       "      <th>Newspaper</th>\n",
       "      <th>Landing_page</th>\n",
       "      <th>Total_newsletter</th>\n",
       "      <th>Total_organic</th>\n",
       "      <th>Total_other</th>\n",
       "      <th>Total_push</th>\n",
       "      <th>Total_referral</th>\n",
       "      <th>Total_social</th>\n",
       "      <th>Total_views</th>\n",
       "    </tr>\n",
       "  </thead>\n",
       "  <tbody>\n",
       "    <tr>\n",
       "      <th>0</th>\n",
       "      <td>Gooieneemlander</td>\n",
       "      <td>/cnt/dmf20190705_81476516</td>\n",
       "      <td>-0.256425</td>\n",
       "      <td>-0.151025</td>\n",
       "      <td>-0.211864</td>\n",
       "      <td>-0.288219</td>\n",
       "      <td>-0.062082</td>\n",
       "      <td>-0.110456</td>\n",
       "      <td>-0.161289</td>\n",
       "    </tr>\n",
       "    <tr>\n",
       "      <th>1</th>\n",
       "      <td>Gooieneemlander</td>\n",
       "      <td>/cnt/dmf20200501_53506347</td>\n",
       "      <td>-0.246437</td>\n",
       "      <td>-0.151025</td>\n",
       "      <td>-0.211864</td>\n",
       "      <td>-0.288219</td>\n",
       "      <td>-0.051875</td>\n",
       "      <td>-0.110456</td>\n",
       "      <td>-0.153762</td>\n",
       "    </tr>\n",
       "    <tr>\n",
       "      <th>2</th>\n",
       "      <td>Gooieneemlander</td>\n",
       "      <td>/cnt/dmf20201026_62507126</td>\n",
       "      <td>-0.256425</td>\n",
       "      <td>-0.146200</td>\n",
       "      <td>-0.211864</td>\n",
       "      <td>-0.288219</td>\n",
       "      <td>-0.064351</td>\n",
       "      <td>-0.110456</td>\n",
       "      <td>-0.162042</td>\n",
       "    </tr>\n",
       "    <tr>\n",
       "      <th>3</th>\n",
       "      <td>Gooieneemlander</td>\n",
       "      <td>/cnt/dmf20201113_84348583</td>\n",
       "      <td>-0.256425</td>\n",
       "      <td>-0.151025</td>\n",
       "      <td>-0.190657</td>\n",
       "      <td>-0.288219</td>\n",
       "      <td>-0.064351</td>\n",
       "      <td>-0.101459</td>\n",
       "      <td>-0.157526</td>\n",
       "    </tr>\n",
       "    <tr>\n",
       "      <th>4</th>\n",
       "      <td>Gooieneemlander</td>\n",
       "      <td>/cnt/dmf20201228_15837729</td>\n",
       "      <td>-0.256425</td>\n",
       "      <td>-0.151025</td>\n",
       "      <td>-0.211864</td>\n",
       "      <td>-0.288219</td>\n",
       "      <td>-0.064351</td>\n",
       "      <td>-0.110456</td>\n",
       "      <td>-0.162794</td>\n",
       "    </tr>\n",
       "  </tbody>\n",
       "</table>\n",
       "</div>"
      ],
      "text/plain": [
       "         Newspaper               Landing_page  Total_newsletter  \\\n",
       "0  Gooieneemlander  /cnt/dmf20190705_81476516         -0.256425   \n",
       "1  Gooieneemlander  /cnt/dmf20200501_53506347         -0.246437   \n",
       "2  Gooieneemlander  /cnt/dmf20201026_62507126         -0.256425   \n",
       "3  Gooieneemlander  /cnt/dmf20201113_84348583         -0.256425   \n",
       "4  Gooieneemlander  /cnt/dmf20201228_15837729         -0.256425   \n",
       "\n",
       "   Total_organic  Total_other  Total_push  Total_referral  Total_social  \\\n",
       "0      -0.151025    -0.211864   -0.288219       -0.062082     -0.110456   \n",
       "1      -0.151025    -0.211864   -0.288219       -0.051875     -0.110456   \n",
       "2      -0.146200    -0.211864   -0.288219       -0.064351     -0.110456   \n",
       "3      -0.151025    -0.190657   -0.288219       -0.064351     -0.101459   \n",
       "4      -0.151025    -0.211864   -0.288219       -0.064351     -0.110456   \n",
       "\n",
       "   Total_views  \n",
       "0    -0.161289  \n",
       "1    -0.153762  \n",
       "2    -0.162042  \n",
       "3    -0.157526  \n",
       "4    -0.162794  "
      ]
     },
     "execution_count": 55,
     "metadata": {},
     "output_type": "execute_result"
    }
   ],
   "source": [
    "#We inspect the data.\n",
    "total_z_scores.head()"
   ]
  },
  {
   "cell_type": "code",
   "execution_count": 56,
   "id": "c1bc364c-db36-411c-aec6-12ea69e30629",
   "metadata": {},
   "outputs": [],
   "source": [
    "#We create a list of all traffic sources.\n",
    "sources = [\"Total_newsletter\", \"Total_organic\", \"Total_other\", \"Total_push\", \"Total_referral\", \"Total_social\"]"
   ]
  },
  {
   "cell_type": "code",
   "execution_count": 57,
   "id": "e3cd0abe-a22a-4539-b700-89f70ac40bbd",
   "metadata": {},
   "outputs": [],
   "source": [
    "#We create a formula with total views being the dependent variable.\n",
    "#As predictors we add all the traffic sources total views, and in addition al combinations of two.\n",
    "formula = \"Total_views ~ \" + re.sub(\"[^A-Za-z0-9*+_ ]+\", \"\", str(list(itertools.combinations(sources, 2))).replace(\"),\", \" +\").replace(\", \", \"*\"))"
   ]
  },
  {
   "cell_type": "code",
   "execution_count": 58,
   "id": "5816573e-70b0-44ba-9d34-51bb9ef8081d",
   "metadata": {},
   "outputs": [
    {
     "name": "stdout",
     "output_type": "stream",
     "text": [
      "Total_views ~ Total_newsletter*Total_organic + Total_newsletter*Total_other + Total_newsletter*Total_push + Total_newsletter*Total_referral + Total_newsletter*Total_social + Total_organic*Total_other + Total_organic*Total_push + Total_organic*Total_referral + Total_organic*Total_social + Total_other*Total_push + Total_other*Total_referral + Total_other*Total_social + Total_push*Total_referral + Total_push*Total_social + Total_referral*Total_social\n"
     ]
    }
   ],
   "source": [
    "#We inspect the formula.\n",
    "print(formula)"
   ]
  },
  {
   "cell_type": "markdown",
   "id": "c767da0a-d407-4b50-ae57-ad6ef7f43086",
   "metadata": {},
   "source": [
    "## Heatmap Zscore(Total Source Views)"
   ]
  },
  {
   "cell_type": "code",
   "execution_count": 59,
   "id": "633ce139-2c52-4e77-b033-80b7e744344a",
   "metadata": {},
   "outputs": [
    {
     "data": {
      "image/png": "[encoded data removed]",
      "text/plain": [
       "<Figure size 600x600 with 2 Axes>"
      ]
     },
     "metadata": {},
     "output_type": "display_data"
    }
   ],
   "source": [
    "#We first run a correlation plot.\n",
    "fig = plt.figure(figsize=(6,6), dpi = 100)\n",
    "sns.set(font_scale=.75)\n",
    "sns.heatmap(total_z_scores[sources].corr(), annot = True, fmt = '.2f', linewidth=1, linecolor='w')\n",
    "plt.xticks(rotation=45, ha='right') \n",
    "plt.savefig(\"z-score Total source views correlations.pdf\", format=\"pdf\", bbox_inches=\"tight\")"
   ]
  },
  {
   "cell_type": "markdown",
   "id": "a678fb3c-4bcf-4531-a279-d6c0fa02ce55",
   "metadata": {},
   "source": [
    "## OLS Total views ~ zscore(Total source views)*zscore(Total source views)"
   ]
  },
  {
   "cell_type": "code",
   "execution_count": 60,
   "id": "5dd44d2f-339e-4f0c-ae7c-5675b177b46e",
   "metadata": {},
   "outputs": [
    {
     "name": "stdout",
     "output_type": "stream",
     "text": [
      "                            OLS Regression Results                            \n",
      "==============================================================================\n",
      "Dep. Variable:            Total_views   R-squared:                       0.941\n",
      "Model:                            OLS   Adj. R-squared:                  0.941\n",
      "Method:                 Least Squares   F-statistic:                 3.507e+04\n",
      "Date:                Wed, 01 May 2024   Prob (F-statistic):               0.00\n",
      "Time:                        15:05:18   Log-Likelihood:                -343.95\n",
      "No. Observations:               46550   AIC:                             731.9\n",
      "Df Residuals:                   46528   BIC:                             924.4\n",
      "Df Model:                          21                                         \n",
      "Covariance Type:            nonrobust                                         \n",
      "===================================================================================================\n",
      "                                      coef    std err          t      P>|t|      [0.025      0.975]\n",
      "---------------------------------------------------------------------------------------------------\n",
      "Intercept                          -0.0057      0.001     -4.931      0.000      -0.008      -0.003\n",
      "Total_newsletter                    0.0871      0.002     42.375      0.000       0.083       0.091\n",
      "Total_organic                       0.1946      0.002     81.741      0.000       0.190       0.199\n",
      "Total_newsletter:Total_organic     -0.0044      0.000    -11.137      0.000      -0.005      -0.004\n",
      "Total_other                         0.0331      0.003     10.393      0.000       0.027       0.039\n",
      "Total_newsletter:Total_other       -0.0079      0.000    -21.266      0.000      -0.009      -0.007\n",
      "Total_push                          0.1017      0.002     60.182      0.000       0.098       0.105\n",
      "Total_newsletter:Total_push         0.0084      0.000     18.453      0.000       0.007       0.009\n",
      "Total_referral                      0.3185      0.002    141.861      0.000       0.314       0.323\n",
      "Total_newsletter:Total_referral     0.0065      0.000     19.181      0.000       0.006       0.007\n",
      "Total_social                        0.5723      0.003    212.198      0.000       0.567       0.578\n",
      "Total_newsletter:Total_social       0.0128      0.000     61.318      0.000       0.012       0.013\n",
      "Total_organic:Total_other           0.0133      0.000     80.251      0.000       0.013       0.014\n",
      "Total_organic:Total_push            0.0024      0.000      6.585      0.000       0.002       0.003\n",
      "Total_organic:Total_referral       -0.0122      0.000    -27.317      0.000      -0.013      -0.011\n",
      "Total_organic:Total_social         -0.0029      0.000    -18.260      0.000      -0.003      -0.003\n",
      "Total_other:Total_push             -0.0073      0.000    -16.345      0.000      -0.008      -0.006\n",
      "Total_other:Total_referral          0.0130      0.000     52.826      0.000       0.013       0.014\n",
      "Total_other:Total_social           -0.0032      0.000    -13.632      0.000      -0.004      -0.003\n",
      "Total_push:Total_referral          -0.0117      0.000    -35.197      0.000      -0.012      -0.011\n",
      "Total_push:Total_social            -0.0098      0.000    -22.948      0.000      -0.011      -0.009\n",
      "Total_referral:Total_social        -0.0057      0.000    -15.309      0.000      -0.006      -0.005\n",
      "==============================================================================\n",
      "Omnibus:                    43308.757   Durbin-Watson:                   1.987\n",
      "Prob(Omnibus):                  0.000   Jarque-Bera (JB):        404103281.475\n",
      "Skew:                           2.927   Prob(JB):                         0.00\n",
      "Kurtosis:                     459.411   Cond. No.                         77.7\n",
      "==============================================================================\n",
      "\n",
      "Notes:\n",
      "[1] Standard Errors assume that the covariance matrix of the errors is correctly specified.\n"
     ]
    }
   ],
   "source": [
    "#We run an OLS with our earlier defined formula.\n",
    "md = smf.ols(formula, total_z_scores)\n",
    "mdf = md.fit()\n",
    "print(mdf.summary())"
   ]
  },
  {
   "cell_type": "code",
   "execution_count": 61,
   "id": "88ad757a-7259-4296-8a62-f5c8073c8e28",
   "metadata": {},
   "outputs": [
    {
     "name": "stdout",
     "output_type": "stream",
     "text": [
      "\\begin{center}\n",
      "\\begin{tabular}{lclc}\n",
      "\\toprule\n",
      "\\textbf{Dep. Variable:}                    &   Total\\_views   & \\textbf{  R-squared:         } &       0.941    \\\\\n",
      "\\textbf{Model:}                            &       OLS        & \\textbf{  Adj. R-squared:    } &       0.941    \\\\\n",
      "\\textbf{Method:}                           &  Least Squares   & \\textbf{  F-statistic:       } &   3.507e+04    \\\\\n",
      "\\textbf{Date:}                             & Wed, 01 May 2024 & \\textbf{  Prob (F-statistic):} &       0.00     \\\\\n",
      "\\textbf{Time:}                             &     15:05:18     & \\textbf{  Log-Likelihood:    } &     -343.95    \\\\\n",
      "\\textbf{No. Observations:}                 &       46550      & \\textbf{  AIC:               } &       731.9    \\\\\n",
      "\\textbf{Df Residuals:}                     &       46528      & \\textbf{  BIC:               } &       924.4    \\\\\n",
      "\\textbf{Df Model:}                         &          21      & \\textbf{                     } &                \\\\\n",
      "\\bottomrule\n",
      "\\end{tabular}\n",
      "\\begin{tabular}{lcccccc}\n",
      "                                           & \\textbf{coef} & \\textbf{std err} & \\textbf{t} & \\textbf{P$> |$t$|$} & \\textbf{[0.025} & \\textbf{0.975]}  \\\\\n",
      "\\midrule\n",
      "\\textbf{Intercept}                         &      -0.0057  &        0.001     &    -4.931  &         0.000        &       -0.008    &       -0.003     \\\\\n",
      "\\textbf{Total\\_newsletter}                 &       0.0871  &        0.002     &    42.375  &         0.000        &        0.083    &        0.091     \\\\\n",
      "\\textbf{Total\\_organic}                    &       0.1946  &        0.002     &    81.741  &         0.000        &        0.190    &        0.199     \\\\\n",
      "\\textbf{Total\\_newsletter:Total\\_organic}  &      -0.0044  &        0.000     &   -11.137  &         0.000        &       -0.005    &       -0.004     \\\\\n",
      "\\textbf{Total\\_other}                      &       0.0331  &        0.003     &    10.393  &         0.000        &        0.027    &        0.039     \\\\\n",
      "\\textbf{Total\\_newsletter:Total\\_other}    &      -0.0079  &        0.000     &   -21.266  &         0.000        &       -0.009    &       -0.007     \\\\\n",
      "\\textbf{Total\\_push}                       &       0.1017  &        0.002     &    60.182  &         0.000        &        0.098    &        0.105     \\\\\n",
      "\\textbf{Total\\_newsletter:Total\\_push}     &       0.0084  &        0.000     &    18.453  &         0.000        &        0.007    &        0.009     \\\\\n",
      "\\textbf{Total\\_referral}                   &       0.3185  &        0.002     &   141.861  &         0.000        &        0.314    &        0.323     \\\\\n",
      "\\textbf{Total\\_newsletter:Total\\_referral} &       0.0065  &        0.000     &    19.181  &         0.000        &        0.006    &        0.007     \\\\\n",
      "\\textbf{Total\\_social}                     &       0.5723  &        0.003     &   212.198  &         0.000        &        0.567    &        0.578     \\\\\n",
      "\\textbf{Total\\_newsletter:Total\\_social}   &       0.0128  &        0.000     &    61.318  &         0.000        &        0.012    &        0.013     \\\\\n",
      "\\textbf{Total\\_organic:Total\\_other}       &       0.0133  &        0.000     &    80.251  &         0.000        &        0.013    &        0.014     \\\\\n",
      "\\textbf{Total\\_organic:Total\\_push}        &       0.0024  &        0.000     &     6.585  &         0.000        &        0.002    &        0.003     \\\\\n",
      "\\textbf{Total\\_organic:Total\\_referral}    &      -0.0122  &        0.000     &   -27.317  &         0.000        &       -0.013    &       -0.011     \\\\\n",
      "\\textbf{Total\\_organic:Total\\_social}      &      -0.0029  &        0.000     &   -18.260  &         0.000        &       -0.003    &       -0.003     \\\\\n",
      "\\textbf{Total\\_other:Total\\_push}          &      -0.0073  &        0.000     &   -16.345  &         0.000        &       -0.008    &       -0.006     \\\\\n",
      "\\textbf{Total\\_other:Total\\_referral}      &       0.0130  &        0.000     &    52.826  &         0.000        &        0.013    &        0.014     \\\\\n",
      "\\textbf{Total\\_other:Total\\_social}        &      -0.0032  &        0.000     &   -13.632  &         0.000        &       -0.004    &       -0.003     \\\\\n",
      "\\textbf{Total\\_push:Total\\_referral}       &      -0.0117  &        0.000     &   -35.197  &         0.000        &       -0.012    &       -0.011     \\\\\n",
      "\\textbf{Total\\_push:Total\\_social}         &      -0.0098  &        0.000     &   -22.948  &         0.000        &       -0.011    &       -0.009     \\\\\n",
      "\\textbf{Total\\_referral:Total\\_social}     &      -0.0057  &        0.000     &   -15.309  &         0.000        &       -0.006    &       -0.005     \\\\\n",
      "\\bottomrule\n",
      "\\end{tabular}\n",
      "\\begin{tabular}{lclc}\n",
      "\\textbf{Omnibus:}       & 43308.757 & \\textbf{  Durbin-Watson:     } &       1.987    \\\\\n",
      "\\textbf{Prob(Omnibus):} &    0.000  & \\textbf{  Jarque-Bera (JB):  } & 404103281.475  \\\\\n",
      "\\textbf{Skew:}          &    2.927  & \\textbf{  Prob(JB):          } &        0.00    \\\\\n",
      "\\textbf{Kurtosis:}      &  459.411  & \\textbf{  Cond. No.          } &        77.7    \\\\\n",
      "\\bottomrule\n",
      "\\end{tabular}\n",
      "%\\caption{OLS Regression Results}\n",
      "\\end{center}\n",
      "\n",
      "Notes: \\newline\n",
      " [1] Standard Errors assume that the covariance matrix of the errors is correctly specified.\n"
     ]
    }
   ],
   "source": [
    "summary = mdf.summary()\n",
    "print(summary.as_latex())"
   ]
  },
  {
   "cell_type": "markdown",
   "id": "a92ce8ac-a0dc-4c7a-a459-bd9b12e39df3",
   "metadata": {},
   "source": [
    "## RQ3: Trajectory & Traffic source"
   ]
  },
  {
   "cell_type": "code",
   "execution_count": 68,
   "id": "23e00ef1-6c8b-4460-9585-0210cd327e95",
   "metadata": {},
   "outputs": [
    {
     "data": {
      "image/png": "[encoded data removed]",
      "text/plain": [
       "<Figure size 1152x576 with 1 Axes>"
      ]
     },
     "metadata": {},
     "output_type": "display_data"
    }
   ],
   "source": [
    "#We plot the trajectory of each traffic source over each other.\n",
    "#We do so till the median shelf-life (34 hours).\n",
    "fig, ax = plt.subplots(figsize=(16, 8))\n",
    "\n",
    "sns.set(style=\"ticks\", font_scale=1.5, palette=\"bright\")\n",
    "\n",
    "linestyles = ['-', '--', '-.', ':', (0, (3, 5, 1, 5)), (0, (1, 1))]\n",
    "\n",
    "for source, color, linestyle in zip([\"newsletter\", \"other\", \"referral\", \"organic\", \"social\", \"push\"], \n",
    "                                    [\"blue\", \"orange\", \"green\", \"red\", \"purple\", \"brown\"],\n",
    "                                    linestyles):\n",
    "    sns.lineplot(x=\"Hours_passed\", y=source, data=df3_p, ax=ax, label=source, color=color, linestyle=linestyle)\n",
    "\n",
    "ax.set_xlabel(\"Hours passed since publication (till median shelf-life)\")\n",
    "ax.set_ylabel(\"Average views per hour\")\n",
    "\n",
    "ax.set_xticks(np.arange(0, 34, 5))\n",
    "ax.set_xlim(1, 34)\n",
    "\n",
    "plt.savefig(\"Hours passed x Number of views x Traffic source (p).pdf\", format=\"pdf\", bbox_inches=\"tight\")"
   ]
  },
  {
   "cell_type": "markdown",
   "id": "dec0ac6a-0fc6-4535-beba-076b80348f12",
   "metadata": {},
   "source": [
    "fig, ax = plt.subplots(figsize=(16,8))\n",
    "\n",
    "sns.set(style=\"ticks\", font_scale=1.1, palette=\"bright\")\n",
    "\n",
    "sns.lineplot(x=\"Hours_passed\", y=\"Views\", hue=\"Traffic_source\", data=df5_a, ax=ax)\n",
    "\n",
    "ax.set_xlabel(\"Hours passed since first appearance in source\")\n",
    "ax.set_ylabel(\"Average views per hour\")\n",
    "\n",
    "ax.set_xticks(np.arange(0,73,5))\n",
    "\n",
    "ax.set_xlim(1,73)\n",
    "\n",
    "plt.savefig(\"Hours passed x Number of views x Traffic source (a) (V1).pdf\", format=\"pdf\", bbox_inches=\"tight\")"
   ]
  },
  {
   "cell_type": "markdown",
   "id": "2f49f8ad-999b-4306-bdb8-985ec6206b2f",
   "metadata": {},
   "source": [
    "push = df5_a[df5_a[\"Traffic_source\"] == \"push\"]\n",
    "other = df5_a[df5_a[\"Traffic_source\"] != \"push\"]"
   ]
  },
  {
   "cell_type": "markdown",
   "id": "1b16141b-3e8e-4dde-b46f-2db7a5494ef5",
   "metadata": {},
   "source": [
    "fig, ax = plt.subplots(nrows=1, ncols=2, figsize=(18,6))\n",
    "\n",
    "sns.set(style=\"ticks\", font_scale=1.1, palette=\"bright\")\n",
    "\n",
    "sns.lineplot(x=\"Hours_passed\", y=\"Views\", data=push, color = \"brown\", ax=ax[0])\n",
    "sns.lineplot(x=\"Hours_passed\", y=\"Views\", data=other, hue=\"Traffic_source\", ax=ax[1])\n",
    "    \n",
    "ax[0].set_title(\"Push\")\n",
    "ax[0].set_xlim(1,73)\n",
    "ax[0].set_xlabel(\"Hours passed since first appearance in source\")\n",
    "ax[0].set_ylabel(\"Average views per hour\")\n",
    "\n",
    "ax[1].set_title(\"Other\")\n",
    "ax[1].set_xlim(1,73)\n",
    "ax[1].set_xlabel(\"Hours passed since first appearance in source\")\n",
    "ax[1].set_ylabel(\"Average views per hour\")\n",
    "\n",
    "plt.savefig(\"Hours passed x Number of views x Traffic source (a) (V2).pdf\", format=\"pdf\", bbox_inches=\"tight\")"
   ]
  }
 ],
 "metadata": {
  "kernelspec": {
   "display_name": "Python 3 (ipykernel)",
   "language": "python",
   "name": "python3"
  },
  "language_info": {
   "codemirror_mode": {
    "name": "ipython",
    "version": 3
   },
   "file_extension": ".py",
   "mimetype": "text/x-python",
   "name": "python",
   "nbconvert_exporter": "python",
   "pygments_lexer": "ipython3",
   "version": "3.9.5"
  }
 },
 "nbformat": 4,
 "nbformat_minor": 5
}
